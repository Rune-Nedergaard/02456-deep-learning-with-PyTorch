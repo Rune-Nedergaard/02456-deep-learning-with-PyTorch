{
 "cells": [
  {
   "cell_type": "markdown",
   "metadata": {
    "id": "HAva8TnYFtFu",
    "pycharm": {
     "name": "#%% md\n"
    }
   },
   "source": [
    "# Contents and why we need this lab\n",
    "\n",
    "This lab is about implementing neural networks yourself before we start using other frameworks which hide some of the computation from you. It builds on the first lab where you derived the equations for neural network forward and backward propagation and gradient descent parameter updates. \n",
    "\n",
    "All the frameworks for deep learning you will meet from now on uses automatic differentiation (autodiff) so you don't have to code the backward step yourself. In this version of this lab you will develop your own autodif implementation. We also have a [version](https://github.com/DeepLearningDTU/02456-deep-learning-with-PyTorch/blob/master/2_Feedforward_NumPy/2.1-FNN-NumPy.ipynb) of this lab where you have to code the backward pass explicitly in Numpy."
   ]
  },
  {
   "cell_type": "markdown",
   "metadata": {
    "id": "sCa7HzwpFtFy",
    "pycharm": {
     "name": "#%% md\n"
    }
   },
   "source": [
    "# External sources of information\n",
    "\n",
    "1. Jupyter notebook. You can find more information about Jupyter notebooks [here](https://jupyter.org/). It will come as part of the [Anaconda](https://www.anaconda.com/) Python installation. \n",
    "2. [NumPy](https://numpy.org/). Part of Anaconda distribution. If you already know how to program most things about Python and NumPy can be found through Google search.\n",
    "3. [Nanograd](https://github.com/rasmusbergpalm/nanograd) is a minimalistic version of autodiff developed by Rasmus Berg Palm that we use for our framework.\n"
   ]
  },
  {
   "cell_type": "markdown",
   "metadata": {
    "id": "1SjiIp-TFtF0",
    "pycharm": {
     "name": "#%% md\n"
    }
   },
   "source": [
    "# This notebook will follow the next steps:\n",
    "\n",
    "1. Nanograd automatic differentiation framework\n",
    "2. Finite difference method\n",
    "3. Data generation\n",
    "4. Defining and initializing the network\n",
    "5. Forward pass\n",
    "6. Training loop \n",
    "7. Testing your model\n",
    "8. Further extensions"
   ]
  },
  {
   "cell_type": "markdown",
   "metadata": {
    "id": "OyXeAA-HuT7s",
    "pycharm": {
     "name": "#%% md\n"
    }
   },
   "source": [
    "# Nanograd automatic differention framework"
   ]
  },
  {
   "cell_type": "markdown",
   "metadata": {
    "id": "k6UWKCLKubgA",
    "pycharm": {
     "name": "#%% md\n"
    }
   },
   "source": [
    "The [Nanograd](https://github.com/rasmusbergpalm/nanograd) framework defines a class Var which both holds a value and gradient value that we can use to store the intermediate values when we apply the chain rule of differentiation."
   ]
  },
  {
   "cell_type": "code",
   "execution_count": 1,
   "metadata": {
    "id": "Jd4CoEBNzNWS",
    "pycharm": {
     "name": "#%%\n"
    }
   },
   "outputs": [
    {
     "name": "stdout",
     "output_type": "stream",
     "text": [
      "Var(v=3.0000, grad=14.0000)\n",
      "Var(v=5.0000, grad=3.0000)\n",
      "Var(v=15.0000, grad=1.0000)\n",
      "Var(v=9.0000, grad=3.0000)\n",
      "Var(v=27.0000, grad=1.0000)\n",
      "Var(v=42.0000, grad=1.0000)\n"
     ]
    }
   ],
   "source": [
    "# Copy and pasted from https://github.com/rasmusbergpalm/nanograd/blob/main/nanograd.py\n",
    "\n",
    "from math import exp, log, tanh, sqrt\n",
    "\n",
    "class Var:\n",
    "    \"\"\"\n",
    "    A variable which holds a float and enables gradient computations.\n",
    "    \"\"\"\n",
    "\n",
    "    def __init__(self, val: float, grad_fn=lambda: []):\n",
    "        assert type(val) == float\n",
    "        self.v = val\n",
    "        self.grad_fn = grad_fn\n",
    "        self.grad = 0.0\n",
    "\n",
    "    def backprop(self, bp):\n",
    "        self.grad += bp\n",
    "        for input, grad in self.grad_fn():\n",
    "            input.backprop(grad * bp)\n",
    "\n",
    "    def backward(self):\n",
    "        self.backprop(1.0)\n",
    "\n",
    "    def __add__(self: 'Var', other: 'Var') -> 'Var':\n",
    "        return Var(self.v + other.v, lambda: [(self, 1.0), (other, 1.0)])\n",
    "\n",
    "    def __mul__(self: 'Var', other: 'Var') -> 'Var':\n",
    "        return Var(self.v * other.v, lambda: [(self, other.v), (other, self.v)])\n",
    "\n",
    "    def __pow__(self, power):\n",
    "        assert type(power) in {float, int}, \"power must be float or int\"\n",
    "        return Var(self.v ** power, lambda: [(self, power * self.v ** (power - 1))])\n",
    "\n",
    "    def __neg__(self: 'Var') -> 'Var':\n",
    "        return Var(-1.0) * self\n",
    "\n",
    "    def __sub__(self: 'Var', other: 'Var') -> 'Var':\n",
    "        return self + (-other)\n",
    "\n",
    "    def __truediv__(self: 'Var', other: 'Var') -> 'Var':\n",
    "        return self * other ** -1\n",
    "\n",
    "    def __repr__(self):\n",
    "        return \"Var(v=%.4f, grad=%.4f)\" % (self.v, self.grad)\n",
    "\n",
    "    def relu(self):\n",
    "        return Var(self.v if self.v > 0.0 else 0.0, lambda: [(self, 1.0 if self.v > 0.0 else 0.0)])\n",
    "\n",
    "    def identity(self):\n",
    "        return Var(self.v, lambda: [(self, 1.0)])\n",
    "\n",
    "    def tanh(self):\n",
    "        return Var(tanh(self.v), lambda: [(self,1.0-(tanh(self)**2))])\n",
    "\n",
    "    def sigmoid(self):\n",
    "        return Var(1.0/1.0+exp(-self.v), lambda: [(self, self*(1.0-self))])\n",
    "\n",
    "    def exp(self):\n",
    "        return Var(exp(self.v), lambda: [(self, exp(self.v))])\n",
    "\n",
    "    def log(self):\n",
    "        return Var(log(self.v), lambda: [(self, self.v ** -1)])\n",
    "\n",
    "\n",
    "a = Var(3.0)\n",
    "b = Var(5.0)\n",
    "c = a * b\n",
    "d = Var(9.0)\n",
    "e = a * d\n",
    "f = c + e\n",
    "\n",
    "f.backward()\n",
    "\n",
    "for v in [a, b, c, d, e, f]:\n",
    "    print(v)\n",
    "\n",
    "f.backward()\n",
    "\n",
    "f.backprop(-1.0)"
   ]
  },
  {
   "cell_type": "markdown",
   "metadata": {
    "id": "yDX67D6jzcte",
    "pycharm": {
     "name": "#%% md\n"
    }
   },
   "source": [
    "A few examples illustrate how we can use this:"
   ]
  },
  {
   "cell_type": "code",
   "execution_count": 2,
   "metadata": {
    "colab": {
     "base_uri": "https://localhost:8080/"
    },
    "id": "xk6PeLc3zwPT",
    "outputId": "47e431b2-07ba-4cb1-ea21-997769641c67",
    "pycharm": {
     "name": "#%%\n"
    }
   },
   "outputs": [
    {
     "name": "stdout",
     "output_type": "stream",
     "text": [
      "Var(v=3.0000, grad=5.0000)\n",
      "Var(v=5.0000, grad=3.0000)\n",
      "Var(v=15.0000, grad=1.0000)\n"
     ]
    }
   ],
   "source": [
    "a = Var(3.0)\n",
    "b = Var(5.0)\n",
    "f = a * b\n",
    "\n",
    "f.backward()\n",
    "\n",
    "for v in [a, b, f]:\n",
    "    print(v)"
   ]
  },
  {
   "cell_type": "code",
   "execution_count": 3,
   "metadata": {
    "colab": {
     "base_uri": "https://localhost:8080/"
    },
    "id": "JmKhYgsY0g_o",
    "outputId": "06c1b1df-c33c-40d3-922a-624612a591c7",
    "pycharm": {
     "name": "#%%\n"
    }
   },
   "outputs": [
    {
     "name": "stdout",
     "output_type": "stream",
     "text": [
      "Var(v=3.0000, grad=14.0000)\n",
      "Var(v=5.0000, grad=3.0000)\n",
      "Var(v=15.0000, grad=1.0000)\n",
      "Var(v=9.0000, grad=3.0000)\n",
      "Var(v=27.0000, grad=1.0000)\n",
      "Var(v=42.0000, grad=1.0000)\n"
     ]
    }
   ],
   "source": [
    "a = Var(3.0)\n",
    "b = Var(5.0)\n",
    "c = a * b\n",
    "d = Var(9.0)\n",
    "e = a * d\n",
    "f = c + e\n",
    "\n",
    "f.backward()\n",
    "\n",
    "for v in [a, b, c, d, e, f]:\n",
    "    print(v)\n"
   ]
  },
  {
   "cell_type": "markdown",
   "metadata": {
    "id": "Fe3B6uEH140p",
    "pycharm": {
     "name": "#%% md\n"
    }
   },
   "source": [
    "## Exercise a)  What is being calculated?\n",
    "\n",
    "Explain briefly the output of the code? What is the expression we differentiate and with respect to what variables?"
   ]
  },
  {
   "cell_type": "markdown",
   "source": [
    "We are defining a number of functions, some of which are defined as functions of other functions. The output is a list of the function values and partial derrivatives of f wrt. each of the other functions.\n",
    "\n",
    "When computing \"grad\" we simply take the partial derivatives of f wrt. the other function in question. Let's take $\\frac{\\delta f}{\\delta a}$ as an example. Here we will be using the chain rule.\n",
    "\n",
    "First we note that $f = c + e$ and $e = a * d$ and $c = a * b$. As such, taking the partial derivative of f wrt. a corresponds to:\n",
    "\n",
    "$\\frac{\\delta f}{\\delta a} = \\frac{\\delta f}{\\delta c}\\frac{\\delta c}{\\delta a} + \\frac{\\delta f}{\\delta e}\\frac{\\delta e}{\\delta a} = 1*9 + 1*5 = 14$\n"
   ],
   "metadata": {
    "collapsed": false,
    "pycharm": {
     "name": "#%% md\n"
    }
   }
  },
  {
   "cell_type": "markdown",
   "metadata": {
    "id": "q8_Q0t2I3Ruj",
    "pycharm": {
     "name": "#%% md\n"
    }
   },
   "source": [
    "## Exercise b) How does the backward function work?\n",
    "\n",
    "You need to understand how the backward function calculates the gradients. We can use the two examples above to help with that.\n",
    "\n",
    "Go through the following four steps and answer the questions on the way:\n",
    "\n",
    "1. We represent the two expressions as graphs as shown below. Fill in the missing expressions for the different derivatives.\n",
    "\n",
    "2. In the remainder consider the first expression. Make a schematic of the data structure which is generated when we define the expression for f. \n",
    "\n",
    "3. Then execute the backward function by hand to convince yourself that it indeed calculates the gradients with respect to the variables. \n",
    "\n",
    "4. Write down the sequence of calls to backprop."
   ]
  },
  {
   "cell_type": "markdown",
   "source": [
    "1. Shown in the code\n",
    "2. As seen from the way f is constructed using the \\_\\_mul\\_\\_ function, the datastructure for f is:\n",
    "    a = Var(3.0), b =  Var(5.0), f = Var(a.v * b.v, [(a, b.v), (b, a.v)]) = Var(3 * 5, [(a, 5), (b,3)])\n",
    "3. f.backward is called and returns:\n",
    "    f.backprop(f,1.0):\n",
    "        f.grad += 1  *(This makes f = Var(V=15,grad=1)*\n",
    "        for input, grad in self.grad_fn():\n",
    "        *(Here we do a for loop over a list of two tuples (input,grad) that are the elements of f.grad_fn(), which contains [Var(a.v, grad=0),5.0), (Var(b.v,grad=0),3.0)].) backprop() is run on each of these tuples of inputs and gradients stored in f.grad_fn()*\n",
    "           Var(a.v,grad=0).backprop(5.0 * 1.0)\n",
    "            backprop(Var(a.v,grad=0),5):\n",
    "                a.grad += 5.0 *(a.grad is assigned the value stored in f.grad_fn)*"
   ],
   "metadata": {
    "collapsed": false,
    "pycharm": {
     "name": "#%% md\n"
    }
   }
  },
  {
   "cell_type": "markdown",
   "source": [
    "4. The above answers 3. and 4. The final input.backprop() call is also done for the second tuple in the f.grad_fn() list - i.e. also for (Var(b.v,grad=0),3)."
   ],
   "metadata": {
    "collapsed": false,
    "pycharm": {
     "name": "#%% md\n"
    }
   }
  },
  {
   "cell_type": "code",
   "execution_count": 4,
   "metadata": {
    "id": "idGr71jYXl26",
    "pycharm": {
     "name": "#%%\n"
    }
   },
   "outputs": [],
   "source": [
    "# import logging\n",
    "import graphviz\n",
    "\n",
    "#logging.basicConfig(format='[%(levelname)s@%(name)s] %(message)s', level=logging.DEBUG)\n",
    "\n",
    "#graphviz.__version__, graphviz.version()"
   ]
  },
  {
   "cell_type": "code",
   "execution_count": 5,
   "metadata": {
    "colab": {
     "base_uri": "https://localhost:8080/",
     "height": 152
    },
    "id": "KPe30Q2QXzeG",
    "outputId": "7fa002cd-a018-4dbb-ddf1-28ed5e99ee19",
    "pycharm": {
     "name": "#%%\n"
    }
   },
   "outputs": [
    {
     "data": {
      "image/svg+xml": "<?xml version=\"1.0\" encoding=\"UTF-8\" standalone=\"no\"?>\n<!DOCTYPE svg PUBLIC \"-//W3C//DTD SVG 1.1//EN\"\n \"http://www.w3.org/Graphics/SVG/1.1/DTD/svg11.dtd\">\n<!-- Generated by graphviz version 2.50.0 (0)\n -->\n<!-- Title: first expression Pages: 1 -->\n<svg width=\"189pt\" height=\"98pt\"\n viewBox=\"0.00 0.00 189.00 98.00\" xmlns=\"http://www.w3.org/2000/svg\" xmlns:xlink=\"http://www.w3.org/1999/xlink\">\n<g id=\"graph0\" class=\"graph\" transform=\"scale(1 1) rotate(0) translate(4 94)\">\n<title>first expression</title>\n<polygon fill=\"white\" stroke=\"transparent\" points=\"-4,4 -4,-94 185,-94 185,4 -4,4\"/>\n<!-- a -->\n<g id=\"node1\" class=\"node\">\n<title>a</title>\n<ellipse fill=\"none\" stroke=\"black\" cx=\"18\" cy=\"-72\" rx=\"18\" ry=\"18\"/>\n<text text-anchor=\"middle\" x=\"18\" y=\"-68.3\" font-family=\"Times New Roman,serif\" font-size=\"14.00\">a</text>\n</g>\n<!-- f -->\n<g id=\"node2\" class=\"node\">\n<title>f</title>\n<ellipse fill=\"none\" stroke=\"black\" cx=\"163\" cy=\"-45\" rx=\"18\" ry=\"18\"/>\n<text text-anchor=\"middle\" x=\"163\" y=\"-41.3\" font-family=\"Times New Roman,serif\" font-size=\"14.00\">f</text>\n</g>\n<!-- a&#45;&gt;f -->\n<g id=\"edge1\" class=\"edge\">\n<title>a&#45;&gt;f</title>\n<path fill=\"none\" stroke=\"black\" d=\"M35.97,-68.8C60.48,-64.17 106.04,-55.57 135.15,-50.07\"/>\n<polygon fill=\"black\" stroke=\"black\" points=\"135.88,-53.49 145.06,-48.2 134.58,-46.62 135.88,-53.49\"/>\n<text text-anchor=\"middle\" x=\"90.5\" y=\"-67.8\" font-family=\"Times New Roman,serif\" font-size=\"14.00\">df/da = b = 5</text>\n</g>\n<!-- b -->\n<g id=\"node3\" class=\"node\">\n<title>b</title>\n<ellipse fill=\"none\" stroke=\"black\" cx=\"18\" cy=\"-18\" rx=\"18\" ry=\"18\"/>\n<text text-anchor=\"middle\" x=\"18\" y=\"-14.3\" font-family=\"Times New Roman,serif\" font-size=\"14.00\">b</text>\n</g>\n<!-- b&#45;&gt;f -->\n<g id=\"edge2\" class=\"edge\">\n<title>b&#45;&gt;f</title>\n<path fill=\"none\" stroke=\"black\" d=\"M36.02,-19.35C57.46,-21.27 95.33,-25.45 127,-33 130.03,-33.72 133.16,-34.6 136.25,-35.55\"/>\n<polygon fill=\"black\" stroke=\"black\" points=\"135.22,-38.89 145.81,-38.72 137.42,-32.25 135.22,-38.89\"/>\n<text text-anchor=\"middle\" x=\"90.5\" y=\"-36.8\" font-family=\"Times New Roman,serif\" font-size=\"14.00\">df/db = a = 3</text>\n</g>\n</g>\n</svg>\n",
      "text/plain": "<graphviz.graphs.Digraph at 0x29b1d9903a0>"
     },
     "execution_count": 5,
     "metadata": {},
     "output_type": "execute_result"
    }
   ],
   "source": [
    "e1 = graphviz.Digraph('first expression', filename='fsm.gv')\n",
    "\n",
    "e1.attr(rankdir='LR', size='8,5')\n",
    "\n",
    "e1.attr('node', shape='circle')\n",
    "e1.edge('a', 'f', label='df/da = b = 5')\n",
    "e1.edge('b', 'f', label='df/db = a = 3')\n",
    "\n",
    "e1"
   ]
  },
  {
   "cell_type": "code",
   "execution_count": 6,
   "metadata": {
    "colab": {
     "base_uri": "https://localhost:8080/",
     "height": 232
    },
    "id": "0nittR-mZFeX",
    "outputId": "fa3656a3-732c-4abe-8084-98a492b0d6be",
    "pycharm": {
     "name": "#%%\n"
    }
   },
   "outputs": [
    {
     "data": {
      "image/svg+xml": "<?xml version=\"1.0\" encoding=\"UTF-8\" standalone=\"no\"?>\n<!DOCTYPE svg PUBLIC \"-//W3C//DTD SVG 1.1//EN\"\n \"http://www.w3.org/Graphics/SVG/1.1/DTD/svg11.dtd\">\n<!-- Generated by graphviz version 2.50.0 (0)\n -->\n<!-- Title: second expression Pages: 1 -->\n<svg width=\"314pt\" height=\"158pt\"\n viewBox=\"0.00 0.00 314.00 158.00\" xmlns=\"http://www.w3.org/2000/svg\" xmlns:xlink=\"http://www.w3.org/1999/xlink\">\n<g id=\"graph0\" class=\"graph\" transform=\"scale(1 1) rotate(0) translate(4 154)\">\n<title>second expression</title>\n<polygon fill=\"white\" stroke=\"transparent\" points=\"-4,4 -4,-154 310,-154 310,4 -4,4\"/>\n<!-- a -->\n<g id=\"node1\" class=\"node\">\n<title>a</title>\n<ellipse fill=\"none\" stroke=\"black\" cx=\"18\" cy=\"-75\" rx=\"18\" ry=\"18\"/>\n<text text-anchor=\"middle\" x=\"18\" y=\"-71.3\" font-family=\"Times New Roman,serif\" font-size=\"14.00\">a</text>\n</g>\n<!-- c -->\n<g id=\"node2\" class=\"node\">\n<title>c</title>\n<ellipse fill=\"none\" stroke=\"black\" cx=\"165\" cy=\"-102\" rx=\"18\" ry=\"18\"/>\n<text text-anchor=\"middle\" x=\"165\" y=\"-98.3\" font-family=\"Times New Roman,serif\" font-size=\"14.00\">c</text>\n</g>\n<!-- a&#45;&gt;c -->\n<g id=\"edge1\" class=\"edge\">\n<title>a&#45;&gt;c</title>\n<path fill=\"none\" stroke=\"black\" d=\"M35.79,-77.96C57.38,-81.78 96.02,-88.7 129,-95 131.7,-95.52 134.52,-96.06 137.33,-96.62\"/>\n<polygon fill=\"black\" stroke=\"black\" points=\"136.79,-100.08 147.28,-98.59 138.15,-93.21 136.79,-100.08\"/>\n<text text-anchor=\"middle\" x=\"91.5\" y=\"-98.8\" font-family=\"Times New Roman,serif\" font-size=\"14.00\">dc/da = b = 5</text>\n</g>\n<!-- e -->\n<g id=\"node4\" class=\"node\">\n<title>e</title>\n<ellipse fill=\"none\" stroke=\"black\" cx=\"165\" cy=\"-48\" rx=\"18\" ry=\"18\"/>\n<text text-anchor=\"middle\" x=\"165\" y=\"-44.3\" font-family=\"Times New Roman,serif\" font-size=\"14.00\">e</text>\n</g>\n<!-- a&#45;&gt;e -->\n<g id=\"edge3\" class=\"edge\">\n<title>a&#45;&gt;e</title>\n<path fill=\"none\" stroke=\"black\" d=\"M34.79,-68.26C40.72,-65.96 47.58,-63.58 54,-62 81.79,-55.17 114.4,-51.55 136.86,-49.72\"/>\n<polygon fill=\"black\" stroke=\"black\" points=\"137.3,-53.19 147.01,-48.95 136.77,-46.21 137.3,-53.19\"/>\n<text text-anchor=\"middle\" x=\"91.5\" y=\"-65.8\" font-family=\"Times New Roman,serif\" font-size=\"14.00\">de/da = d = 9</text>\n</g>\n<!-- f -->\n<g id=\"node6\" class=\"node\">\n<title>f</title>\n<ellipse fill=\"none\" stroke=\"black\" cx=\"288\" cy=\"-75\" rx=\"18\" ry=\"18\"/>\n<text text-anchor=\"middle\" x=\"288\" y=\"-71.3\" font-family=\"Times New Roman,serif\" font-size=\"14.00\">f</text>\n</g>\n<!-- c&#45;&gt;f -->\n<g id=\"edge5\" class=\"edge\">\n<title>c&#45;&gt;f</title>\n<path fill=\"none\" stroke=\"black\" d=\"M182.82,-98.25C202.87,-93.77 236.62,-86.24 260.26,-80.97\"/>\n<polygon fill=\"black\" stroke=\"black\" points=\"261.32,-84.32 270.32,-78.72 259.8,-77.48 261.32,-84.32\"/>\n<text text-anchor=\"middle\" x=\"226.5\" y=\"-97.8\" font-family=\"Times New Roman,serif\" font-size=\"14.00\">df/dc = 1</text>\n</g>\n<!-- b -->\n<g id=\"node3\" class=\"node\">\n<title>b</title>\n<ellipse fill=\"none\" stroke=\"black\" cx=\"18\" cy=\"-132\" rx=\"18\" ry=\"18\"/>\n<text text-anchor=\"middle\" x=\"18\" y=\"-128.3\" font-family=\"Times New Roman,serif\" font-size=\"14.00\">b</text>\n</g>\n<!-- b&#45;&gt;c -->\n<g id=\"edge2\" class=\"edge\">\n<title>b&#45;&gt;c</title>\n<path fill=\"none\" stroke=\"black\" d=\"M35.8,-128.79C57.4,-124.62 96.06,-117.06 129,-110 131.71,-109.42 134.53,-108.8 137.34,-108.17\"/>\n<polygon fill=\"black\" stroke=\"black\" points=\"138.31,-111.54 147.29,-105.92 136.76,-104.72 138.31,-111.54\"/>\n<text text-anchor=\"middle\" x=\"91.5\" y=\"-127.8\" font-family=\"Times New Roman,serif\" font-size=\"14.00\">dc/db = a = 3</text>\n</g>\n<!-- e&#45;&gt;f -->\n<g id=\"edge6\" class=\"edge\">\n<title>e&#45;&gt;f</title>\n<path fill=\"none\" stroke=\"black\" d=\"M182.98,-50.16C200.44,-52.56 228.37,-56.93 252,-63 255.01,-63.77 258.14,-64.69 261.23,-65.65\"/>\n<polygon fill=\"black\" stroke=\"black\" points=\"260.19,-69 270.78,-68.84 262.4,-62.36 260.19,-69\"/>\n<text text-anchor=\"middle\" x=\"226.5\" y=\"-66.8\" font-family=\"Times New Roman,serif\" font-size=\"14.00\">df/de = 1</text>\n</g>\n<!-- d -->\n<g id=\"node5\" class=\"node\">\n<title>d</title>\n<ellipse fill=\"none\" stroke=\"black\" cx=\"18\" cy=\"-18\" rx=\"18\" ry=\"18\"/>\n<text text-anchor=\"middle\" x=\"18\" y=\"-14.3\" font-family=\"Times New Roman,serif\" font-size=\"14.00\">d</text>\n</g>\n<!-- d&#45;&gt;e -->\n<g id=\"edge4\" class=\"edge\">\n<title>d&#45;&gt;e</title>\n<path fill=\"none\" stroke=\"black\" d=\"M36.12,-18.26C58.06,-19 97.07,-21.65 129,-31 132.65,-32.07 136.39,-33.49 140,-35.06\"/>\n<polygon fill=\"black\" stroke=\"black\" points=\"138.58,-38.26 149.11,-39.4 141.59,-31.94 138.58,-38.26\"/>\n<text text-anchor=\"middle\" x=\"91.5\" y=\"-34.8\" font-family=\"Times New Roman,serif\" font-size=\"14.00\">de/dd = a = 3</text>\n</g>\n</g>\n</svg>\n",
      "text/plain": "<graphviz.graphs.Digraph at 0x29b1d9a6eb0>"
     },
     "execution_count": 6,
     "metadata": {},
     "output_type": "execute_result"
    }
   ],
   "source": [
    "e2 = graphviz.Digraph('second expression', filename='fsm.gv')\n",
    "\n",
    "e2.attr(rankdir='LR', size='8,5')\n",
    "\n",
    "e2.attr('node', shape='circle')\n",
    "e2.edge('a', 'c', label='dc/da = b = 5')\n",
    "e2.edge('b', 'c', label='dc/db = a = 3')\n",
    "e2.edge('a', 'e', label='de/da = d = 9')\n",
    "e2.edge('d', 'e', label='de/dd = a = 3')\n",
    "e2.edge('c', 'f', label='df/dc = 1')\n",
    "e2.edge('e', 'f', label='df/de = 1')\n",
    "\n",
    "e2"
   ]
  },
  {
   "cell_type": "markdown",
   "metadata": {
    "id": "A5oi21W4gpeM",
    "pycharm": {
     "name": "#%% md\n"
    }
   },
   "source": [
    "## Exercise c) What happens if we run backward again?\n",
    "\n",
    "Try to execute the code below. Explain what happens."
   ]
  },
  {
   "cell_type": "code",
   "execution_count": 7,
   "metadata": {
    "colab": {
     "base_uri": "https://localhost:8080/"
    },
    "id": "DCtpJyr-gyX1",
    "outputId": "d014bcfa-c9ae-49c3-d268-91cc6ca94ea5",
    "pycharm": {
     "name": "#%%\n"
    }
   },
   "outputs": [
    {
     "name": "stdout",
     "output_type": "stream",
     "text": [
      "Var(v=3.0000, grad=28.0000)\n",
      "Var(v=5.0000, grad=6.0000)\n",
      "Var(v=15.0000, grad=2.0000)\n",
      "Var(v=9.0000, grad=6.0000)\n",
      "Var(v=27.0000, grad=2.0000)\n",
      "Var(v=42.0000, grad=2.0000)\n"
     ]
    }
   ],
   "source": [
    "f.backward()\n",
    "\n",
    "for v in [a, b, c, d, e, f]:\n",
    "    print(v)"
   ]
  },
  {
   "cell_type": "markdown",
   "source": [
    "When f.backward() is called the second time, f already has grad value (1.0), so in f.backward -> f.backprop(self, 1.0) -> f.grad += 1 = 2. Then the list of tuples for the subcomponents of f in f.grad_fn() are similarly run through the .backprop(grad*bp) as described in question b.4).\n",
    "\n",
    "To begin with these subvariables of f (i.e. c and e) have the same gradients computed from the first f.backward() run-through, but are then updated by taking their gradients again (their values remain the same though). In calculating the gradient again we reuse the computation from the first passthrough. By doing this bookkeeping we save computation time, since we do not have to redo the computations for the first passthrough.\n",
    "\n",
    "\n"
   ],
   "metadata": {
    "collapsed": false,
    "pycharm": {
     "name": "#%% md\n"
    }
   }
  },
  {
   "cell_type": "markdown",
   "metadata": {
    "id": "e8bPVq2VhsP-",
    "pycharm": {
     "name": "#%% md\n"
    }
   },
   "source": [
    "## Exercise d) Zero gradient\n",
    "\n",
    "We can zero the gradient by backpropagating a -1.0 as is shown in the example below. (If you have run backward multiple time then you also have to run the cell below an equal amount of times.) Explain what is going on."
   ]
  },
  {
   "cell_type": "markdown",
   "source": [
    "What happens when we take f.backprop(-1.0) is that it reverses the additional backward pass done. If backward has been run twice, the result is that the variables have the gradients they had when a single backward pass had been done.\n",
    "\n",
    "In the code, the following happens:\n",
    "\n",
    "f.backprop(f,-1.0):\n",
    "f.grad += -1 *(This sets the f.grad = 1)*\n",
    "\n",
    "Next the for loop for tuples in the f.grad_fn() list is run and the gradients of each of the subvariables of f (c and e) are updated with the backprop() call:\n",
    "\n",
    "c.backprob(f.grad wrt c * bp) = c.backprob(1 * -1): *(Since the partial derivative of f=(c+e) wrt. c is 1)*\n",
    "c.grad += -1 *(this sets c.grad = 1)*\n",
    "\n",
    "Next another for loop over c.grad_fn() is run, which is a list that contains the values and gradients of a and b, since c = a*b.\n",
    "The first input variable is a, therefore a.backprob(c.grad wrt.a * bp) = a.backprob(b.v * -1) = -5\n",
    "\n",
    "a.grad += -5\n",
    "\n",
    "Now since a.grad_fn() is an empty list, we return to next element of the c.grad_fn() list: namely b, whose gradient is then updated like a's. And so on.\n"
   ],
   "metadata": {
    "collapsed": false,
    "pycharm": {
     "name": "#%% md\n"
    }
   }
  },
  {
   "cell_type": "code",
   "execution_count": 8,
   "metadata": {
    "colab": {
     "base_uri": "https://localhost:8080/"
    },
    "id": "OnyPDQx9lJe0",
    "outputId": "7a125fdc-60c4-4340-a580-8b82aea5b0db",
    "pycharm": {
     "name": "#%%\n"
    }
   },
   "outputs": [
    {
     "name": "stdout",
     "output_type": "stream",
     "text": [
      "Var(v=2.0000, grad=0.0000)\n",
      "Var(v=5.0000, grad=6.0000)\n",
      "Var(v=15.0000, grad=2.0000)\n",
      "Var(v=9.0000, grad=6.0000)\n",
      "Var(v=27.0000, grad=2.0000)\n",
      "Var(v=42.0000, grad=2.0000)\n",
      "Var(v=2.0000, grad=0.0000)\n",
      "Var(v=5.0000, grad=3.0000)\n",
      "Var(v=15.0000, grad=1.0000)\n",
      "Var(v=9.0000, grad=3.0000)\n",
      "Var(v=27.0000, grad=1.0000)\n",
      "Var(v=42.0000, grad=1.0000)\n"
     ]
    }
   ],
   "source": [
    "a = Var(2.0)\n",
    "\n",
    "for v in [a, b, c, d, e, f]:\n",
    "    print(v)\n",
    "\n",
    "f.backprop(-1.0)\n",
    "\n",
    "for v in [a, b, c, d, e, f]:\n",
    "    print(v)"
   ]
  },
  {
   "cell_type": "markdown",
   "metadata": {
    "id": "U4057_ljNvWB",
    "pycharm": {
     "name": "#%% md\n"
    }
   },
   "source": [
    "## Exercise e) Test correctness of derivatives with the finite difference method\n",
    "\n",
    "Write a small function that uses [the finite difference method](https://en.wikipedia.org/wiki/Finite_difference_method) to numerically test that backpropation implementation is working. In short we will use\n",
    "$$\n",
    "\\frac{\\partial f(a)}{\\partial a} \\approx \\frac{f(a+da)-f(a)}{da}\n",
    "$$\n",
    "for $da \\ll 1$.\n",
    "\n",
    "As an example, we could approximate the derivative of the function $f(a)=a^2$ in e.g. the value $a=4$ using the finite difference method. This amounts to inserting the relevant values and approximating the gradient $f'(4)$ with the fraction above. \n"
   ]
  },
  {
   "cell_type": "code",
   "execution_count": 9,
   "metadata": {
    "colab": {
     "base_uri": "https://localhost:8080/"
    },
    "id": "9TGil92lSXDN",
    "outputId": "7ef5489b-b525-4132-ab08-0b1109c07f4d",
    "pycharm": {
     "name": "#%%\n"
    }
   },
   "outputs": [
    {
     "name": "stdout",
     "output_type": "stream",
     "text": [
      "Var(v=3.0000, grad=5.0000)\n",
      "Var(v=5.0000, grad=3.0000)\n",
      "Var(v=15.0000, grad=1.0000)\n",
      "5.000000413701855\n"
     ]
    }
   ],
   "source": [
    "# f function - try to change the code to test other types of functions as well (such as different polynomials etc.)\n",
    "def f_function(a):\n",
    "  a = Var(a)\n",
    "  b = Var(5.0)\n",
    "  f = a * b\n",
    "  f.backward()\n",
    "  return a,b,f\n",
    "\n",
    "for v in f_function(3.0):\n",
    "  print(v)\n",
    "\n",
    "# Insert your finite difference code here\n",
    "def finite_difference(a,da=1e-10):\n",
    "    \"\"\"\n",
    "    This function compute the finite difference between\n",
    "    \n",
    "    Input:\n",
    "    da:          The finite difference                           (float)\n",
    "    a:           Function value                          (float)\n",
    "    \n",
    "    Output:\n",
    "    finite_difference: numerical approximation to the derivative (float) \n",
    "    \"\"\"\n",
    "\n",
    "    fa_da = f_function(a+da)[2].v   # <- Insert correct expression\n",
    "    fa = f_function(a)[2].v               # <- Insert correct expression\n",
    "\n",
    "    finite_difference = (fa_da - fa) / da\n",
    "    \n",
    "    return finite_difference\n",
    "\n",
    "print(finite_difference(3.0))"
   ]
  },
  {
   "cell_type": "markdown",
   "metadata": {
    "id": "6pZar5RKaUkg",
    "pycharm": {
     "name": "#%% md\n"
    }
   },
   "source": [
    "# Create an artificial dataset to play with\n",
    "\n",
    "We create a non-linear 1d regression task. The generator supports various noise levels and it creates train, validation and test sets. You can modify it yourself if you want more or less challenging tasks."
   ]
  },
  {
   "cell_type": "code",
   "execution_count": 10,
   "metadata": {
    "id": "Y6yfMAQ8aduj",
    "pycharm": {
     "name": "#%%\n"
    }
   },
   "outputs": [],
   "source": [
    "import numpy as np\n",
    "import matplotlib.pyplot as plt\n",
    "\n",
    "np.random.seed(42)"
   ]
  },
  {
   "cell_type": "code",
   "execution_count": 11,
   "metadata": {
    "id": "4YabfD43ajNh",
    "pycharm": {
     "name": "#%%\n"
    }
   },
   "outputs": [],
   "source": [
    "def data_generator(noise=0.1, n_samples=300, D1=True):\n",
    "    # Create covariates and response variable\n",
    "    if D1:\n",
    "        X = np.linspace(-3, 3, num=n_samples).reshape(-1,1) # 1-D\n",
    "        np.random.shuffle(X)\n",
    "        y = np.random.normal((0.5*np.sin(X[:,0]*3) + X[:,0]), noise) # 1-D with trend\n",
    "    else:\n",
    "        X = np.random.multivariate_normal(np.zeros(3), noise*np.eye(3), size = n_samples) # 3-D\n",
    "        np.random.shuffle(X)    \n",
    "        y = np.sin(X[:,0]) - 5*(X[:,1]**2) + 0.5*X[:,2] # 3-D\n",
    "\n",
    "    # Stack them together vertically to split data set\n",
    "    data_set = np.vstack((X.T,y)).T\n",
    "    \n",
    "    train, validation, test = np.split(data_set, [int(0.35*n_samples), int(0.7*n_samples)], axis=0)\n",
    "    \n",
    "    # Standardization of the data, remember we do the standardization with the training set mean and standard deviation\n",
    "    train_mu = np.mean(train, axis=0)\n",
    "    train_sigma = np.std(train, axis=0)\n",
    "    \n",
    "    train = (train-train_mu)/train_sigma\n",
    "    validation = (validation-train_mu)/train_sigma\n",
    "    test = (test-train_mu)/train_sigma\n",
    "    \n",
    "    x_train, x_validation, x_test = train[:,:-1], validation[:,:-1], test[:,:-1]\n",
    "    y_train, y_validation, y_test = train[:,-1], validation[:,-1], test[:,-1]\n",
    "\n",
    "    return x_train, y_train,  x_validation, y_validation, x_test, y_test"
   ]
  },
  {
   "cell_type": "code",
   "execution_count": 12,
   "metadata": {
    "id": "u1oDngHLapIz",
    "pycharm": {
     "name": "#%%\n"
    }
   },
   "outputs": [],
   "source": [
    "D1 = True\n",
    "x_train, y_train,  x_validation, y_validation, x_test, y_test = data_generator(noise=0.5, D1=D1)"
   ]
  },
  {
   "cell_type": "code",
   "execution_count": 13,
   "metadata": {
    "colab": {
     "base_uri": "https://localhost:8080/",
     "height": 265
    },
    "id": "Ysfa3FsBavlm",
    "outputId": "399e5382-ae7d-48f6-9774-7ea4c73e7d95",
    "pycharm": {
     "name": "#%%\n"
    }
   },
   "outputs": [
    {
     "data": {
      "text/plain": "<Figure size 432x288 with 1 Axes>",
      "image/png": "[encoded data removed]"
     },
     "metadata": {
      "needs_background": "light"
     },
     "output_type": "display_data"
    }
   ],
   "source": [
    "if D1:\n",
    "    plt.scatter(x_train[:,0], y_train);\n",
    "    plt.scatter(x_validation[:,0], y_validation);\n",
    "    plt.scatter(x_test[:,0], y_test);\n",
    "else:\n",
    "    plt.scatter(x_train[:,1], y_train);\n",
    "    plt.scatter(x_validation[:,1], y_validation);\n",
    "    plt.scatter(x_test[:,1], y_test);\n",
    "plt.show()"
   ]
  },
  {
   "cell_type": "code",
   "execution_count": 14,
   "metadata": {
    "id": "zac2HHNlgbpm",
    "pycharm": {
     "name": "#%%\n"
    }
   },
   "outputs": [],
   "source": [
    "# convert from nparray to Var\n",
    "def nparray_to_Var(x):\n",
    "  if x.ndim==1:\n",
    "    y = [[Var(float(x[i]))] for i in range(x.shape[0])] # always work with list of list\n",
    "  else:\n",
    "    y = [[Var(float(x[i,j])) for j in range(x.shape[1])] for i in range(x.shape[0])]\n",
    "  return y\n",
    "   \n",
    "x_train = nparray_to_Var(x_train)\n",
    "y_train = nparray_to_Var(y_train)\n",
    "x_validation = nparray_to_Var(x_validation)\n",
    "y_validation = nparray_to_Var(y_validation)\n",
    "x_test = nparray_to_Var(x_test)\n",
    "y_test = nparray_to_Var(y_test)\n"
   ]
  },
  {
   "cell_type": "markdown",
   "metadata": {
    "id": "VbjrqcpVFtGe",
    "pycharm": {
     "name": "#%% md\n"
    }
   },
   "source": [
    "# Defining and initializing the network\n",
    "\n",
    "The steps to create a feed forward neural network are the following:\n",
    "\n",
    "1. **Number of hidden layer and hidden units**. We have to define the number of hidden units in each layer. The number of features in X and the output dimensionality (the size of Y) are given but the numbers in between are set by the researcher. Remember that for each unit in each layer beside in the input has a bias term.\n",
    "2. **Activation functions** for each hidden layer. Each hidden layer in your list must have an activation function (it can also be the linear activation which is equivalent to identity function). The power of neural networks comes from non-linear activation functions that learn representations (features) from the data allowing us to learn from it. \n",
    "3. **Parameter initialization**. We will initialize the weights to have random values. This is done in practice by drawing pseudo random numbers from a Gaussian or uniform distribution. It turns out that for deeper models we have to be careful about how we scale the random numbers. This will be the topic of the exercise below. For now we will just use unit variance Gaussians.  \n",
    "\n",
    "In order to make life easier for ourselves we define a DenseLayer class that takes care of initialization and the forward pass. We can also extend it later with print and advanced initialization capabilities. For the latter we have introduced a Initializer class.\n",
    "\n",
    "Note that we use Sequence in the code below. A Sequence is an ordered list. This means the order we insert and access items are the same."
   ]
  },
  {
   "cell_type": "code",
   "execution_count": 15,
   "metadata": {
    "id": "ij_ieRsAt7Xt",
    "pycharm": {
     "name": "#%%\n"
    }
   },
   "outputs": [],
   "source": [
    "class Initializer:\n",
    "\n",
    "    def init_weights(self, n_in, n_out):\n",
    "        raise NotImplementedError\n",
    "\n",
    "    def init_bias(self, n_out):\n",
    "        raise NotImplementedError"
   ]
  },
  {
   "cell_type": "code",
   "execution_count": 16,
   "metadata": {
    "id": "eb18N5phuIha",
    "pycharm": {
     "name": "#%%\n"
    }
   },
   "outputs": [],
   "source": [
    "import random\n",
    "\n",
    "class NormalInitializer(Initializer):\n",
    "\n",
    "    def __init__(self, mean=0, std=0.1):\n",
    "        self.mean = mean\n",
    "        self.std = std\n",
    "\n",
    "    def init_weights(self, n_in, n_out):\n",
    "        return [[Var(random.gauss(self.mean, self.std)) for _ in range(n_out)] for _ in range(n_in)]\n",
    "\n",
    "    def init_bias(self, n_out):\n",
    "        return [Var(0.0) for _ in range(n_out)]\n",
    "\n",
    "class ConstantInitializer(Initializer):\n",
    "\n",
    "    def __init__(self, weight=1.0, bias=0.0):\n",
    "        self.weight = weight\n",
    "        self.bias = bias\n",
    "\n",
    "    def init_weights(self, n_in, n_out):\n",
    "        return [[Var(self.weight) for _ in range(n_out)] for _ in range(n_in)]\n",
    "\n",
    "    def init_bias(self, n_out):\n",
    "        return [Var(self.bias) for _ in range(n_out)]"
   ]
  },
  {
   "cell_type": "code",
   "execution_count": 17,
   "metadata": {
    "id": "jOLYGnZKuM6W",
    "pycharm": {
     "name": "#%%\n"
    }
   },
   "outputs": [],
   "source": [
    "from typing import Sequence\n",
    "\n",
    "class DenseLayer:\n",
    "    def __init__(self, n_in: int, n_out: int, act_fn, initializer = NormalInitializer()):\n",
    "        self.weights = initializer.init_weights(n_in, n_out)\n",
    "        self.bias = initializer.init_bias(n_out)\n",
    "        self.act_fn = act_fn\n",
    "\n",
    "    def __repr__(self):\n",
    "        return 'Weights: ' + repr(self.weights) + ' Biases: ' + repr(self.bias)\n",
    "\n",
    "    def parameters(self) -> Sequence[Var]:\n",
    "        params = []\n",
    "        for r in self.weights:\n",
    "            params += r\n",
    "\n",
    "        return params + self.bias\n",
    "\n",
    "    def forward(self, single_input: Sequence[Var]) -> Sequence[Var]:\n",
    "        # self.weights is a matrix with dimension n_in x n_out. We check that the dimensionality of the input \n",
    "        # to the current layer matches the number of nodes in the current layer\n",
    "        assert len(self.weights) == len(single_input), \"weights and single_input must match in first dimension\"\n",
    "        weights = self.weights\n",
    "        out = []\n",
    "        # For some given data point single_input, we now want to calculate the resulting value in each node in the current layer\n",
    "        # We therefore loop over the (number of) nodes in the current layer:\n",
    "        for j in range(len(weights[0])):\n",
    "            # Initialize the node value depending on its corresponding parameters.\n",
    "            node = self.bias[j]# <- Insert code\n",
    "            # We now finish the linear transformation corresponding to the parameters of the currently considered node.\n",
    "            for i in range(len(single_input)):\n",
    "                node += weights[i][j] * single_input[i]  # <- Insert code\n",
    "            node = self.act_fn(node)\n",
    "            out.append(node)\n",
    "\n",
    "        return out\n"
   ]
  },
  {
   "cell_type": "markdown",
   "metadata": {
    "id": "jpIZPBpNI0pO",
    "pycharm": {
     "name": "#%% md\n"
    }
   },
   "source": [
    "## Exercise f) Add more activation functions\n",
    "\n",
    "To have a full definition of the neural network, we must define an activation function for every layer. Several activation functions have been proposed and have different characteristics. In the Var class we have already defined the rectified linear init (relu). \n",
    " \n",
    "Implement the following activation functions in the Var class:\n",
    "\n",
    "* Identity: $$\\mathrm{identity}(x) = x$$\n",
    "* Hyperbolic tangent: $$\\tanh(x)$$\n",
    "* Sigmoid (or logistic function): $$\\mathrm{sigmoid}(x) = \\frac{1}{1.0 + \\exp(-x ) }$$  Hint: $\\mathrm{sigmoid}'(x)= \\mathrm{sigmoid}(x)(1-\\mathrm{sigmoid}(x))$.  \n",
    "\n",
    "Hint: You can seek inspiration in the relu method in the Var class."
   ]
  },
  {
   "cell_type": "markdown",
   "metadata": {
    "id": "p_8n_SKnIW2F",
    "pycharm": {
     "name": "#%% md\n"
    }
   },
   "source": [
    "## Exercise g) Complete the forward pass\n",
    "\n",
    "In the code below we initialize a 1-5-1 network and pass the training set through it. *The forward method in DenseLayer is **not** complete*. It just outputs zeros right now. The method forward should perform an [affine transformation](https://en.wikipedia.org/wiki/Affine_transformation) on the input followed by an application of the activation function."
   ]
  },
  {
   "cell_type": "code",
   "execution_count": 18,
   "metadata": {
    "colab": {
     "base_uri": "https://localhost:8080/",
     "height": 337
    },
    "id": "xDEjtePxE7Mv",
    "outputId": "753406cd-d8a1-4282-ce03-25ad959b0e11",
    "pycharm": {
     "name": "#%%\n"
    }
   },
   "outputs": [
    {
     "name": "stdout",
     "output_type": "stream",
     "text": [
      "[[Var(v=0.0099, grad=0.0000)], [Var(v=0.0199, grad=0.0000)], [Var(v=0.0018, grad=0.0000)], [Var(v=-0.0034, grad=0.0000)], [Var(v=0.0147, grad=0.0000)], [Var(v=0.0135, grad=0.0000)], [Var(v=0.0088, grad=0.0000)], [Var(v=-0.0008, grad=0.0000)], [Var(v=-0.0035, grad=0.0000)], [Var(v=0.0055, grad=0.0000)], [Var(v=0.0153, grad=0.0000)], [Var(v=-0.0022, grad=0.0000)], [Var(v=0.0123, grad=0.0000)], [Var(v=-0.0025, grad=0.0000)], [Var(v=0.0066, grad=0.0000)], [Var(v=0.0128, grad=0.0000)], [Var(v=0.0235, grad=0.0000)], [Var(v=0.0112, grad=0.0000)], [Var(v=0.0012, grad=0.0000)], [Var(v=0.0039, grad=0.0000)], [Var(v=-0.0016, grad=0.0000)], [Var(v=-0.0007, grad=0.0000)], [Var(v=0.0172, grad=0.0000)], [Var(v=0.0174, grad=0.0000)], [Var(v=-0.0009, grad=0.0000)], [Var(v=-0.0025, grad=0.0000)], [Var(v=0.0223, grad=0.0000)], [Var(v=0.0245, grad=0.0000)], [Var(v=0.0026, grad=0.0000)], [Var(v=0.0155, grad=0.0000)], [Var(v=-0.0032, grad=0.0000)], [Var(v=0.0037, grad=0.0000)], [Var(v=-0.0028, grad=0.0000)], [Var(v=-0.0030, grad=0.0000)], [Var(v=0.0118, grad=0.0000)], [Var(v=-0.0006, grad=0.0000)], [Var(v=-0.0034, grad=0.0000)], [Var(v=-0.0013, grad=0.0000)], [Var(v=-0.0024, grad=0.0000)], [Var(v=-0.0017, grad=0.0000)], [Var(v=-0.0012, grad=0.0000)], [Var(v=-0.0017, grad=0.0000)], [Var(v=0.0231, grad=0.0000)], [Var(v=-0.0021, grad=0.0000)], [Var(v=-0.0016, grad=0.0000)], [Var(v=-0.0020, grad=0.0000)], [Var(v=0.0148, grad=0.0000)], [Var(v=0.0140, grad=0.0000)], [Var(v=-0.0008, grad=0.0000)], [Var(v=0.0143, grad=0.0000)], [Var(v=0.0062, grad=0.0000)], [Var(v=0.0005, grad=0.0000)], [Var(v=0.0156, grad=0.0000)], [Var(v=-0.0017, grad=0.0000)], [Var(v=0.0248, grad=0.0000)], [Var(v=0.0218, grad=0.0000)], [Var(v=-0.0011, grad=0.0000)], [Var(v=-0.0013, grad=0.0000)], [Var(v=0.0082, grad=0.0000)], [Var(v=-0.0030, grad=0.0000)], [Var(v=0.0145, grad=0.0000)], [Var(v=-0.0021, grad=0.0000)], [Var(v=-0.0035, grad=0.0000)], [Var(v=0.0070, grad=0.0000)], [Var(v=0.0051, grad=0.0000)], [Var(v=-0.0028, grad=0.0000)], [Var(v=-0.0031, grad=0.0000)], [Var(v=0.0183, grad=0.0000)], [Var(v=-0.0022, grad=0.0000)], [Var(v=0.0072, grad=0.0000)], [Var(v=-0.0008, grad=0.0000)], [Var(v=-0.0004, grad=0.0000)], [Var(v=0.0142, grad=0.0000)], [Var(v=0.0083, grad=0.0000)], [Var(v=-0.0003, grad=0.0000)], [Var(v=0.0224, grad=0.0000)], [Var(v=-0.0015, grad=0.0000)], [Var(v=-0.0015, grad=0.0000)], [Var(v=-0.0019, grad=0.0000)], [Var(v=0.0234, grad=0.0000)], [Var(v=0.0036, grad=0.0000)], [Var(v=0.0021, grad=0.0000)], [Var(v=-0.0031, grad=0.0000)], [Var(v=-0.0004, grad=0.0000)], [Var(v=-0.0016, grad=0.0000)], [Var(v=-0.0007, grad=0.0000)], [Var(v=-0.0006, grad=0.0000)], [Var(v=-0.0018, grad=0.0000)], [Var(v=-0.0032, grad=0.0000)], [Var(v=-0.0034, grad=0.0000)], [Var(v=0.0085, grad=0.0000)], [Var(v=-0.0010, grad=0.0000)], [Var(v=-0.0019, grad=0.0000)], [Var(v=0.0132, grad=0.0000)], [Var(v=-0.0027, grad=0.0000)], [Var(v=-0.0032, grad=0.0000)], [Var(v=0.0061, grad=0.0000)], [Var(v=0.0010, grad=0.0000)], [Var(v=0.0212, grad=0.0000)], [Var(v=-0.0019, grad=0.0000)], [Var(v=0.0139, grad=0.0000)], [Var(v=-0.0018, grad=0.0000)], [Var(v=-0.0028, grad=0.0000)], [Var(v=0.0067, grad=0.0000)], [Var(v=0.0197, grad=0.0000)]]\n"
     ]
    }
   ],
   "source": [
    "NN = [\n",
    "    DenseLayer(1, 5, lambda x: x.relu()),\n",
    "    DenseLayer(5, 1, lambda x: x.identity())\n",
    "]\n",
    "\n",
    "def forward(input, network):\n",
    "\n",
    "  def forward_single(x, network):\n",
    "    for layer in network:\n",
    "        x = layer.forward(x)\n",
    "    return x\n",
    "\n",
    "  output = [ forward_single(input[n], network) for n in range(len(input))]\n",
    "  return output\n",
    "\n",
    "print(forward(x_train, NN))\n"
   ]
  },
  {
   "cell_type": "markdown",
   "metadata": {
    "id": "oLrGJytZFtGm",
    "pycharm": {
     "name": "#%% md\n"
    }
   },
   "source": [
    "## Exercise h) Print all network parameters\n",
    "\n",
    "Make a function that prints all the parameters of the network (weights and biases) with information about in which layer the appear. In the object oriented spirit you should introduce a method in the DenseLayer class to print the parameters of a layer. Hint: You can take inspiration from the corresponding method in Var. "
   ]
  },
  {
   "cell_type": "code",
   "execution_count": 19,
   "metadata": {
    "id": "iac-VwYGFtGm",
    "pycharm": {
     "name": "#%%\n"
    }
   },
   "outputs": [
    {
     "name": "stdout",
     "output_type": "stream",
     "text": [
      "These are the weights for layer1: [[Var(v=-0.1879, grad=0.0000), Var(v=0.0315, grad=0.0000), Var(v=-0.1948, grad=0.0000), Var(v=0.1427, grad=0.0000), Var(v=0.0890, grad=0.0000)]]\n",
      "These are the bias for layer1: [Var(v=0.0000, grad=0.0000), Var(v=0.0000, grad=0.0000), Var(v=0.0000, grad=0.0000), Var(v=0.0000, grad=0.0000), Var(v=0.0000, grad=0.0000)]\n",
      "These are the weights for layer2: [[Var(v=0.0104, grad=0.0000)], [Var(v=0.0600, grad=0.0000)], [Var(v=-0.0907, grad=0.0000)], [Var(v=0.0076, grad=0.0000)], [Var(v=-0.0080, grad=0.0000)]]\n",
      "These are the bias for layer2: [Var(v=0.0000, grad=0.0000)]\n"
     ]
    }
   ],
   "source": [
    "# Insert code here and in the DenseLayer class def parameters(network):\n",
    "NN = [\n",
    "    DenseLayer(1, 5, lambda x: x.relu()),\n",
    "    DenseLayer(5, 1, lambda x: x.identity())\n",
    "]\n",
    "\n",
    "def get_parameters(network):\n",
    "    for index, layer in enumerate(network):\n",
    "        print(f\"These are the weights for layer{index+1}: {network[index].weights}\")\n",
    "        print(f\"These are the bias for layer{index+1}: {network[index].bias}\")\n",
    "\n",
    "get_parameters(NN)\n",
    "\n"
   ]
  },
  {
   "cell_type": "markdown",
   "source": [
    "## Answer:\n",
    "I see that the functionality is already implemented in the DenseLayer class, so I just utilized it here"
   ],
   "metadata": {
    "collapsed": false,
    "pycharm": {
     "name": "#%% md\n"
    }
   }
  },
  {
   "cell_type": "markdown",
   "metadata": {
    "id": "_79HOAXrFtHK",
    "pycharm": {
     "name": "#%% md\n"
    }
   },
   "source": [
    "## Visualization\n",
    "\n",
    "Now that we have defined our activation functions we can visualize them to see what they look like:"
   ]
  },
  {
   "cell_type": "code",
   "execution_count": 20,
   "metadata": {
    "id": "1FcylHqLTl-Z",
    "pycharm": {
     "name": "#%%\n"
    }
   },
   "outputs": [
    {
     "data": {
      "text/plain": "[<matplotlib.lines.Line2D at 0x29b1fea7fd0>]"
     },
     "execution_count": 20,
     "metadata": {},
     "output_type": "execute_result"
    },
    {
     "data": {
      "text/plain": "<Figure size 432x288 with 1 Axes>",
      "image/png": "[encoded data removed]"
     },
     "metadata": {
      "needs_background": "light"
     },
     "output_type": "display_data"
    }
   ],
   "source": [
    "x = np.linspace(-6, 6, 100)\n",
    "\n",
    "# convert from Var to ndarray  \n",
    "def Var_to_nparray(x):\n",
    "  y = np.zeros((len(x),len(x[0])))\n",
    "  for i in range(len(x)):\n",
    "    for j in range(len(x[0])):\n",
    "      y[i,j] = x[i][j].v\n",
    "  return y\n",
    "\n",
    "# define 1-1 network with weight = 1 and relu activation \n",
    "NN = [ DenseLayer(1, 1, lambda x: x.relu(), initializer = ConstantInitializer(1.0)) ] \n",
    "y = Var_to_nparray(forward(nparray_to_Var(x), NN))\n",
    "\n",
    "#y = Var_to_nparray(relu(nparray_to_Var(x)))\n",
    "plt.plot(x,y)"
   ]
  },
  {
   "cell_type": "code",
   "execution_count": 21,
   "metadata": {
    "id": "oOL2UolJFtHL",
    "pycharm": {
     "name": "#%%\n"
    }
   },
   "outputs": [
    {
     "data": {
      "text/plain": "<Figure size 360x360 with 1 Axes>",
      "image/png": "[encoded data removed]"
     },
     "metadata": {
      "needs_background": "light"
     },
     "output_type": "display_data"
    }
   ],
   "source": [
    "# Testing all activation layers\n",
    "\n",
    "x = np.linspace(-6, 6, 100)\n",
    "units = {\n",
    "    \"identity\": lambda x: x.identity(),\n",
    "    \"sigmoid\": lambda x: x.sigmoid(),\n",
    "    \"relu\": lambda x: x.relu(),\n",
    "    \"tanh\": lambda x: x.tanh()\n",
    "}\n",
    "\n",
    "plt.figure(figsize=(5, 5))\n",
    "[plt.plot(x, Var_to_nparray(forward(nparray_to_Var(x), [DenseLayer(1, 1, unit, initializer = ConstantInitializer(1.0))]) ), label=unit_name, lw=2) for unit_name, unit in units.items()]\n",
    "# unit(nparray_to_Var(x))), label=unit_name, lw=2) for unit_name, unit in units.items()]\n",
    "plt.legend(loc=2, fontsize=16)\n",
    "plt.title('Our activation functions', fontsize=20)\n",
    "plt.ylim([-2, 5])\n",
    "plt.xlim([-6, 6])\n",
    "plt.show()"
   ]
  },
  {
   "cell_type": "markdown",
   "metadata": {
    "id": "b-jdEl-7FtGs",
    "pycharm": {
     "name": "#%% md\n"
    }
   },
   "source": [
    "# Advanced initialization schemes\n",
    "\n",
    "If we are not careful with initialization, the signals we propagate forward ($a^{(l)}$, $l=1,\\ldots,L$) and backward ($\\delta^l$, $l=L,L-1,\\ldots,1$) can blow up or shrink to zero. A statistical analysis of the variance of the signals for different activation functions can be found in these two papers: [Glorot initialization](http://proceedings.mlr.press/v9/glorot10a/glorot10a.pdf) and [He initialization](https://arxiv.org/pdf/1502.01852v1.pdf). \n",
    "\n",
    "The result of the analyses are proposals for how to make the initialization such that the variance of the signals (forward and backward) are kept approxmimatly constant when propagating from layer to layer. The exact expressions depend upon the non-linear activation function used. In Glorot initialization, the aim is to keep both the forward and backward variances constant whereas He only aims at keeping the variance in the forward pass constant.\n",
    "\n",
    "We define $n_{in}$ and $n_{out}$ as the number of input units and output units of a particular layer. \n",
    "\n",
    "The Glorot initialization has the form: \n",
    "\n",
    "$$w_{ij} \\sim N \\bigg( 0, \\, \\frac{2 \\alpha }{n_{in} + n_{out}} \\bigg) \\ . $$\n",
    "\n",
    "where $N(\\mu,\\sigma^2)$ is a Gaussian distribution with mean $\\mu$ and variance $\\sigma^2$ and $\\alpha$ is a parameter that depends upon the activation function used. For $\\tanh$, $\\alpha=1$ and for Rectified Linear Unit (ReLU) activations, $\\alpha=2$. (It is also possible to use a uniform distribution for initialization, see [this blog post](https://mmuratarat.github.io/2019-02-25/xavier-glorot-he-weight-init).) \n",
    "\n",
    "The He initialization is very similar\n",
    "\n",
    "$$w_{ij} \\sim N \\bigg( 0, \\, \\frac{\\alpha}{n_{in}} \\bigg) \\ . $$"
   ]
  },
  {
   "cell_type": "markdown",
   "metadata": {
    "id": "mqeyab9qFtGs",
    "pycharm": {
     "name": "#%% md\n"
    }
   },
   "source": [
    "## Exercise i) Glorot and He initialization\n",
    " \n",
    "Using the Initializer class, implement functions that implement Glorot and He \n",
    "\n",
    "Explain briefly how you would test numerically that these initializations have the sought after property. Hint: See plots in Glorot paper.\n",
    "\n",
    "Comment: If you want to be more advanced then try to make a universal initializer taking both the activation function and type (Glorot or He) as argument."
   ]
  },
  {
   "cell_type": "markdown",
   "source": [
    "## Answer:\n",
    "We can plot the standard deviation for the weight gradients (for backward) and standard deviation of activation values (for forward) for each layer of the network for each epoch of training. This would e.g. give us a plot with standard deviation along the y-axis and epochs along the x-axis. In doing so we can verify that the initialization has the desired effect if these values are approximately constant for all layers over the range of epochs."
   ],
   "metadata": {
    "collapsed": false,
    "pycharm": {
     "name": "#%% md\n"
    }
   }
  },
  {
   "cell_type": "code",
   "execution_count": 22,
   "metadata": {
    "id": "Qyk01CgaFtGt",
    "pycharm": {
     "name": "#%%\n"
    }
   },
   "outputs": [],
   "source": [
    "## Glorot\n",
    "def DenseLayer_Glorot_tanh(n_in: int, n_out: int):\n",
    "  std = sqrt(2.0*1.0/(n_in+n_out)) # <- replace with proper initialization\n",
    "  return DenseLayer(n_in, n_out, lambda x: x.tanh(), initializer = NormalInitializer(std))\n",
    "\n",
    "## He\n",
    "def DenseLayer_He_relu(n_in: int, n_out: int):\n",
    "  std = sqrt(2.0 / n_in) # <- replace with proper initialization\n",
    "  return DenseLayer(n_in, n_out, lambda x: x.relu(), initializer = NormalInitializer(std))"
   ]
  },
  {
   "cell_type": "markdown",
   "metadata": {
    "id": "-XyXBD37FtHk",
    "pycharm": {
     "name": "#%% md\n"
    }
   },
   "source": [
    "## Exercise j) Forward pass unit test\n",
    "\n",
    "Write a bit of code to make a unit test that the forward pass works. This can be done by defining a simple network with for example all weights equal to one (using the ConstantInitializer method) and identity activation functions. \n",
    "\n",
    "Hints: Use the [assert](https://www.w3schools.com/python/ref_keyword_assert.asp), the nparray_to_Var and the Var_to_nparray commands. "
   ]
  },
  {
   "cell_type": "code",
   "execution_count": 62,
   "metadata": {
    "id": "k0miqRUAFtHl",
    "pycharm": {
     "name": "#%%\n"
    }
   },
   "outputs": [
    {
     "data": {
      "text/plain": "[[Var(v=0.0000, grad=0.0000)],\n [Var(v=1.0000, grad=0.0000)],\n [Var(v=2.0000, grad=0.0000)],\n [Var(v=3.0000, grad=0.0000)],\n [Var(v=4.0000, grad=0.0000)],\n [Var(v=5.0000, grad=0.0000)],\n [Var(v=6.0000, grad=0.0000)],\n [Var(v=7.0000, grad=0.0000)],\n [Var(v=8.0000, grad=0.0000)],\n [Var(v=9.0000, grad=0.0000)]]"
     },
     "execution_count": 62,
     "metadata": {},
     "output_type": "execute_result"
    }
   ],
   "source": [
    "#A network that should output the same dimensionality a\n",
    "NN = [\n",
    "    DenseLayer(1, 5, lambda x: x.relu()),\n",
    "    DenseLayer(5, 1, lambda x: x.identity())\n",
    "]\n",
    "\n",
    "unit_data = nparray_to_Var(np.arange(10))\n",
    "unit_data"
   ]
  },
  {
   "cell_type": "code",
   "execution_count": 60,
   "outputs": [
    {
     "name": "stdout",
     "output_type": "stream",
     "text": [
      "Unit test passed\n"
     ]
    }
   ],
   "source": [
    "def unit_test(network, data):\n",
    "    dim_in = len(Var_to_nparray(data))\n",
    "    out = forward(data,network)\n",
    "    dim_out = len(Var_to_nparray(out))\n",
    "    assert dim_in == dim_out, \"Unit test failed\"\n",
    "    print(\"Unit test passed\")\n",
    "\n",
    "unit_test(NN,unit_data)\n"
   ],
   "metadata": {
    "collapsed": false,
    "pycharm": {
     "name": "#%%\n"
    }
   }
  },
  {
   "cell_type": "markdown",
   "metadata": {
    "id": "faCxhfFnFtHp",
    "pycharm": {
     "name": "#%% md\n"
    }
   },
   "source": [
    "# Loss functions\n",
    "\n",
    "We are only missing a loss function to we need to define a loss function and its derivative with respect to the output of the neural network $y$"
   ]
  },
  {
   "cell_type": "code",
   "execution_count": 61,
   "metadata": {
    "id": "I2eDYKvAFtHq",
    "pycharm": {
     "name": "#%%\n"
    }
   },
   "outputs": [],
   "source": [
    "def squared_loss(t, y):\n",
    "  \n",
    "  # add check that sizes agree\n",
    "  \n",
    "  def squared_loss_single(t, y):\n",
    "    Loss = Var(0.0)\n",
    "    for i in range(len(t)): # sum over outputs\n",
    "      Loss += (t[i]-y[i]) ** 2\n",
    "    return Loss\n",
    "\n",
    "  Loss = Var(0.0)\n",
    "  for n in range(len(t)): # sum over training data\n",
    "    Loss += squared_loss_single(t[n],y[n])\n",
    "  return Loss"
   ]
  },
  {
   "cell_type": "markdown",
   "metadata": {
    "id": "SrwSJ2UWFtHu",
    "pycharm": {
     "name": "#%% md\n"
    }
   },
   "source": [
    "## Exercise j) Implement cross entropy loss\n",
    "\n",
    "Insert code below to implement cross-entropy loss for general dimensionality of $t$. Use a logits formulation:\n",
    "$$\n",
    "\\rm{Loss} = - \\sum_i t_i \\, log \\, p_i \n",
    "$$\n",
    "with $p$ given by the the softmax function in terms of the logits $h$:\n",
    "$$\n",
    "p_i = \\frac{\\exp(h_i)}{\\sum_{i'} \\exp(h_{i'})} .\n",
    "$$\n",
    "Inserting $p$ in the expression for the loss gives\n",
    "$$\n",
    "\\rm{Loss} = - \\sum_i t_i h_i + \\rm{LogSumExp}(h) \\ ,\n",
    "$$\n",
    "where \n",
    "$$\n",
    "\\rm{LogSumExp}(h) = \\log \\sum_i \\exp h_i \\ .\n",
    "$$\n",
    "This is true for $t$ being a one-hot vector. \n",
    "\n",
    "Call the function to convince yourself it works. \n",
    "\n",
    "In practice you want to implement a [numerically stable](https://leimao.github.io/blog/LogSumExp/) version of LogSumExp. But we will not bother about that here.\n",
    "\n",
    "Help: You can add these methods in the Var class:\n",
    "\n",
    "    def exp(self):\n",
    "        return Var(exp(self.v), lambda: [(self, exp(self.v))])\n",
    "    \n",
    "    def log(self):\n",
    "        return Var(log(self.v), lambda: [(self, self.v ** -1)])"
   ]
  },
  {
   "cell_type": "code",
   "execution_count": null,
   "metadata": {
    "id": "6nMuxyfzFtHv",
    "pycharm": {
     "name": "#%%\n"
    }
   },
   "outputs": [],
   "source": [
    "def cross_entropy_loss(t, h):\n",
    "    Loss = Var(0.0)\n",
    "    # Insert code here\n",
    "    p = np.zeros(t)\n",
    "    for i in range(len((p))):\n",
    "        p[i] = exp(h[i]) / sum(h)\n",
    "\n",
    "    for j, val in range(len((p))):\n",
    "        Loss += - t[j]*log(p[j])\n",
    "\n",
    "    return Loss"
   ]
  },
  {
   "cell_type": "markdown",
   "metadata": {
    "id": "8fAF5ew4FtHy",
    "pycharm": {
     "name": "#%% md\n"
    }
   },
   "source": [
    "# Backward pass\n",
    "\n",
    "Now the magic happens! We get the calculation of the gradients for free. Just do:"
   ]
  },
  {
   "cell_type": "code",
   "execution_count": 67,
   "metadata": {
    "id": "iHyfPPI9Qqwu",
    "pycharm": {
     "name": "#%%\n"
    }
   },
   "outputs": [],
   "source": [
    "NN = [\n",
    "    DenseLayer(1, 5, lambda x: x.relu()),\n",
    "    DenseLayer(5, 1, lambda x: x.identity())\n",
    "]\n",
    "\n",
    "output = forward(x_train, NN)\n",
    "\n",
    "Loss = squared_loss(y_train,output)\n",
    "Loss.backward()"
   ]
  },
  {
   "cell_type": "markdown",
   "metadata": {
    "id": "49biIAYKQ1oG",
    "pycharm": {
     "name": "#%% md\n"
    }
   },
   "source": [
    "and the gradients will be calculated:"
   ]
  },
  {
   "cell_type": "code",
   "execution_count": 68,
   "metadata": {
    "id": "_rGt1bq_Q7uk",
    "pycharm": {
     "name": "#%%\n"
    }
   },
   "outputs": [
    {
     "name": "stdout",
     "output_type": "stream",
     "text": [
      "Layer 0 \n",
      " Weights: [[Var(v=0.0916, grad=1.3595), Var(v=0.1013, grad=-2.0469), Var(v=0.1109, grad=18.0467), Var(v=-0.0115, grad=8.8897), Var(v=0.1259, grad=-3.2589)]] Biases: [Var(v=0.0000, grad=1.1675), Var(v=0.0000, grad=-1.7578), Var(v=0.0000, grad=15.4976), Var(v=0.0000, grad=-8.0801), Var(v=0.0000, grad=-2.7985)]\n",
      "Layer 1 \n",
      " Weights: [[Var(v=-0.0132, grad=-9.4479)], [Var(v=0.0198, grad=-10.4503)], [Var(v=-0.1749, grad=-11.4472)], [Var(v=-0.0927, grad=1.1019)], [Var(v=0.0316, grad=-12.9974)]] Biases: [Var(v=0.0000, grad=-1.4524)]\n"
     ]
    },
    {
     "data": {
      "text/plain": "[None, None]"
     },
     "execution_count": 68,
     "metadata": {},
     "output_type": "execute_result"
    }
   ],
   "source": [
    "[print('Layer', i, '\\n', NN[i]) for i in range(len(NN))] "
   ]
  },
  {
   "cell_type": "markdown",
   "metadata": {
    "id": "D7d7qK0uFtH9",
    "pycharm": {
     "name": "#%% md\n"
    }
   },
   "source": [
    "# Backward pass unit test\n",
    "\n",
    "Above we used finite differences to test that Nanograd is actually doing what it is supposed to do. We can in principle try the same for the neural network. But we will trust that the test above is enough."
   ]
  },
  {
   "cell_type": "markdown",
   "metadata": {
    "id": "WgBi8GOSFtIN",
    "pycharm": {
     "name": "#%% md\n"
    }
   },
   "source": [
    "# Training and validation\n",
    "\n",
    "We are ready to train some neural networks!\n",
    "\n",
    "We initialize again:"
   ]
  },
  {
   "cell_type": "code",
   "execution_count": 69,
   "metadata": {
    "id": "01ePmzBzRtdh",
    "pycharm": {
     "name": "#%%\n"
    }
   },
   "outputs": [],
   "source": [
    "NN = [\n",
    "    DenseLayer(1, 15, lambda x: x.relu()),\n",
    "    DenseLayer(15, 50, lambda x: x.relu()),\n",
    "    DenseLayer(50, 1, lambda x: x.identity())\n",
    "]\n",
    "\n",
    "output = forward(x_train, NN)\n",
    "\n",
    "Loss = squared_loss(y_train,output)\n",
    "Loss.backward()"
   ]
  },
  {
   "cell_type": "markdown",
   "metadata": {
    "id": "10iRPiQ1ISHw",
    "pycharm": {
     "name": "#%% md\n"
    }
   },
   "source": [
    "and make an update:\n",
    "\n",
    "We introduce a help function parameters to have a handle in all parameters in the network."
   ]
  },
  {
   "cell_type": "code",
   "execution_count": 70,
   "metadata": {
    "id": "dhAI7eyeznia",
    "pycharm": {
     "name": "#%%\n"
    }
   },
   "outputs": [
    {
     "name": "stdout",
     "output_type": "stream",
     "text": [
      "Network before update:\n",
      "Layer 0 \n",
      " Weights: [[Var(v=0.0648, grad=-1.8142), Var(v=-0.0133, grad=5.2476), Var(v=-0.1297, grad=-2.7529), Var(v=-0.0190, grad=9.0541), Var(v=0.0792, grad=-1.6750), Var(v=0.0258, grad=11.2405), Var(v=-0.1465, grad=-4.5752), Var(v=-0.0626, grad=-1.9490), Var(v=-0.1103, grad=4.4764), Var(v=0.0191, grad=1.5069), Var(v=0.1361, grad=4.5783), Var(v=0.0306, grad=0.8924), Var(v=-0.0811, grad=4.1646), Var(v=0.0921, grad=1.0525), Var(v=0.1265, grad=0.3921)]] Biases: [Var(v=0.0000, grad=-1.5581), Var(v=0.0000, grad=-4.7699), Var(v=0.0000, grad=2.5023), Var(v=0.0000, grad=-8.2298), Var(v=0.0000, grad=-1.4386), Var(v=0.0000, grad=9.6540), Var(v=0.0000, grad=4.1587), Var(v=0.0000, grad=1.7716), Var(v=0.0000, grad=-4.0689), Var(v=0.0000, grad=1.2942), Var(v=0.0000, grad=3.9321), Var(v=0.0000, grad=0.7664), Var(v=0.0000, grad=-3.7855), Var(v=0.0000, grad=0.9040), Var(v=0.0000, grad=0.3368)]\n",
      "Layer 1 \n",
      " Weights: [[Var(v=-0.0686, grad=0.0000), Var(v=-0.0691, grad=0.0000), Var(v=-0.0893, grad=0.0000), Var(v=0.0690, grad=1.0247), Var(v=-0.0722, grad=0.0000), Var(v=0.0551, grad=-1.0447), Var(v=-0.1020, grad=-0.4122), Var(v=0.1118, grad=0.1881), Var(v=-0.2257, grad=0.0000), Var(v=-0.0517, grad=0.6555), Var(v=0.0097, grad=-0.5569), Var(v=-0.0886, grad=0.2956), Var(v=0.0735, grad=0.0546), Var(v=0.0259, grad=0.2625), Var(v=-0.0084, grad=-0.1312), Var(v=0.1245, grad=-0.6394), Var(v=-0.0242, grad=0.5457), Var(v=0.0321, grad=0.0000), Var(v=0.0233, grad=0.0000), Var(v=0.0665, grad=0.0000), Var(v=-0.0752, grad=0.0000), Var(v=0.0383, grad=0.0000), Var(v=0.0357, grad=0.0000), Var(v=0.1256, grad=0.3887), Var(v=-0.0165, grad=0.0000), Var(v=-0.0929, grad=-0.1000), Var(v=0.0526, grad=0.2752), Var(v=-0.0835, grad=0.7404), Var(v=0.0275, grad=-0.5709), Var(v=-0.1721, grad=0.0000), Var(v=0.0198, grad=0.1947), Var(v=-0.1128, grad=0.2634), Var(v=0.0756, grad=0.0000), Var(v=0.1210, grad=-1.2625), Var(v=0.0523, grad=0.0000), Var(v=0.0263, grad=-0.4503), Var(v=-0.1553, grad=0.0000), Var(v=0.0292, grad=0.0000), Var(v=-0.0548, grad=0.7622), Var(v=-0.0360, grad=0.0000), Var(v=0.1955, grad=0.6377), Var(v=0.0145, grad=0.0000), Var(v=0.1738, grad=0.4556), Var(v=0.1889, grad=0.0000), Var(v=-0.0689, grad=0.5245), Var(v=-0.0908, grad=0.0000), Var(v=-0.0550, grad=-0.4013), Var(v=0.0494, grad=0.0000), Var(v=-0.0913, grad=0.0000), Var(v=-0.0961, grad=0.0000)], [Var(v=0.1922, grad=-0.0735), Var(v=-0.0524, grad=0.0447), Var(v=-0.0744, grad=0.0000), Var(v=-0.0522, grad=-0.1969), Var(v=-0.0134, grad=0.0000), Var(v=-0.0453, grad=0.2008), Var(v=-0.1838, grad=0.0000), Var(v=0.0474, grad=-0.0362), Var(v=-0.0226, grad=0.1004), Var(v=0.1685, grad=-0.1260), Var(v=-0.0221, grad=0.0000), Var(v=-0.0088, grad=-0.0568), Var(v=0.0403, grad=-0.0105), Var(v=0.1509, grad=-0.0504), Var(v=-0.0348, grad=0.0000), Var(v=-0.0475, grad=0.0000), Var(v=-0.0373, grad=0.0000), Var(v=0.0155, grad=0.1156), Var(v=0.0012, grad=0.0000), Var(v=0.0451, grad=-0.1688), Var(v=-0.0651, grad=0.0228), Var(v=0.0400, grad=-0.3597), Var(v=-0.0605, grad=0.0000), Var(v=-0.1759, grad=-0.0747), Var(v=0.1495, grad=0.0236), Var(v=0.1160, grad=0.0000), Var(v=-0.0541, grad=0.0000), Var(v=0.0567, grad=-0.1423), Var(v=0.0631, grad=0.1097), Var(v=0.0517, grad=0.0000), Var(v=-0.0285, grad=-0.0374), Var(v=-0.0397, grad=0.0000), Var(v=-0.0649, grad=-0.1669), Var(v=0.2350, grad=0.0000), Var(v=0.1096, grad=0.1319), Var(v=-0.0032, grad=0.0000), Var(v=-0.2090, grad=0.0000), Var(v=-0.0716, grad=0.0073), Var(v=0.0591, grad=0.0000), Var(v=0.1574, grad=-0.0687), Var(v=0.1083, grad=0.0000), Var(v=0.0075, grad=0.0838), Var(v=-0.0466, grad=0.0000), Var(v=-0.0264, grad=0.2626), Var(v=0.0582, grad=0.0000), Var(v=0.2239, grad=-0.0793), Var(v=-0.1537, grad=0.0771), Var(v=0.1240, grad=0.0436), Var(v=-0.0978, grad=0.0000), Var(v=0.0002, grad=0.0000)], [Var(v=-0.0876, grad=-0.7181), Var(v=-0.0386, grad=0.4365), Var(v=-0.1064, grad=0.0000), Var(v=-0.0567, grad=-1.9233), Var(v=-0.1106, grad=0.0000), Var(v=0.0071, grad=1.9608), Var(v=0.1346, grad=0.0000), Var(v=-0.0062, grad=-0.3531), Var(v=0.1376, grad=0.9805), Var(v=0.0840, grad=-1.2303), Var(v=-0.1151, grad=0.0000), Var(v=0.1496, grad=-0.5548), Var(v=-0.0050, grad=-0.1024), Var(v=0.0344, grad=-0.4926), Var(v=0.0139, grad=0.0000), Var(v=0.0309, grad=0.0000), Var(v=-0.0918, grad=0.0000), Var(v=0.0418, grad=1.1287), Var(v=-0.1006, grad=0.0000), Var(v=0.0254, grad=-1.6483), Var(v=0.0694, grad=0.2224), Var(v=-0.0488, grad=-3.5127), Var(v=-0.0743, grad=0.0000), Var(v=0.1253, grad=-0.7295), Var(v=-0.0655, grad=0.2309), Var(v=0.0998, grad=0.0000), Var(v=-0.2157, grad=0.0000), Var(v=-0.0931, grad=-1.3896), Var(v=-0.0689, grad=1.0715), Var(v=-0.1061, grad=0.0000), Var(v=0.0685, grad=-0.3654), Var(v=0.0722, grad=0.0000), Var(v=-0.0358, grad=-1.6297), Var(v=0.0259, grad=0.0000), Var(v=0.0159, grad=1.2880), Var(v=-0.1564, grad=0.0000), Var(v=0.0048, grad=0.0000), Var(v=0.0379, grad=0.0713), Var(v=-0.0089, grad=0.0000), Var(v=0.0783, grad=-0.6711), Var(v=-0.0890, grad=0.0000), Var(v=0.1635, grad=0.8179), Var(v=-0.0733, grad=0.0000), Var(v=-0.0380, grad=2.5649), Var(v=0.0418, grad=0.0000), Var(v=-0.0647, grad=-0.7743), Var(v=0.1196, grad=0.7532), Var(v=-0.1595, grad=0.4260), Var(v=0.0175, grad=0.0000), Var(v=-0.1895, grad=0.0000)], [Var(v=-0.0050, grad=-0.1050), Var(v=0.1073, grad=0.0638), Var(v=-0.0790, grad=0.0000), Var(v=0.0258, grad=-0.2812), Var(v=0.0533, grad=0.0000), Var(v=0.0906, grad=0.2867), Var(v=-0.2064, grad=0.0000), Var(v=0.1317, grad=-0.0516), Var(v=0.0035, grad=0.1434), Var(v=0.2122, grad=-0.1799), Var(v=0.0083, grad=0.0000), Var(v=0.1524, grad=-0.0811), Var(v=-0.0082, grad=-0.0150), Var(v=-0.0518, grad=-0.0720), Var(v=0.0046, grad=0.0000), Var(v=-0.1146, grad=0.0000), Var(v=-0.1333, grad=0.0000), Var(v=-0.0942, grad=0.1650), Var(v=0.0934, grad=0.0000), Var(v=0.0449, grad=-0.2410), Var(v=0.1066, grad=0.0325), Var(v=0.0683, grad=-0.5136), Var(v=0.1089, grad=0.0000), Var(v=0.0145, grad=-0.1067), Var(v=-0.0540, grad=0.0338), Var(v=-0.0636, grad=0.0000), Var(v=0.0760, grad=0.0000), Var(v=0.1489, grad=-0.2032), Var(v=0.0808, grad=0.1567), Var(v=-0.0211, grad=0.0000), Var(v=-0.0512, grad=-0.0534), Var(v=0.0384, grad=0.0000), Var(v=-0.0016, grad=-0.2383), Var(v=-0.0670, grad=0.0000), Var(v=-0.0241, grad=0.1883), Var(v=-0.1420, grad=0.0000), Var(v=0.2717, grad=0.0000), Var(v=-0.0178, grad=0.0104), Var(v=0.0950, grad=0.0000), Var(v=0.1243, grad=-0.0981), Var(v=-0.0705, grad=0.0000), Var(v=-0.1290, grad=0.1196), Var(v=-0.0829, grad=0.0000), Var(v=-0.0825, grad=0.3750), Var(v=-0.0036, grad=0.0000), Var(v=0.1260, grad=-0.1132), Var(v=0.0498, grad=0.1101), Var(v=0.0489, grad=0.0623), Var(v=-0.0165, grad=0.0000), Var(v=0.0908, grad=0.0000)], [Var(v=-0.1615, grad=0.0000), Var(v=-0.0150, grad=0.0000), Var(v=-0.0695, grad=0.0000), Var(v=-0.0742, grad=1.2533), Var(v=0.0197, grad=0.0000), Var(v=0.0151, grad=-1.2777), Var(v=-0.0496, grad=-0.5041), Var(v=-0.2510, grad=0.2301), Var(v=-0.0264, grad=0.0000), Var(v=-0.0658, grad=0.8017), Var(v=-0.0270, grad=-0.6812), Var(v=-0.0365, grad=0.3615), Var(v=-0.1301, grad=0.0667), Var(v=-0.0576, grad=0.3210), Var(v=0.1407, grad=-0.1604), Var(v=0.1019, grad=-0.7820), Var(v=0.1423, grad=0.6674), Var(v=-0.1190, grad=0.0000), Var(v=0.1745, grad=0.0000), Var(v=-0.1314, grad=0.0000), Var(v=0.0075, grad=0.0000), Var(v=-0.0089, grad=0.0000), Var(v=-0.1294, grad=0.0000), Var(v=0.0190, grad=0.4754), Var(v=0.0566, grad=0.0000), Var(v=0.1859, grad=-0.1224), Var(v=0.0190, grad=0.3366), Var(v=0.0152, grad=0.9055), Var(v=0.0599, grad=-0.6982), Var(v=-0.1603, grad=0.0000), Var(v=0.1068, grad=0.2381), Var(v=-0.0612, grad=0.3222), Var(v=-0.0673, grad=0.0000), Var(v=0.0439, grad=-1.5441), Var(v=0.0410, grad=0.0000), Var(v=-0.0281, grad=-0.5507), Var(v=-0.0112, grad=0.0000), Var(v=0.0313, grad=0.0000), Var(v=0.0272, grad=0.9322), Var(v=0.2158, grad=0.0000), Var(v=0.1893, grad=0.7800), Var(v=-0.1066, grad=0.0000), Var(v=0.1019, grad=0.5572), Var(v=0.0111, grad=0.0000), Var(v=-0.1151, grad=0.6415), Var(v=0.1575, grad=0.0000), Var(v=-0.0414, grad=-0.4908), Var(v=0.0048, grad=0.0000), Var(v=-0.0810, grad=0.0000), Var(v=0.0888, grad=0.0000)], [Var(v=0.0323, grad=0.0000), Var(v=0.0112, grad=0.0000), Var(v=-0.0046, grad=0.0000), Var(v=0.2092, grad=0.4076), Var(v=-0.0630, grad=0.0000), Var(v=0.1518, grad=-0.4156), Var(v=-0.1680, grad=-0.1640), Var(v=-0.0790, grad=0.0748), Var(v=0.0196, grad=0.0000), Var(v=0.0385, grad=0.2607), Var(v=0.0359, grad=-0.2215), Var(v=0.0930, grad=0.1176), Var(v=0.0256, grad=0.0217), Var(v=0.0885, grad=0.1044), Var(v=0.2474, grad=-0.0522), Var(v=-0.0984, grad=-0.2543), Var(v=0.0067, grad=0.2171), Var(v=-0.0811, grad=0.0000), Var(v=0.0301, grad=0.0000), Var(v=-0.1451, grad=0.0000), Var(v=0.1781, grad=0.0000), Var(v=0.0571, grad=0.0000), Var(v=0.0036, grad=0.0000), Var(v=0.0872, grad=0.1546), Var(v=0.0002, grad=0.0000), Var(v=-0.0431, grad=-0.0398), Var(v=0.0363, grad=0.1095), Var(v=-0.0784, grad=0.2945), Var(v=-0.1015, grad=-0.2271), Var(v=-0.0216, grad=0.0000), Var(v=0.0369, grad=0.0774), Var(v=0.0943, grad=0.1048), Var(v=-0.1076, grad=0.0000), Var(v=-0.1996, grad=-0.5022), Var(v=0.1072, grad=0.0000), Var(v=-0.0144, grad=-0.1791), Var(v=-0.0685, grad=0.0000), Var(v=-0.0963, grad=0.0000), Var(v=0.0964, grad=0.3032), Var(v=-0.0692, grad=0.0000), Var(v=0.0726, grad=0.2537), Var(v=-0.0075, grad=0.0000), Var(v=-0.0101, grad=0.1812), Var(v=-0.0894, grad=0.0000), Var(v=0.1912, grad=0.2086), Var(v=-0.1903, grad=0.0000), Var(v=0.0690, grad=-0.1596), Var(v=0.0354, grad=0.0000), Var(v=-0.1133, grad=0.0000), Var(v=-0.1001, grad=0.0000)], [Var(v=0.1529, grad=-0.8110), Var(v=0.0441, grad=0.4929), Var(v=0.0124, grad=0.0000), Var(v=-0.0828, grad=-2.1719), Var(v=-0.1130, grad=0.0000), Var(v=0.0352, grad=2.2142), Var(v=-0.0370, grad=0.0000), Var(v=-0.0153, grad=-0.3987), Var(v=0.0235, grad=1.1073), Var(v=0.0440, grad=-1.3893), Var(v=-0.2815, grad=0.0000), Var(v=0.0142, grad=-0.6265), Var(v=0.0263, grad=-0.1156), Var(v=-0.0551, grad=-0.5563), Var(v=-0.1678, grad=0.0000), Var(v=-0.0430, grad=0.0000), Var(v=-0.1260, grad=0.0000), Var(v=0.0704, grad=1.2746), Var(v=-0.0222, grad=0.0000), Var(v=0.0676, grad=-1.8614), Var(v=-0.0145, grad=0.2512), Var(v=-0.0526, grad=-3.9667), Var(v=-0.1992, grad=0.0000), Var(v=-0.1923, grad=-0.8238), Var(v=0.1056, grad=0.2607), Var(v=-0.1177, grad=0.0000), Var(v=-0.0442, grad=0.0000), Var(v=0.0531, grad=-1.5692), Var(v=0.0150, grad=1.2099), Var(v=-0.0538, grad=0.0000), Var(v=-0.0252, grad=-0.4126), Var(v=-0.1566, grad=0.0000), Var(v=0.1116, grad=-1.8403), Var(v=-0.2021, grad=0.0000), Var(v=0.0577, grad=1.4545), Var(v=0.0643, grad=0.0000), Var(v=-0.0531, grad=0.0000), Var(v=0.1560, grad=0.0806), Var(v=0.0230, grad=0.0000), Var(v=0.0406, grad=-0.7578), Var(v=-0.0377, grad=0.0000), Var(v=0.0218, grad=0.9236), Var(v=0.0187, grad=0.0000), Var(v=0.1210, grad=2.8964), Var(v=-0.0563, grad=0.0000), Var(v=0.0746, grad=-0.8743), Var(v=0.0407, grad=0.8506), Var(v=0.0508, grad=0.4810), Var(v=0.0484, grad=0.0000), Var(v=-0.1901, grad=0.0000)], [Var(v=0.0672, grad=-0.3466), Var(v=0.1513, grad=0.2107), Var(v=0.0463, grad=0.0000), Var(v=0.1203, grad=-0.9283), Var(v=0.0183, grad=0.0000), Var(v=-0.0512, grad=0.9465), Var(v=-0.0886, grad=0.0000), Var(v=0.1607, grad=-0.1704), Var(v=-0.1359, grad=0.4733), Var(v=0.1581, grad=-0.5939), Var(v=-0.0478, grad=0.0000), Var(v=-0.0821, grad=-0.2678), Var(v=0.0214, grad=-0.0494), Var(v=-0.0190, grad=-0.2378), Var(v=-0.3076, grad=0.0000), Var(v=-0.0723, grad=0.0000), Var(v=-0.0662, grad=0.0000), Var(v=0.0997, grad=0.5448), Var(v=-0.0718, grad=0.0000), Var(v=-0.1665, grad=-0.7956), Var(v=0.0742, grad=0.1074), Var(v=-0.1764, grad=-1.6955), Var(v=0.0032, grad=0.0000), Var(v=-0.0474, grad=-0.3521), Var(v=-0.0513, grad=0.1114), Var(v=0.0536, grad=0.0000), Var(v=-0.2479, grad=0.0000), Var(v=-0.0812, grad=-0.6707), Var(v=0.0344, grad=0.5172), Var(v=0.0016, grad=0.0000), Var(v=-0.0059, grad=-0.1764), Var(v=0.0036, grad=0.0000), Var(v=0.1573, grad=-0.7866), Var(v=0.1043, grad=0.0000), Var(v=0.2079, grad=0.6217), Var(v=-0.0420, grad=0.0000), Var(v=0.0414, grad=0.0000), Var(v=0.1164, grad=0.0344), Var(v=0.0533, grad=0.0000), Var(v=-0.2470, grad=-0.3239), Var(v=-0.0519, grad=0.0000), Var(v=0.0607, grad=0.3948), Var(v=-0.1088, grad=0.0000), Var(v=-0.1597, grad=1.2380), Var(v=-0.1324, grad=0.0000), Var(v=0.1399, grad=-0.3737), Var(v=-0.0703, grad=0.3636), Var(v=0.0865, grad=0.2056), Var(v=-0.0974, grad=0.0000), Var(v=-0.0266, grad=0.0000)], [Var(v=-0.0019, grad=-0.6107), Var(v=-0.0846, grad=0.3712), Var(v=-0.0657, grad=0.0000), Var(v=0.1266, grad=-1.6356), Var(v=-0.1259, grad=0.0000), Var(v=-0.0404, grad=1.6675), Var(v=-0.1222, grad=0.0000), Var(v=-0.0400, grad=-0.3002), Var(v=0.0094, grad=0.8338), Var(v=0.1379, grad=-1.0463), Var(v=-0.0263, grad=0.0000), Var(v=-0.1722, grad=-0.4718), Var(v=-0.0027, grad=-0.0871), Var(v=-0.0324, grad=-0.4189), Var(v=0.0106, grad=0.0000), Var(v=0.0724, grad=0.0000), Var(v=0.0506, grad=0.0000), Var(v=-0.0430, grad=0.9599), Var(v=0.0139, grad=0.0000), Var(v=0.0826, grad=-1.4017), Var(v=0.1812, grad=0.1892), Var(v=0.1300, grad=-2.9872), Var(v=0.0692, grad=0.0000), Var(v=0.2210, grad=-0.6204), Var(v=0.0424, grad=0.1963), Var(v=0.0067, grad=0.0000), Var(v=-0.1336, grad=0.0000), Var(v=0.0643, grad=-1.1817), Var(v=0.1304, grad=0.9112), Var(v=-0.1679, grad=0.0000), Var(v=-0.0417, grad=-0.3107), Var(v=-0.0941, grad=0.0000), Var(v=-0.0080, grad=-1.3859), Var(v=-0.0232, grad=0.0000), Var(v=0.0990, grad=1.0953), Var(v=-0.3085, grad=0.0000), Var(v=-0.0785, grad=0.0000), Var(v=0.0150, grad=0.0607), Var(v=-0.0513, grad=0.0000), Var(v=0.0208, grad=-0.5707), Var(v=-0.0566, grad=0.0000), Var(v=-0.0576, grad=0.6955), Var(v=-0.1507, grad=0.0000), Var(v=0.1776, grad=2.1812), Var(v=0.0110, grad=0.0000), Var(v=-0.0163, grad=-0.6584), Var(v=-0.1148, grad=0.6406), Var(v=0.0875, grad=0.3622), Var(v=-0.0891, grad=0.0000), Var(v=-0.1244, grad=0.0000)], [Var(v=0.1258, grad=0.0000), Var(v=0.0180, grad=0.0000), Var(v=-0.0325, grad=0.0000), Var(v=0.0181, grad=0.3014), Var(v=-0.0666, grad=0.0000), Var(v=-0.0493, grad=-0.3073), Var(v=0.0438, grad=-0.1212), Var(v=-0.0370, grad=0.0553), Var(v=-0.0220, grad=0.0000), Var(v=-0.0255, grad=0.1928), Var(v=-0.0460, grad=-0.1638), Var(v=0.0949, grad=0.0870), Var(v=0.2116, grad=0.0160), Var(v=0.0803, grad=0.0772), Var(v=0.1139, grad=-0.0386), Var(v=-0.1753, grad=-0.1881), Var(v=-0.1374, grad=0.1605), Var(v=-0.1066, grad=0.0000), Var(v=-0.0627, grad=0.0000), Var(v=-0.0908, grad=0.0000), Var(v=-0.1375, grad=0.0000), Var(v=-0.0074, grad=0.0000), Var(v=0.1184, grad=0.0000), Var(v=-0.1089, grad=0.1143), Var(v=0.0373, grad=0.0000), Var(v=0.1464, grad=-0.0294), Var(v=-0.1206, grad=0.0810), Var(v=0.0405, grad=0.2178), Var(v=0.1447, grad=-0.1679), Var(v=0.1098, grad=0.0000), Var(v=0.2505, grad=0.0573), Var(v=0.0410, grad=0.0775), Var(v=-0.0504, grad=0.0000), Var(v=-0.1272, grad=-0.3714), Var(v=-0.0004, grad=0.0000), Var(v=-0.0873, grad=-0.1324), Var(v=0.0279, grad=0.0000), Var(v=-0.1699, grad=0.0000), Var(v=0.0556, grad=0.2242), Var(v=-0.0827, grad=0.0000), Var(v=-0.2698, grad=0.1876), Var(v=0.1651, grad=0.0000), Var(v=0.1480, grad=0.1340), Var(v=0.0994, grad=0.0000), Var(v=-0.0532, grad=0.1543), Var(v=0.0510, grad=0.0000), Var(v=0.1632, grad=-0.1181), Var(v=-0.0360, grad=0.0000), Var(v=0.1216, grad=0.0000), Var(v=-0.0372, grad=0.0000)], [Var(v=-0.0451, grad=0.0000), Var(v=0.0554, grad=0.0000), Var(v=-0.1139, grad=0.0000), Var(v=0.0941, grad=2.1525), Var(v=-0.1302, grad=0.0000), Var(v=-0.0552, grad=-2.1945), Var(v=0.0683, grad=-0.8658), Var(v=0.1646, grad=0.3951), Var(v=-0.0633, grad=0.0000), Var(v=0.1196, grad=1.3769), Var(v=-0.0068, grad=-1.1699), Var(v=0.1334, grad=0.6209), Var(v=0.0074, grad=0.1146), Var(v=0.2311, grad=0.5513), Var(v=-0.0662, grad=-0.2756), Var(v=0.0586, grad=-1.3430), Var(v=0.0749, grad=1.1463), Var(v=0.0040, grad=0.0000), Var(v=-0.1360, grad=0.0000), Var(v=-0.0854, grad=0.0000), Var(v=0.1254, grad=0.0000), Var(v=-0.1687, grad=0.0000), Var(v=-0.0191, grad=0.0000), Var(v=0.0173, grad=0.8165), Var(v=-0.1112, grad=0.0000), Var(v=0.0662, grad=-0.2101), Var(v=0.1818, grad=0.5782), Var(v=0.0130, grad=1.5552), Var(v=-0.0280, grad=-1.1991), Var(v=0.0387, grad=0.0000), Var(v=0.0445, grad=0.4089), Var(v=0.0493, grad=0.5533), Var(v=-0.1149, grad=0.0000), Var(v=0.0994, grad=-2.6520), Var(v=-0.1779, grad=0.0000), Var(v=0.0129, grad=-0.9458), Var(v=-0.0212, grad=0.0000), Var(v=-0.0788, grad=0.0000), Var(v=-0.0272, grad=1.6011), Var(v=0.0020, grad=0.0000), Var(v=-0.0539, grad=1.3396), Var(v=-0.0808, grad=0.0000), Var(v=-0.0229, grad=0.9571), Var(v=0.0401, grad=0.0000), Var(v=0.0729, grad=1.1017), Var(v=-0.1952, grad=0.0000), Var(v=-0.0155, grad=-0.8430), Var(v=-0.0155, grad=0.0000), Var(v=-0.1294, grad=0.0000), Var(v=-0.1478, grad=0.0000)], [Var(v=-0.0138, grad=0.0000), Var(v=-0.1508, grad=0.0000), Var(v=0.0521, grad=0.0000), Var(v=-0.0927, grad=0.4838), Var(v=-0.1000, grad=0.0000), Var(v=-0.0595, grad=-0.4932), Var(v=0.0432, grad=-0.1946), Var(v=0.0888, grad=0.0888), Var(v=0.0343, grad=0.0000), Var(v=-0.0587, grad=0.3095), Var(v=0.0263, grad=-0.2630), Var(v=0.1033, grad=0.1396), Var(v=0.1181, grad=0.0258), Var(v=-0.0849, grad=0.1239), Var(v=-0.0408, grad=-0.0619), Var(v=0.0993, grad=-0.3019), Var(v=0.0609, grad=0.2577), Var(v=-0.0291, grad=0.0000), Var(v=0.0193, grad=0.0000), Var(v=0.1790, grad=0.0000), Var(v=0.0596, grad=0.0000), Var(v=-0.1941, grad=0.0000), Var(v=0.0237, grad=0.0000), Var(v=0.0349, grad=0.1835), Var(v=0.0001, grad=0.0000), Var(v=0.1956, grad=-0.0472), Var(v=0.0996, grad=0.1300), Var(v=-0.0120, grad=0.3496), Var(v=0.0800, grad=-0.2695), Var(v=0.0526, grad=0.0000), Var(v=-0.0727, grad=0.0919), Var(v=0.0308, grad=0.1244), Var(v=0.1716, grad=0.0000), Var(v=-0.1283, grad=-0.5961), Var(v=-0.1248, grad=0.0000), Var(v=-0.1458, grad=-0.2126), Var(v=0.0267, grad=0.0000), Var(v=0.0685, grad=0.0000), Var(v=-0.1350, grad=0.3599), Var(v=-0.0691, grad=0.0000), Var(v=0.0673, grad=0.3011), Var(v=0.0639, grad=0.0000), Var(v=0.1017, grad=0.2151), Var(v=-0.2472, grad=0.0000), Var(v=0.0061, grad=0.2476), Var(v=0.2004, grad=0.0000), Var(v=0.0566, grad=-0.1895), Var(v=-0.1419, grad=0.0000), Var(v=-0.0251, grad=0.0000), Var(v=-0.0827, grad=0.0000)], [Var(v=0.0730, grad=-0.4488), Var(v=0.1071, grad=0.2727), Var(v=-0.1755, grad=0.0000), Var(v=0.0964, grad=-1.2018), Var(v=-0.1029, grad=0.0000), Var(v=0.0950, grad=1.2253), Var(v=-0.0233, grad=0.0000), Var(v=-0.0012, grad=-0.2206), Var(v=-0.0318, grad=0.6127), Var(v=0.2004, grad=-0.7688), Var(v=-0.0182, grad=0.0000), Var(v=0.0542, grad=-0.3467), Var(v=-0.0343, grad=-0.0640), Var(v=0.1450, grad=-0.3078), Var(v=0.0181, grad=0.0000), Var(v=-0.0349, grad=0.0000), Var(v=0.1067, grad=0.0000), Var(v=-0.1268, grad=0.7053), Var(v=-0.1005, grad=0.0000), Var(v=-0.1621, grad=-1.0300), Var(v=0.1922, grad=0.1390), Var(v=0.1187, grad=-2.1951), Var(v=0.2038, grad=0.0000), Var(v=0.1597, grad=-0.4559), Var(v=0.0700, grad=0.1443), Var(v=-0.0062, grad=0.0000), Var(v=0.0856, grad=0.0000), Var(v=0.1281, grad=-0.8683), Var(v=-0.0030, grad=0.6695), Var(v=0.0796, grad=0.0000), Var(v=0.1323, grad=-0.2283), Var(v=-0.0346, grad=0.0000), Var(v=-0.0339, grad=-1.0184), Var(v=-0.0868, grad=0.0000), Var(v=-0.0354, grad=0.8049), Var(v=0.0698, grad=0.0000), Var(v=0.1085, grad=0.0000), Var(v=-0.1053, grad=0.0446), Var(v=-0.1904, grad=0.0000), Var(v=0.0672, grad=-0.4194), Var(v=-0.0476, grad=0.0000), Var(v=-0.0631, grad=0.5111), Var(v=-0.0647, grad=0.0000), Var(v=0.2257, grad=1.6027), Var(v=0.0647, grad=0.0000), Var(v=0.1508, grad=-0.4838), Var(v=0.0147, grad=0.4707), Var(v=0.0969, grad=0.2662), Var(v=0.0229, grad=0.0000), Var(v=-0.1048, grad=0.0000)], [Var(v=0.0075, grad=0.0000), Var(v=0.0127, grad=0.0000), Var(v=0.0185, grad=0.0000), Var(v=0.0324, grad=1.4573), Var(v=-0.1270, grad=0.0000), Var(v=0.1101, grad=-1.4857), Var(v=0.0944, grad=-0.5862), Var(v=-0.0682, grad=0.2675), Var(v=-0.0007, grad=0.0000), Var(v=-0.0383, grad=0.9322), Var(v=0.0815, grad=-0.7921), Var(v=0.0717, grad=0.4204), Var(v=-0.1231, grad=0.0776), Var(v=0.0640, grad=0.3733), Var(v=-0.0127, grad=-0.1866), Var(v=-0.0126, grad=-0.9093), Var(v=0.2172, grad=0.7761), Var(v=0.0364, grad=0.0000), Var(v=-0.0174, grad=0.0000), Var(v=-0.1897, grad=0.0000), Var(v=-0.0807, grad=0.0000), Var(v=0.1361, grad=0.0000), Var(v=0.0222, grad=0.0000), Var(v=-0.1016, grad=0.5528), Var(v=-0.0326, grad=0.0000), Var(v=0.0258, grad=-0.1423), Var(v=0.1093, grad=0.3914), Var(v=0.1237, grad=1.0529), Var(v=-0.0909, grad=-0.8119), Var(v=0.0350, grad=0.0000), Var(v=0.0115, grad=0.2768), Var(v=0.0176, grad=0.3746), Var(v=0.1116, grad=0.0000), Var(v=0.0800, grad=-1.7955), Var(v=-0.0731, grad=0.0000), Var(v=0.1806, grad=-0.6403), Var(v=0.0600, grad=0.0000), Var(v=0.0652, grad=0.0000), Var(v=0.1937, grad=1.0840), Var(v=-0.0449, grad=0.0000), Var(v=-0.0139, grad=0.9069), Var(v=-0.1045, grad=0.0000), Var(v=-0.1004, grad=0.6480), Var(v=0.0128, grad=0.0000), Var(v=0.1026, grad=0.7459), Var(v=-0.0104, grad=0.0000), Var(v=-0.0245, grad=-0.5707), Var(v=0.1224, grad=0.0000), Var(v=-0.1358, grad=0.0000), Var(v=0.0271, grad=0.0000)], [Var(v=-0.0907, grad=0.0000), Var(v=-0.1654, grad=0.0000), Var(v=0.1680, grad=0.0000), Var(v=0.0603, grad=2.0019), Var(v=0.0336, grad=0.0000), Var(v=0.1192, grad=-2.0410), Var(v=0.0582, grad=-0.8053), Var(v=0.0494, grad=0.3675), Var(v=0.1009, grad=0.0000), Var(v=0.2119, grad=1.2806), Var(v=0.1761, grad=-1.0881), Var(v=0.1641, grad=0.5775), Var(v=0.0877, grad=0.1066), Var(v=-0.0116, grad=0.5128), Var(v=0.0649, grad=-0.2563), Var(v=-0.0373, grad=-1.2491), Var(v=0.0062, grad=1.0661), Var(v=-0.0385, grad=0.0000), Var(v=-0.0493, grad=0.0000), Var(v=0.0339, grad=0.0000), Var(v=-0.0859, grad=0.0000), Var(v=0.0533, grad=0.0000), Var(v=-0.0168, grad=0.0000), Var(v=0.1014, grad=0.7594), Var(v=-0.0244, grad=0.0000), Var(v=0.0074, grad=-0.1954), Var(v=0.0335, grad=0.5377), Var(v=0.1541, grad=1.4464), Var(v=0.0713, grad=-1.1153), Var(v=0.0874, grad=0.0000), Var(v=0.1304, grad=0.3803), Var(v=0.0952, grad=0.5146), Var(v=-0.0604, grad=0.0000), Var(v=0.0478, grad=-2.4665), Var(v=-0.1026, grad=0.0000), Var(v=-0.0588, grad=-0.8796), Var(v=-0.1793, grad=0.0000), Var(v=-0.0592, grad=0.0000), Var(v=-0.0653, grad=1.4891), Var(v=-0.1024, grad=0.0000), Var(v=-0.0407, grad=1.2459), Var(v=-0.2629, grad=0.0000), Var(v=-0.0419, grad=0.8901), Var(v=-0.1126, grad=0.0000), Var(v=-0.0515, grad=1.0247), Var(v=-0.0031, grad=0.0000), Var(v=0.0573, grad=-0.7840), Var(v=-0.0885, grad=0.0000), Var(v=0.0476, grad=0.0000), Var(v=-0.0864, grad=0.0000)]] Biases: [Var(v=0.0000, grad=-5.0327), Var(v=0.0000, grad=3.0588), Var(v=0.0000, grad=0.0000), Var(v=0.0000, grad=0.1092), Var(v=0.0000, grad=0.0000), Var(v=0.0000, grad=-0.1113), Var(v=0.0000, grad=-5.4656), Var(v=0.0000, grad=0.0200), Var(v=0.0000, grad=6.8715), Var(v=0.0000, grad=0.0698), Var(v=0.0000, grad=-7.3850), Var(v=0.0000, grad=0.0315), Var(v=0.0000, grad=0.0058), Var(v=0.0000, grad=0.0280), Var(v=0.0000, grad=-1.7395), Var(v=0.0000, grad=-8.4777), Var(v=0.0000, grad=7.2360), Var(v=0.0000, grad=7.9100), Var(v=0.0000, grad=0.0000), Var(v=0.0000, grad=-11.5514), Var(v=0.0000, grad=1.5588), Var(v=0.0000, grad=-24.6169), Var(v=0.0000, grad=0.0000), Var(v=0.0000, grad=0.0414), Var(v=0.0000, grad=1.6179), Var(v=0.0000, grad=-1.3265), Var(v=0.0000, grad=3.6496), Var(v=0.0000, grad=0.0789), Var(v=0.0000, grad=-0.0608), Var(v=0.0000, grad=0.0000), Var(v=0.0000, grad=0.0207), Var(v=0.0000, grad=3.4928), Var(v=0.0000, grad=-11.4208), Var(v=0.0000, grad=-16.7407), Var(v=0.0000, grad=9.0262), Var(v=0.0000, grad=-5.9703), Var(v=0.0000, grad=0.0000), Var(v=0.0000, grad=0.5000), Var(v=0.0000, grad=10.1069), Var(v=0.0000, grad=-4.7029), Var(v=0.0000, grad=8.4560), Var(v=0.0000, grad=5.7318), Var(v=0.0000, grad=6.0415), Var(v=0.0000, grad=17.9744), Var(v=0.0000, grad=6.9548), Var(v=0.0000, grad=-5.4261), Var(v=0.0000, grad=-0.0428), Var(v=0.0000, grad=2.9852), Var(v=0.0000, grad=0.0000), Var(v=0.0000, grad=0.0000)]\n",
      "Layer 2 \n",
      " Weights: [[Var(v=-0.0576, grad=2.2483)], [Var(v=0.0350, grad=1.1148)], [Var(v=-0.0830, grad=0.0000)], [Var(v=-0.1543, grad=-1.6287)], [Var(v=0.2058, grad=0.0000)], [Var(v=0.1573, grad=-1.7276)], [Var(v=0.0621, grad=-1.2972)], [Var(v=-0.0283, grad=-0.4521)], [Var(v=0.0787, grad=1.0579)], [Var(v=-0.0987, grad=3.1961)], [Var(v=0.0839, grad=-2.8907)], [Var(v=-0.0445, grad=-4.1025)], [Var(v=-0.0082, grad=-0.1827)], [Var(v=-0.0395, grad=-3.0820)], [Var(v=0.0198, grad=-1.6331)], [Var(v=0.0963, grad=-1.5789)], [Var(v=-0.0822, grad=-4.1124)], [Var(v=0.0906, grad=0.5163)], [Var(v=-0.0228, grad=0.0000)], [Var(v=-0.1323, grad=0.0183)], [Var(v=0.0178, grad=4.6351)], [Var(v=-0.2818, grad=0.0694)], [Var(v=0.1736, grad=0.0000)], [Var(v=-0.0585, grad=0.2447)], [Var(v=0.0185, grad=1.4492)], [Var(v=0.0151, grad=-2.9414)], [Var(v=-0.0414, grad=-4.6786)], [Var(v=-0.1115, grad=-1.6304)], [Var(v=0.0860, grad=0.5341)], [Var(v=0.1068, grad=0.0000)], [Var(v=-0.0293, grad=-2.8563)], [Var(v=-0.0397, grad=-1.2681)], [Var(v=-0.1308, grad=1.6358)], [Var(v=0.1901, grad=-2.7453)], [Var(v=0.1033, grad=3.1310)], [Var(v=0.0678, grad=-0.4025)], [Var(v=0.0200, grad=0.0000)], [Var(v=0.0057, grad=2.5826)], [Var(v=-0.1148, grad=-0.3997)], [Var(v=-0.0538, grad=1.2329)], [Var(v=-0.0960, grad=-1.3001)], [Var(v=0.0656, grad=1.3827)], [Var(v=-0.0686, grad=-0.7514)], [Var(v=0.2058, grad=3.7253)], [Var(v=-0.0790, grad=-0.3447)], [Var(v=-0.0621, grad=2.6035)], [Var(v=0.0604, grad=0.1598)], [Var(v=0.0342, grad=1.1763)], [Var(v=0.1097, grad=0.0000)], [Var(v=-0.2746, grad=0.0000)]] Biases: [Var(v=0.0000, grad=-0.7075)]\n",
      "\n",
      "Network after update:\n",
      "Layer 0 \n",
      " Weights: [[Var(v=0.0829, grad=-1.8142), Var(v=-0.0658, grad=5.2476), Var(v=-0.1022, grad=-2.7529), Var(v=-0.1095, grad=9.0541), Var(v=0.0960, grad=-1.6750), Var(v=-0.0866, grad=11.2405), Var(v=-0.1007, grad=-4.5752), Var(v=-0.0431, grad=-1.9490), Var(v=-0.1551, grad=4.4764), Var(v=0.0040, grad=1.5069), Var(v=0.0903, grad=4.5783), Var(v=0.0217, grad=0.8924), Var(v=-0.1227, grad=4.1646), Var(v=0.0816, grad=1.0525), Var(v=0.1226, grad=0.3921)]] Biases: [Var(v=0.0156, grad=-1.5581), Var(v=0.0477, grad=-4.7699), Var(v=-0.0250, grad=2.5023), Var(v=0.0823, grad=-8.2298), Var(v=0.0144, grad=-1.4386), Var(v=-0.0965, grad=9.6540), Var(v=-0.0416, grad=4.1587), Var(v=-0.0177, grad=1.7716), Var(v=0.0407, grad=-4.0689), Var(v=-0.0129, grad=1.2942), Var(v=-0.0393, grad=3.9321), Var(v=-0.0077, grad=0.7664), Var(v=0.0379, grad=-3.7855), Var(v=-0.0090, grad=0.9040), Var(v=-0.0034, grad=0.3368)]\n",
      "Layer 1 \n",
      " Weights: [[Var(v=-0.0686, grad=0.0000), Var(v=-0.0691, grad=0.0000), Var(v=-0.0893, grad=0.0000), Var(v=0.0588, grad=1.0247), Var(v=-0.0722, grad=0.0000), Var(v=0.0655, grad=-1.0447), Var(v=-0.0978, grad=-0.4122), Var(v=0.1099, grad=0.1881), Var(v=-0.2257, grad=0.0000), Var(v=-0.0583, grad=0.6555), Var(v=0.0153, grad=-0.5569), Var(v=-0.0915, grad=0.2956), Var(v=0.0729, grad=0.0546), Var(v=0.0233, grad=0.2625), Var(v=-0.0071, grad=-0.1312), Var(v=0.1309, grad=-0.6394), Var(v=-0.0296, grad=0.5457), Var(v=0.0321, grad=0.0000), Var(v=0.0233, grad=0.0000), Var(v=0.0665, grad=0.0000), Var(v=-0.0752, grad=0.0000), Var(v=0.0383, grad=0.0000), Var(v=0.0357, grad=0.0000), Var(v=0.1218, grad=0.3887), Var(v=-0.0165, grad=0.0000), Var(v=-0.0919, grad=-0.1000), Var(v=0.0498, grad=0.2752), Var(v=-0.0909, grad=0.7404), Var(v=0.0332, grad=-0.5709), Var(v=-0.1721, grad=0.0000), Var(v=0.0179, grad=0.1947), Var(v=-0.1154, grad=0.2634), Var(v=0.0756, grad=0.0000), Var(v=0.1337, grad=-1.2625), Var(v=0.0523, grad=0.0000), Var(v=0.0308, grad=-0.4503), Var(v=-0.1553, grad=0.0000), Var(v=0.0292, grad=0.0000), Var(v=-0.0624, grad=0.7622), Var(v=-0.0360, grad=0.0000), Var(v=0.1892, grad=0.6377), Var(v=0.0145, grad=0.0000), Var(v=0.1692, grad=0.4556), Var(v=0.1889, grad=0.0000), Var(v=-0.0742, grad=0.5245), Var(v=-0.0908, grad=0.0000), Var(v=-0.0509, grad=-0.4013), Var(v=0.0494, grad=0.0000), Var(v=-0.0913, grad=0.0000), Var(v=-0.0961, grad=0.0000)], [Var(v=0.1929, grad=-0.0735), Var(v=-0.0529, grad=0.0447), Var(v=-0.0744, grad=0.0000), Var(v=-0.0502, grad=-0.1969), Var(v=-0.0134, grad=0.0000), Var(v=-0.0473, grad=0.2008), Var(v=-0.1838, grad=0.0000), Var(v=0.0478, grad=-0.0362), Var(v=-0.0236, grad=0.1004), Var(v=0.1697, grad=-0.1260), Var(v=-0.0221, grad=0.0000), Var(v=-0.0083, grad=-0.0568), Var(v=0.0404, grad=-0.0105), Var(v=0.1514, grad=-0.0504), Var(v=-0.0348, grad=0.0000), Var(v=-0.0475, grad=0.0000), Var(v=-0.0373, grad=0.0000), Var(v=0.0143, grad=0.1156), Var(v=0.0012, grad=0.0000), Var(v=0.0468, grad=-0.1688), Var(v=-0.0654, grad=0.0228), Var(v=0.0436, grad=-0.3597), Var(v=-0.0605, grad=0.0000), Var(v=-0.1751, grad=-0.0747), Var(v=0.1493, grad=0.0236), Var(v=0.1160, grad=0.0000), Var(v=-0.0541, grad=0.0000), Var(v=0.0581, grad=-0.1423), Var(v=0.0620, grad=0.1097), Var(v=0.0517, grad=0.0000), Var(v=-0.0281, grad=-0.0374), Var(v=-0.0397, grad=0.0000), Var(v=-0.0632, grad=-0.1669), Var(v=0.2350, grad=0.0000), Var(v=0.1083, grad=0.1319), Var(v=-0.0032, grad=0.0000), Var(v=-0.2090, grad=0.0000), Var(v=-0.0717, grad=0.0073), Var(v=0.0591, grad=0.0000), Var(v=0.1581, grad=-0.0687), Var(v=0.1083, grad=0.0000), Var(v=0.0067, grad=0.0838), Var(v=-0.0466, grad=0.0000), Var(v=-0.0291, grad=0.2626), Var(v=0.0582, grad=0.0000), Var(v=0.2247, grad=-0.0793), Var(v=-0.1545, grad=0.0771), Var(v=0.1235, grad=0.0436), Var(v=-0.0978, grad=0.0000), Var(v=0.0002, grad=0.0000)], [Var(v=-0.0804, grad=-0.7181), Var(v=-0.0429, grad=0.4365), Var(v=-0.1064, grad=0.0000), Var(v=-0.0375, grad=-1.9233), Var(v=-0.1106, grad=0.0000), Var(v=-0.0125, grad=1.9608), Var(v=0.1346, grad=0.0000), Var(v=-0.0027, grad=-0.3531), Var(v=0.1278, grad=0.9805), Var(v=0.0963, grad=-1.2303), Var(v=-0.1151, grad=0.0000), Var(v=0.1551, grad=-0.5548), Var(v=-0.0040, grad=-0.1024), Var(v=0.0394, grad=-0.4926), Var(v=0.0139, grad=0.0000), Var(v=0.0309, grad=0.0000), Var(v=-0.0918, grad=0.0000), Var(v=0.0305, grad=1.1287), Var(v=-0.1006, grad=0.0000), Var(v=0.0419, grad=-1.6483), Var(v=0.0671, grad=0.2224), Var(v=-0.0136, grad=-3.5127), Var(v=-0.0743, grad=0.0000), Var(v=0.1326, grad=-0.7295), Var(v=-0.0678, grad=0.2309), Var(v=0.0998, grad=0.0000), Var(v=-0.2157, grad=0.0000), Var(v=-0.0792, grad=-1.3896), Var(v=-0.0796, grad=1.0715), Var(v=-0.1061, grad=0.0000), Var(v=0.0721, grad=-0.3654), Var(v=0.0722, grad=0.0000), Var(v=-0.0195, grad=-1.6297), Var(v=0.0259, grad=0.0000), Var(v=0.0030, grad=1.2880), Var(v=-0.1564, grad=0.0000), Var(v=0.0048, grad=0.0000), Var(v=0.0372, grad=0.0713), Var(v=-0.0089, grad=0.0000), Var(v=0.0850, grad=-0.6711), Var(v=-0.0890, grad=0.0000), Var(v=0.1554, grad=0.8179), Var(v=-0.0733, grad=0.0000), Var(v=-0.0637, grad=2.5649), Var(v=0.0418, grad=0.0000), Var(v=-0.0569, grad=-0.7743), Var(v=0.1120, grad=0.7532), Var(v=-0.1638, grad=0.4260), Var(v=0.0175, grad=0.0000), Var(v=-0.1895, grad=0.0000)], [Var(v=-0.0039, grad=-0.1050), Var(v=0.1067, grad=0.0638), Var(v=-0.0790, grad=0.0000), Var(v=0.0286, grad=-0.2812), Var(v=0.0533, grad=0.0000), Var(v=0.0877, grad=0.2867), Var(v=-0.2064, grad=0.0000), Var(v=0.1322, grad=-0.0516), Var(v=0.0020, grad=0.1434), Var(v=0.2140, grad=-0.1799), Var(v=0.0083, grad=0.0000), Var(v=0.1533, grad=-0.0811), Var(v=-0.0081, grad=-0.0150), Var(v=-0.0511, grad=-0.0720), Var(v=0.0046, grad=0.0000), Var(v=-0.1146, grad=0.0000), Var(v=-0.1333, grad=0.0000), Var(v=-0.0959, grad=0.1650), Var(v=0.0934, grad=0.0000), Var(v=0.0473, grad=-0.2410), Var(v=0.1063, grad=0.0325), Var(v=0.0734, grad=-0.5136), Var(v=0.1089, grad=0.0000), Var(v=0.0156, grad=-0.1067), Var(v=-0.0544, grad=0.0338), Var(v=-0.0636, grad=0.0000), Var(v=0.0760, grad=0.0000), Var(v=0.1510, grad=-0.2032), Var(v=0.0792, grad=0.1567), Var(v=-0.0211, grad=0.0000), Var(v=-0.0506, grad=-0.0534), Var(v=0.0384, grad=0.0000), Var(v=0.0008, grad=-0.2383), Var(v=-0.0670, grad=0.0000), Var(v=-0.0260, grad=0.1883), Var(v=-0.1420, grad=0.0000), Var(v=0.2717, grad=0.0000), Var(v=-0.0179, grad=0.0104), Var(v=0.0950, grad=0.0000), Var(v=0.1252, grad=-0.0981), Var(v=-0.0705, grad=0.0000), Var(v=-0.1302, grad=0.1196), Var(v=-0.0829, grad=0.0000), Var(v=-0.0862, grad=0.3750), Var(v=-0.0036, grad=0.0000), Var(v=0.1271, grad=-0.1132), Var(v=0.0487, grad=0.1101), Var(v=0.0483, grad=0.0623), Var(v=-0.0165, grad=0.0000), Var(v=0.0908, grad=0.0000)], [Var(v=-0.1615, grad=0.0000), Var(v=-0.0150, grad=0.0000), Var(v=-0.0695, grad=0.0000), Var(v=-0.0867, grad=1.2533), Var(v=0.0197, grad=0.0000), Var(v=0.0278, grad=-1.2777), Var(v=-0.0446, grad=-0.5041), Var(v=-0.2533, grad=0.2301), Var(v=-0.0264, grad=0.0000), Var(v=-0.0738, grad=0.8017), Var(v=-0.0202, grad=-0.6812), Var(v=-0.0402, grad=0.3615), Var(v=-0.1308, grad=0.0667), Var(v=-0.0608, grad=0.3210), Var(v=0.1423, grad=-0.1604), Var(v=0.1097, grad=-0.7820), Var(v=0.1356, grad=0.6674), Var(v=-0.1190, grad=0.0000), Var(v=0.1745, grad=0.0000), Var(v=-0.1314, grad=0.0000), Var(v=0.0075, grad=0.0000), Var(v=-0.0089, grad=0.0000), Var(v=-0.1294, grad=0.0000), Var(v=0.0142, grad=0.4754), Var(v=0.0566, grad=0.0000), Var(v=0.1871, grad=-0.1224), Var(v=0.0157, grad=0.3366), Var(v=0.0061, grad=0.9055), Var(v=0.0669, grad=-0.6982), Var(v=-0.1603, grad=0.0000), Var(v=0.1044, grad=0.2381), Var(v=-0.0644, grad=0.3222), Var(v=-0.0673, grad=0.0000), Var(v=0.0593, grad=-1.5441), Var(v=0.0410, grad=0.0000), Var(v=-0.0226, grad=-0.5507), Var(v=-0.0112, grad=0.0000), Var(v=0.0313, grad=0.0000), Var(v=0.0178, grad=0.9322), Var(v=0.2158, grad=0.0000), Var(v=0.1815, grad=0.7800), Var(v=-0.1066, grad=0.0000), Var(v=0.0963, grad=0.5572), Var(v=0.0111, grad=0.0000), Var(v=-0.1216, grad=0.6415), Var(v=0.1575, grad=0.0000), Var(v=-0.0364, grad=-0.4908), Var(v=0.0048, grad=0.0000), Var(v=-0.0810, grad=0.0000), Var(v=0.0888, grad=0.0000)], [Var(v=0.0323, grad=0.0000), Var(v=0.0112, grad=0.0000), Var(v=-0.0046, grad=0.0000), Var(v=0.2051, grad=0.4076), Var(v=-0.0630, grad=0.0000), Var(v=0.1559, grad=-0.4156), Var(v=-0.1664, grad=-0.1640), Var(v=-0.0797, grad=0.0748), Var(v=0.0196, grad=0.0000), Var(v=0.0359, grad=0.2607), Var(v=0.0381, grad=-0.2215), Var(v=0.0918, grad=0.1176), Var(v=0.0254, grad=0.0217), Var(v=0.0875, grad=0.1044), Var(v=0.2480, grad=-0.0522), Var(v=-0.0958, grad=-0.2543), Var(v=0.0045, grad=0.2171), Var(v=-0.0811, grad=0.0000), Var(v=0.0301, grad=0.0000), Var(v=-0.1451, grad=0.0000), Var(v=0.1781, grad=0.0000), Var(v=0.0571, grad=0.0000), Var(v=0.0036, grad=0.0000), Var(v=0.0857, grad=0.1546), Var(v=0.0002, grad=0.0000), Var(v=-0.0427, grad=-0.0398), Var(v=0.0352, grad=0.1095), Var(v=-0.0813, grad=0.2945), Var(v=-0.0992, grad=-0.2271), Var(v=-0.0216, grad=0.0000), Var(v=0.0362, grad=0.0774), Var(v=0.0932, grad=0.1048), Var(v=-0.1076, grad=0.0000), Var(v=-0.1945, grad=-0.5022), Var(v=0.1072, grad=0.0000), Var(v=-0.0126, grad=-0.1791), Var(v=-0.0685, grad=0.0000), Var(v=-0.0963, grad=0.0000), Var(v=0.0933, grad=0.3032), Var(v=-0.0692, grad=0.0000), Var(v=0.0701, grad=0.2537), Var(v=-0.0075, grad=0.0000), Var(v=-0.0119, grad=0.1812), Var(v=-0.0894, grad=0.0000), Var(v=0.1892, grad=0.2086), Var(v=-0.1903, grad=0.0000), Var(v=0.0706, grad=-0.1596), Var(v=0.0354, grad=0.0000), Var(v=-0.1133, grad=0.0000), Var(v=-0.1001, grad=0.0000)], [Var(v=0.1610, grad=-0.8110), Var(v=0.0391, grad=0.4929), Var(v=0.0124, grad=0.0000), Var(v=-0.0610, grad=-2.1719), Var(v=-0.1130, grad=0.0000), Var(v=0.0131, grad=2.2142), Var(v=-0.0370, grad=0.0000), Var(v=-0.0113, grad=-0.3987), Var(v=0.0124, grad=1.1073), Var(v=0.0579, grad=-1.3893), Var(v=-0.2815, grad=0.0000), Var(v=0.0205, grad=-0.6265), Var(v=0.0275, grad=-0.1156), Var(v=-0.0495, grad=-0.5563), Var(v=-0.1678, grad=0.0000), Var(v=-0.0430, grad=0.0000), Var(v=-0.1260, grad=0.0000), Var(v=0.0577, grad=1.2746), Var(v=-0.0222, grad=0.0000), Var(v=0.0862, grad=-1.8614), Var(v=-0.0170, grad=0.2512), Var(v=-0.0129, grad=-3.9667), Var(v=-0.1992, grad=0.0000), Var(v=-0.1841, grad=-0.8238), Var(v=0.1030, grad=0.2607), Var(v=-0.1177, grad=0.0000), Var(v=-0.0442, grad=0.0000), Var(v=0.0688, grad=-1.5692), Var(v=0.0029, grad=1.2099), Var(v=-0.0538, grad=0.0000), Var(v=-0.0210, grad=-0.4126), Var(v=-0.1566, grad=0.0000), Var(v=0.1300, grad=-1.8403), Var(v=-0.2021, grad=0.0000), Var(v=0.0431, grad=1.4545), Var(v=0.0643, grad=0.0000), Var(v=-0.0531, grad=0.0000), Var(v=0.1552, grad=0.0806), Var(v=0.0230, grad=0.0000), Var(v=0.0482, grad=-0.7578), Var(v=-0.0377, grad=0.0000), Var(v=0.0126, grad=0.9236), Var(v=0.0187, grad=0.0000), Var(v=0.0921, grad=2.8964), Var(v=-0.0563, grad=0.0000), Var(v=0.0834, grad=-0.8743), Var(v=0.0322, grad=0.8506), Var(v=0.0460, grad=0.4810), Var(v=0.0484, grad=0.0000), Var(v=-0.1901, grad=0.0000)], [Var(v=0.0706, grad=-0.3466), Var(v=0.1492, grad=0.2107), Var(v=0.0463, grad=0.0000), Var(v=0.1296, grad=-0.9283), Var(v=0.0183, grad=0.0000), Var(v=-0.0606, grad=0.9465), Var(v=-0.0886, grad=0.0000), Var(v=0.1624, grad=-0.1704), Var(v=-0.1406, grad=0.4733), Var(v=0.1640, grad=-0.5939), Var(v=-0.0478, grad=0.0000), Var(v=-0.0794, grad=-0.2678), Var(v=0.0219, grad=-0.0494), Var(v=-0.0166, grad=-0.2378), Var(v=-0.3076, grad=0.0000), Var(v=-0.0723, grad=0.0000), Var(v=-0.0662, grad=0.0000), Var(v=0.0942, grad=0.5448), Var(v=-0.0718, grad=0.0000), Var(v=-0.1585, grad=-0.7956), Var(v=0.0732, grad=0.1074), Var(v=-0.1594, grad=-1.6955), Var(v=0.0032, grad=0.0000), Var(v=-0.0439, grad=-0.3521), Var(v=-0.0524, grad=0.1114), Var(v=0.0536, grad=0.0000), Var(v=-0.2479, grad=0.0000), Var(v=-0.0745, grad=-0.6707), Var(v=0.0292, grad=0.5172), Var(v=0.0016, grad=0.0000), Var(v=-0.0041, grad=-0.1764), Var(v=0.0036, grad=0.0000), Var(v=0.1652, grad=-0.7866), Var(v=0.1043, grad=0.0000), Var(v=0.2017, grad=0.6217), Var(v=-0.0420, grad=0.0000), Var(v=0.0414, grad=0.0000), Var(v=0.1161, grad=0.0344), Var(v=0.0533, grad=0.0000), Var(v=-0.2438, grad=-0.3239), Var(v=-0.0519, grad=0.0000), Var(v=0.0567, grad=0.3948), Var(v=-0.1088, grad=0.0000), Var(v=-0.1721, grad=1.2380), Var(v=-0.1324, grad=0.0000), Var(v=0.1437, grad=-0.3737), Var(v=-0.0740, grad=0.3636), Var(v=0.0844, grad=0.2056), Var(v=-0.0974, grad=0.0000), Var(v=-0.0266, grad=0.0000)], [Var(v=0.0042, grad=-0.6107), Var(v=-0.0884, grad=0.3712), Var(v=-0.0657, grad=0.0000), Var(v=0.1430, grad=-1.6356), Var(v=-0.1259, grad=0.0000), Var(v=-0.0571, grad=1.6675), Var(v=-0.1222, grad=0.0000), Var(v=-0.0370, grad=-0.3002), Var(v=0.0011, grad=0.8338), Var(v=0.1484, grad=-1.0463), Var(v=-0.0263, grad=0.0000), Var(v=-0.1675, grad=-0.4718), Var(v=-0.0019, grad=-0.0871), Var(v=-0.0282, grad=-0.4189), Var(v=0.0106, grad=0.0000), Var(v=0.0724, grad=0.0000), Var(v=0.0506, grad=0.0000), Var(v=-0.0526, grad=0.9599), Var(v=0.0139, grad=0.0000), Var(v=0.0966, grad=-1.4017), Var(v=0.1793, grad=0.1892), Var(v=0.1599, grad=-2.9872), Var(v=0.0692, grad=0.0000), Var(v=0.2272, grad=-0.6204), Var(v=0.0404, grad=0.1963), Var(v=0.0067, grad=0.0000), Var(v=-0.1336, grad=0.0000), Var(v=0.0762, grad=-1.1817), Var(v=0.1213, grad=0.9112), Var(v=-0.1679, grad=0.0000), Var(v=-0.0386, grad=-0.3107), Var(v=-0.0941, grad=0.0000), Var(v=0.0059, grad=-1.3859), Var(v=-0.0232, grad=0.0000), Var(v=0.0881, grad=1.0953), Var(v=-0.3085, grad=0.0000), Var(v=-0.0785, grad=0.0000), Var(v=0.0144, grad=0.0607), Var(v=-0.0513, grad=0.0000), Var(v=0.0265, grad=-0.5707), Var(v=-0.0566, grad=0.0000), Var(v=-0.0646, grad=0.6955), Var(v=-0.1507, grad=0.0000), Var(v=0.1558, grad=2.1812), Var(v=0.0110, grad=0.0000), Var(v=-0.0097, grad=-0.6584), Var(v=-0.1212, grad=0.6406), Var(v=0.0838, grad=0.3622), Var(v=-0.0891, grad=0.0000), Var(v=-0.1244, grad=0.0000)], [Var(v=0.1258, grad=0.0000), Var(v=0.0180, grad=0.0000), Var(v=-0.0325, grad=0.0000), Var(v=0.0151, grad=0.3014), Var(v=-0.0666, grad=0.0000), Var(v=-0.0462, grad=-0.3073), Var(v=0.0450, grad=-0.1212), Var(v=-0.0375, grad=0.0553), Var(v=-0.0220, grad=0.0000), Var(v=-0.0274, grad=0.1928), Var(v=-0.0444, grad=-0.1638), Var(v=0.0940, grad=0.0870), Var(v=0.2114, grad=0.0160), Var(v=0.0795, grad=0.0772), Var(v=0.1143, grad=-0.0386), Var(v=-0.1734, grad=-0.1881), Var(v=-0.1390, grad=0.1605), Var(v=-0.1066, grad=0.0000), Var(v=-0.0627, grad=0.0000), Var(v=-0.0908, grad=0.0000), Var(v=-0.1375, grad=0.0000), Var(v=-0.0074, grad=0.0000), Var(v=0.1184, grad=0.0000), Var(v=-0.1101, grad=0.1143), Var(v=0.0373, grad=0.0000), Var(v=0.1467, grad=-0.0294), Var(v=-0.1214, grad=0.0810), Var(v=0.0383, grad=0.2178), Var(v=0.1464, grad=-0.1679), Var(v=0.1098, grad=0.0000), Var(v=0.2500, grad=0.0573), Var(v=0.0403, grad=0.0775), Var(v=-0.0504, grad=0.0000), Var(v=-0.1234, grad=-0.3714), Var(v=-0.0004, grad=0.0000), Var(v=-0.0860, grad=-0.1324), Var(v=0.0279, grad=0.0000), Var(v=-0.1699, grad=0.0000), Var(v=0.0533, grad=0.2242), Var(v=-0.0827, grad=0.0000), Var(v=-0.2717, grad=0.1876), Var(v=0.1651, grad=0.0000), Var(v=0.1466, grad=0.1340), Var(v=0.0994, grad=0.0000), Var(v=-0.0547, grad=0.1543), Var(v=0.0510, grad=0.0000), Var(v=0.1644, grad=-0.1181), Var(v=-0.0360, grad=0.0000), Var(v=0.1216, grad=0.0000), Var(v=-0.0372, grad=0.0000)], [Var(v=-0.0451, grad=0.0000), Var(v=0.0554, grad=0.0000), Var(v=-0.1139, grad=0.0000), Var(v=0.0726, grad=2.1525), Var(v=-0.1302, grad=0.0000), Var(v=-0.0332, grad=-2.1945), Var(v=0.0770, grad=-0.8658), Var(v=0.1607, grad=0.3951), Var(v=-0.0633, grad=0.0000), Var(v=0.1058, grad=1.3769), Var(v=0.0049, grad=-1.1699), Var(v=0.1272, grad=0.6209), Var(v=0.0062, grad=0.1146), Var(v=0.2256, grad=0.5513), Var(v=-0.0634, grad=-0.2756), Var(v=0.0721, grad=-1.3430), Var(v=0.0635, grad=1.1463), Var(v=0.0040, grad=0.0000), Var(v=-0.1360, grad=0.0000), Var(v=-0.0854, grad=0.0000), Var(v=0.1254, grad=0.0000), Var(v=-0.1687, grad=0.0000), Var(v=-0.0191, grad=0.0000), Var(v=0.0091, grad=0.8165), Var(v=-0.1112, grad=0.0000), Var(v=0.0683, grad=-0.2101), Var(v=0.1760, grad=0.5782), Var(v=-0.0026, grad=1.5552), Var(v=-0.0160, grad=-1.1991), Var(v=0.0387, grad=0.0000), Var(v=0.0404, grad=0.4089), Var(v=0.0438, grad=0.5533), Var(v=-0.1149, grad=0.0000), Var(v=0.1260, grad=-2.6520), Var(v=-0.1779, grad=0.0000), Var(v=0.0224, grad=-0.9458), Var(v=-0.0212, grad=0.0000), Var(v=-0.0788, grad=0.0000), Var(v=-0.0432, grad=1.6011), Var(v=0.0020, grad=0.0000), Var(v=-0.0673, grad=1.3396), Var(v=-0.0808, grad=0.0000), Var(v=-0.0324, grad=0.9571), Var(v=0.0401, grad=0.0000), Var(v=0.0619, grad=1.1017), Var(v=-0.1952, grad=0.0000), Var(v=-0.0071, grad=-0.8430), Var(v=-0.0155, grad=0.0000), Var(v=-0.1294, grad=0.0000), Var(v=-0.1478, grad=0.0000)], [Var(v=-0.0138, grad=0.0000), Var(v=-0.1508, grad=0.0000), Var(v=0.0521, grad=0.0000), Var(v=-0.0976, grad=0.4838), Var(v=-0.1000, grad=0.0000), Var(v=-0.0545, grad=-0.4932), Var(v=0.0452, grad=-0.1946), Var(v=0.0879, grad=0.0888), Var(v=0.0343, grad=0.0000), Var(v=-0.0618, grad=0.3095), Var(v=0.0290, grad=-0.2630), Var(v=0.1019, grad=0.1396), Var(v=0.1178, grad=0.0258), Var(v=-0.0861, grad=0.1239), Var(v=-0.0402, grad=-0.0619), Var(v=0.1024, grad=-0.3019), Var(v=0.0583, grad=0.2577), Var(v=-0.0291, grad=0.0000), Var(v=0.0193, grad=0.0000), Var(v=0.1790, grad=0.0000), Var(v=0.0596, grad=0.0000), Var(v=-0.1941, grad=0.0000), Var(v=0.0237, grad=0.0000), Var(v=0.0331, grad=0.1835), Var(v=0.0001, grad=0.0000), Var(v=0.1961, grad=-0.0472), Var(v=0.0983, grad=0.1300), Var(v=-0.0155, grad=0.3496), Var(v=0.0827, grad=-0.2695), Var(v=0.0526, grad=0.0000), Var(v=-0.0736, grad=0.0919), Var(v=0.0296, grad=0.1244), Var(v=0.1716, grad=0.0000), Var(v=-0.1223, grad=-0.5961), Var(v=-0.1248, grad=0.0000), Var(v=-0.1437, grad=-0.2126), Var(v=0.0267, grad=0.0000), Var(v=0.0685, grad=0.0000), Var(v=-0.1386, grad=0.3599), Var(v=-0.0691, grad=0.0000), Var(v=0.0643, grad=0.3011), Var(v=0.0639, grad=0.0000), Var(v=0.0995, grad=0.2151), Var(v=-0.2472, grad=0.0000), Var(v=0.0036, grad=0.2476), Var(v=0.2004, grad=0.0000), Var(v=0.0585, grad=-0.1895), Var(v=-0.1419, grad=0.0000), Var(v=-0.0251, grad=0.0000), Var(v=-0.0827, grad=0.0000)], [Var(v=0.0775, grad=-0.4488), Var(v=0.1043, grad=0.2727), Var(v=-0.1755, grad=0.0000), Var(v=0.1084, grad=-1.2018), Var(v=-0.1029, grad=0.0000), Var(v=0.0828, grad=1.2253), Var(v=-0.0233, grad=0.0000), Var(v=0.0010, grad=-0.2206), Var(v=-0.0379, grad=0.6127), Var(v=0.2081, grad=-0.7688), Var(v=-0.0182, grad=0.0000), Var(v=0.0577, grad=-0.3467), Var(v=-0.0337, grad=-0.0640), Var(v=0.1481, grad=-0.3078), Var(v=0.0181, grad=0.0000), Var(v=-0.0349, grad=0.0000), Var(v=0.1067, grad=0.0000), Var(v=-0.1339, grad=0.7053), Var(v=-0.1005, grad=0.0000), Var(v=-0.1518, grad=-1.0300), Var(v=0.1908, grad=0.1390), Var(v=0.1407, grad=-2.1951), Var(v=0.2038, grad=0.0000), Var(v=0.1642, grad=-0.4559), Var(v=0.0685, grad=0.1443), Var(v=-0.0062, grad=0.0000), Var(v=0.0856, grad=0.0000), Var(v=0.1367, grad=-0.8683), Var(v=-0.0097, grad=0.6695), Var(v=0.0796, grad=0.0000), Var(v=0.1346, grad=-0.2283), Var(v=-0.0346, grad=0.0000), Var(v=-0.0237, grad=-1.0184), Var(v=-0.0868, grad=0.0000), Var(v=-0.0434, grad=0.8049), Var(v=0.0698, grad=0.0000), Var(v=0.1085, grad=0.0000), Var(v=-0.1057, grad=0.0446), Var(v=-0.1904, grad=0.0000), Var(v=0.0714, grad=-0.4194), Var(v=-0.0476, grad=0.0000), Var(v=-0.0682, grad=0.5111), Var(v=-0.0647, grad=0.0000), Var(v=0.2097, grad=1.6027), Var(v=0.0647, grad=0.0000), Var(v=0.1557, grad=-0.4838), Var(v=0.0100, grad=0.4707), Var(v=0.0943, grad=0.2662), Var(v=0.0229, grad=0.0000), Var(v=-0.1048, grad=0.0000)], [Var(v=0.0075, grad=0.0000), Var(v=0.0127, grad=0.0000), Var(v=0.0185, grad=0.0000), Var(v=0.0178, grad=1.4573), Var(v=-0.1270, grad=0.0000), Var(v=0.1249, grad=-1.4857), Var(v=0.1003, grad=-0.5862), Var(v=-0.0709, grad=0.2675), Var(v=-0.0007, grad=0.0000), Var(v=-0.0476, grad=0.9322), Var(v=0.0894, grad=-0.7921), Var(v=0.0675, grad=0.4204), Var(v=-0.1239, grad=0.0776), Var(v=0.0603, grad=0.3733), Var(v=-0.0109, grad=-0.1866), Var(v=-0.0035, grad=-0.9093), Var(v=0.2095, grad=0.7761), Var(v=0.0364, grad=0.0000), Var(v=-0.0174, grad=0.0000), Var(v=-0.1897, grad=0.0000), Var(v=-0.0807, grad=0.0000), Var(v=0.1361, grad=0.0000), Var(v=0.0222, grad=0.0000), Var(v=-0.1071, grad=0.5528), Var(v=-0.0326, grad=0.0000), Var(v=0.0272, grad=-0.1423), Var(v=0.1054, grad=0.3914), Var(v=0.1132, grad=1.0529), Var(v=-0.0828, grad=-0.8119), Var(v=0.0350, grad=0.0000), Var(v=0.0087, grad=0.2768), Var(v=0.0138, grad=0.3746), Var(v=0.1116, grad=0.0000), Var(v=0.0980, grad=-1.7955), Var(v=-0.0731, grad=0.0000), Var(v=0.1870, grad=-0.6403), Var(v=0.0600, grad=0.0000), Var(v=0.0652, grad=0.0000), Var(v=0.1829, grad=1.0840), Var(v=-0.0449, grad=0.0000), Var(v=-0.0230, grad=0.9069), Var(v=-0.1045, grad=0.0000), Var(v=-0.1068, grad=0.6480), Var(v=0.0128, grad=0.0000), Var(v=0.0951, grad=0.7459), Var(v=-0.0104, grad=0.0000), Var(v=-0.0188, grad=-0.5707), Var(v=0.1224, grad=0.0000), Var(v=-0.1358, grad=0.0000), Var(v=0.0271, grad=0.0000)], [Var(v=-0.0907, grad=0.0000), Var(v=-0.1654, grad=0.0000), Var(v=0.1680, grad=0.0000), Var(v=0.0403, grad=2.0019), Var(v=0.0336, grad=0.0000), Var(v=0.1396, grad=-2.0410), Var(v=0.0663, grad=-0.8053), Var(v=0.0457, grad=0.3675), Var(v=0.1009, grad=0.0000), Var(v=0.1991, grad=1.2806), Var(v=0.1870, grad=-1.0881), Var(v=0.1583, grad=0.5775), Var(v=0.0866, grad=0.1066), Var(v=-0.0167, grad=0.5128), Var(v=0.0674, grad=-0.2563), Var(v=-0.0248, grad=-1.2491), Var(v=-0.0045, grad=1.0661), Var(v=-0.0385, grad=0.0000), Var(v=-0.0493, grad=0.0000), Var(v=0.0339, grad=0.0000), Var(v=-0.0859, grad=0.0000), Var(v=0.0533, grad=0.0000), Var(v=-0.0168, grad=0.0000), Var(v=0.0938, grad=0.7594), Var(v=-0.0244, grad=0.0000), Var(v=0.0093, grad=-0.1954), Var(v=0.0281, grad=0.5377), Var(v=0.1396, grad=1.4464), Var(v=0.0825, grad=-1.1153), Var(v=0.0874, grad=0.0000), Var(v=0.1266, grad=0.3803), Var(v=0.0900, grad=0.5146), Var(v=-0.0604, grad=0.0000), Var(v=0.0725, grad=-2.4665), Var(v=-0.1026, grad=0.0000), Var(v=-0.0500, grad=-0.8796), Var(v=-0.1793, grad=0.0000), Var(v=-0.0592, grad=0.0000), Var(v=-0.0802, grad=1.4891), Var(v=-0.1024, grad=0.0000), Var(v=-0.0532, grad=1.2459), Var(v=-0.2629, grad=0.0000), Var(v=-0.0508, grad=0.8901), Var(v=-0.1126, grad=0.0000), Var(v=-0.0617, grad=1.0247), Var(v=-0.0031, grad=0.0000), Var(v=0.0651, grad=-0.7840), Var(v=-0.0885, grad=0.0000), Var(v=0.0476, grad=0.0000), Var(v=-0.0864, grad=0.0000)]] Biases: [Var(v=0.0503, grad=-5.0327), Var(v=-0.0306, grad=3.0588), Var(v=0.0000, grad=0.0000), Var(v=-0.0011, grad=0.1092), Var(v=0.0000, grad=0.0000), Var(v=0.0011, grad=-0.1113), Var(v=0.0547, grad=-5.4656), Var(v=-0.0002, grad=0.0200), Var(v=-0.0687, grad=6.8715), Var(v=-0.0007, grad=0.0698), Var(v=0.0738, grad=-7.3850), Var(v=-0.0003, grad=0.0315), Var(v=-0.0001, grad=0.0058), Var(v=-0.0003, grad=0.0280), Var(v=0.0174, grad=-1.7395), Var(v=0.0848, grad=-8.4777), Var(v=-0.0724, grad=7.2360), Var(v=-0.0791, grad=7.9100), Var(v=0.0000, grad=0.0000), Var(v=0.1155, grad=-11.5514), Var(v=-0.0156, grad=1.5588), Var(v=0.2462, grad=-24.6169), Var(v=0.0000, grad=0.0000), Var(v=-0.0004, grad=0.0414), Var(v=-0.0162, grad=1.6179), Var(v=0.0133, grad=-1.3265), Var(v=-0.0365, grad=3.6496), Var(v=-0.0008, grad=0.0789), Var(v=0.0006, grad=-0.0608), Var(v=0.0000, grad=0.0000), Var(v=-0.0002, grad=0.0207), Var(v=-0.0349, grad=3.4928), Var(v=0.1142, grad=-11.4208), Var(v=0.1674, grad=-16.7407), Var(v=-0.0903, grad=9.0262), Var(v=0.0597, grad=-5.9703), Var(v=0.0000, grad=0.0000), Var(v=-0.0050, grad=0.5000), Var(v=-0.1011, grad=10.1069), Var(v=0.0470, grad=-4.7029), Var(v=-0.0846, grad=8.4560), Var(v=-0.0573, grad=5.7318), Var(v=-0.0604, grad=6.0415), Var(v=-0.1797, grad=17.9744), Var(v=-0.0695, grad=6.9548), Var(v=0.0543, grad=-5.4261), Var(v=0.0004, grad=-0.0428), Var(v=-0.0299, grad=2.9852), Var(v=0.0000, grad=0.0000), Var(v=0.0000, grad=0.0000)]\n",
      "Layer 2 \n",
      " Weights: [[Var(v=-0.0801, grad=2.2483)], [Var(v=0.0239, grad=1.1148)], [Var(v=-0.0830, grad=0.0000)], [Var(v=-0.1380, grad=-1.6287)], [Var(v=0.2058, grad=0.0000)], [Var(v=0.1746, grad=-1.7276)], [Var(v=0.0750, grad=-1.2972)], [Var(v=-0.0238, grad=-0.4521)], [Var(v=0.0681, grad=1.0579)], [Var(v=-0.1307, grad=3.1961)], [Var(v=0.1128, grad=-2.8907)], [Var(v=-0.0035, grad=-4.1025)], [Var(v=-0.0064, grad=-0.1827)], [Var(v=-0.0087, grad=-3.0820)], [Var(v=0.0361, grad=-1.6331)], [Var(v=0.1121, grad=-1.5789)], [Var(v=-0.0411, grad=-4.1124)], [Var(v=0.0854, grad=0.5163)], [Var(v=-0.0228, grad=0.0000)], [Var(v=-0.1324, grad=0.0183)], [Var(v=-0.0285, grad=4.6351)], [Var(v=-0.2825, grad=0.0694)], [Var(v=0.1736, grad=0.0000)], [Var(v=-0.0610, grad=0.2447)], [Var(v=0.0040, grad=1.4492)], [Var(v=0.0445, grad=-2.9414)], [Var(v=0.0053, grad=-4.6786)], [Var(v=-0.0952, grad=-1.6304)], [Var(v=0.0806, grad=0.5341)], [Var(v=0.1068, grad=0.0000)], [Var(v=-0.0008, grad=-2.8563)], [Var(v=-0.0270, grad=-1.2681)], [Var(v=-0.1471, grad=1.6358)], [Var(v=0.2176, grad=-2.7453)], [Var(v=0.0720, grad=3.1310)], [Var(v=0.0718, grad=-0.4025)], [Var(v=0.0200, grad=0.0000)], [Var(v=-0.0201, grad=2.5826)], [Var(v=-0.1108, grad=-0.3997)], [Var(v=-0.0662, grad=1.2329)], [Var(v=-0.0830, grad=-1.3001)], [Var(v=0.0518, grad=1.3827)], [Var(v=-0.0611, grad=-0.7514)], [Var(v=0.1685, grad=3.7253)], [Var(v=-0.0755, grad=-0.3447)], [Var(v=-0.0882, grad=2.6035)], [Var(v=0.0588, grad=0.1598)], [Var(v=0.0224, grad=1.1763)], [Var(v=0.1097, grad=0.0000)], [Var(v=-0.2746, grad=0.0000)]] Biases: [Var(v=0.0071, grad=-0.7075)]\n",
      "\n",
      "Network after zeroing gradients:\n",
      "Layer 0 \n",
      " Weights: [[Var(v=0.0829, grad=0.0000), Var(v=-0.0658, grad=0.0000), Var(v=-0.1022, grad=0.0000), Var(v=-0.1095, grad=0.0000), Var(v=0.0960, grad=0.0000), Var(v=-0.0866, grad=0.0000), Var(v=-0.1007, grad=0.0000), Var(v=-0.0431, grad=0.0000), Var(v=-0.1551, grad=0.0000), Var(v=0.0040, grad=0.0000), Var(v=0.0903, grad=0.0000), Var(v=0.0217, grad=0.0000), Var(v=-0.1227, grad=0.0000), Var(v=0.0816, grad=0.0000), Var(v=0.1226, grad=0.0000)]] Biases: [Var(v=0.0156, grad=0.0000), Var(v=0.0477, grad=0.0000), Var(v=-0.0250, grad=0.0000), Var(v=0.0823, grad=0.0000), Var(v=0.0144, grad=0.0000), Var(v=-0.0965, grad=0.0000), Var(v=-0.0416, grad=0.0000), Var(v=-0.0177, grad=0.0000), Var(v=0.0407, grad=0.0000), Var(v=-0.0129, grad=0.0000), Var(v=-0.0393, grad=0.0000), Var(v=-0.0077, grad=0.0000), Var(v=0.0379, grad=0.0000), Var(v=-0.0090, grad=0.0000), Var(v=-0.0034, grad=0.0000)]\n",
      "Layer 1 \n",
      " Weights: [[Var(v=-0.0686, grad=0.0000), Var(v=-0.0691, grad=0.0000), Var(v=-0.0893, grad=0.0000), Var(v=0.0588, grad=0.0000), Var(v=-0.0722, grad=0.0000), Var(v=0.0655, grad=0.0000), Var(v=-0.0978, grad=0.0000), Var(v=0.1099, grad=0.0000), Var(v=-0.2257, grad=0.0000), Var(v=-0.0583, grad=0.0000), Var(v=0.0153, grad=0.0000), Var(v=-0.0915, grad=0.0000), Var(v=0.0729, grad=0.0000), Var(v=0.0233, grad=0.0000), Var(v=-0.0071, grad=0.0000), Var(v=0.1309, grad=0.0000), Var(v=-0.0296, grad=0.0000), Var(v=0.0321, grad=0.0000), Var(v=0.0233, grad=0.0000), Var(v=0.0665, grad=0.0000), Var(v=-0.0752, grad=0.0000), Var(v=0.0383, grad=0.0000), Var(v=0.0357, grad=0.0000), Var(v=0.1218, grad=0.0000), Var(v=-0.0165, grad=0.0000), Var(v=-0.0919, grad=0.0000), Var(v=0.0498, grad=0.0000), Var(v=-0.0909, grad=0.0000), Var(v=0.0332, grad=0.0000), Var(v=-0.1721, grad=0.0000), Var(v=0.0179, grad=0.0000), Var(v=-0.1154, grad=0.0000), Var(v=0.0756, grad=0.0000), Var(v=0.1337, grad=0.0000), Var(v=0.0523, grad=0.0000), Var(v=0.0308, grad=0.0000), Var(v=-0.1553, grad=0.0000), Var(v=0.0292, grad=0.0000), Var(v=-0.0624, grad=0.0000), Var(v=-0.0360, grad=0.0000), Var(v=0.1892, grad=0.0000), Var(v=0.0145, grad=0.0000), Var(v=0.1692, grad=0.0000), Var(v=0.1889, grad=0.0000), Var(v=-0.0742, grad=0.0000), Var(v=-0.0908, grad=0.0000), Var(v=-0.0509, grad=0.0000), Var(v=0.0494, grad=0.0000), Var(v=-0.0913, grad=0.0000), Var(v=-0.0961, grad=0.0000)], [Var(v=0.1929, grad=0.0000), Var(v=-0.0529, grad=0.0000), Var(v=-0.0744, grad=0.0000), Var(v=-0.0502, grad=0.0000), Var(v=-0.0134, grad=0.0000), Var(v=-0.0473, grad=0.0000), Var(v=-0.1838, grad=0.0000), Var(v=0.0478, grad=0.0000), Var(v=-0.0236, grad=0.0000), Var(v=0.1697, grad=0.0000), Var(v=-0.0221, grad=0.0000), Var(v=-0.0083, grad=0.0000), Var(v=0.0404, grad=0.0000), Var(v=0.1514, grad=0.0000), Var(v=-0.0348, grad=0.0000), Var(v=-0.0475, grad=0.0000), Var(v=-0.0373, grad=0.0000), Var(v=0.0143, grad=0.0000), Var(v=0.0012, grad=0.0000), Var(v=0.0468, grad=0.0000), Var(v=-0.0654, grad=0.0000), Var(v=0.0436, grad=0.0000), Var(v=-0.0605, grad=0.0000), Var(v=-0.1751, grad=0.0000), Var(v=0.1493, grad=0.0000), Var(v=0.1160, grad=0.0000), Var(v=-0.0541, grad=0.0000), Var(v=0.0581, grad=0.0000), Var(v=0.0620, grad=0.0000), Var(v=0.0517, grad=0.0000), Var(v=-0.0281, grad=0.0000), Var(v=-0.0397, grad=0.0000), Var(v=-0.0632, grad=0.0000), Var(v=0.2350, grad=0.0000), Var(v=0.1083, grad=0.0000), Var(v=-0.0032, grad=0.0000), Var(v=-0.2090, grad=0.0000), Var(v=-0.0717, grad=0.0000), Var(v=0.0591, grad=0.0000), Var(v=0.1581, grad=0.0000), Var(v=0.1083, grad=0.0000), Var(v=0.0067, grad=0.0000), Var(v=-0.0466, grad=0.0000), Var(v=-0.0291, grad=0.0000), Var(v=0.0582, grad=0.0000), Var(v=0.2247, grad=0.0000), Var(v=-0.1545, grad=0.0000), Var(v=0.1235, grad=0.0000), Var(v=-0.0978, grad=0.0000), Var(v=0.0002, grad=0.0000)], [Var(v=-0.0804, grad=0.0000), Var(v=-0.0429, grad=0.0000), Var(v=-0.1064, grad=0.0000), Var(v=-0.0375, grad=0.0000), Var(v=-0.1106, grad=0.0000), Var(v=-0.0125, grad=0.0000), Var(v=0.1346, grad=0.0000), Var(v=-0.0027, grad=0.0000), Var(v=0.1278, grad=0.0000), Var(v=0.0963, grad=0.0000), Var(v=-0.1151, grad=0.0000), Var(v=0.1551, grad=0.0000), Var(v=-0.0040, grad=0.0000), Var(v=0.0394, grad=0.0000), Var(v=0.0139, grad=0.0000), Var(v=0.0309, grad=0.0000), Var(v=-0.0918, grad=0.0000), Var(v=0.0305, grad=0.0000), Var(v=-0.1006, grad=0.0000), Var(v=0.0419, grad=0.0000), Var(v=0.0671, grad=0.0000), Var(v=-0.0136, grad=0.0000), Var(v=-0.0743, grad=0.0000), Var(v=0.1326, grad=0.0000), Var(v=-0.0678, grad=0.0000), Var(v=0.0998, grad=0.0000), Var(v=-0.2157, grad=0.0000), Var(v=-0.0792, grad=0.0000), Var(v=-0.0796, grad=0.0000), Var(v=-0.1061, grad=0.0000), Var(v=0.0721, grad=0.0000), Var(v=0.0722, grad=0.0000), Var(v=-0.0195, grad=0.0000), Var(v=0.0259, grad=0.0000), Var(v=0.0030, grad=0.0000), Var(v=-0.1564, grad=0.0000), Var(v=0.0048, grad=0.0000), Var(v=0.0372, grad=0.0000), Var(v=-0.0089, grad=0.0000), Var(v=0.0850, grad=0.0000), Var(v=-0.0890, grad=0.0000), Var(v=0.1554, grad=0.0000), Var(v=-0.0733, grad=0.0000), Var(v=-0.0637, grad=0.0000), Var(v=0.0418, grad=0.0000), Var(v=-0.0569, grad=0.0000), Var(v=0.1120, grad=0.0000), Var(v=-0.1638, grad=0.0000), Var(v=0.0175, grad=0.0000), Var(v=-0.1895, grad=0.0000)], [Var(v=-0.0039, grad=0.0000), Var(v=0.1067, grad=0.0000), Var(v=-0.0790, grad=0.0000), Var(v=0.0286, grad=0.0000), Var(v=0.0533, grad=0.0000), Var(v=0.0877, grad=0.0000), Var(v=-0.2064, grad=0.0000), Var(v=0.1322, grad=0.0000), Var(v=0.0020, grad=0.0000), Var(v=0.2140, grad=0.0000), Var(v=0.0083, grad=0.0000), Var(v=0.1533, grad=0.0000), Var(v=-0.0081, grad=0.0000), Var(v=-0.0511, grad=0.0000), Var(v=0.0046, grad=0.0000), Var(v=-0.1146, grad=0.0000), Var(v=-0.1333, grad=0.0000), Var(v=-0.0959, grad=0.0000), Var(v=0.0934, grad=0.0000), Var(v=0.0473, grad=0.0000), Var(v=0.1063, grad=0.0000), Var(v=0.0734, grad=0.0000), Var(v=0.1089, grad=0.0000), Var(v=0.0156, grad=0.0000), Var(v=-0.0544, grad=0.0000), Var(v=-0.0636, grad=0.0000), Var(v=0.0760, grad=0.0000), Var(v=0.1510, grad=0.0000), Var(v=0.0792, grad=0.0000), Var(v=-0.0211, grad=0.0000), Var(v=-0.0506, grad=0.0000), Var(v=0.0384, grad=0.0000), Var(v=0.0008, grad=0.0000), Var(v=-0.0670, grad=0.0000), Var(v=-0.0260, grad=0.0000), Var(v=-0.1420, grad=0.0000), Var(v=0.2717, grad=0.0000), Var(v=-0.0179, grad=0.0000), Var(v=0.0950, grad=0.0000), Var(v=0.1252, grad=0.0000), Var(v=-0.0705, grad=0.0000), Var(v=-0.1302, grad=0.0000), Var(v=-0.0829, grad=0.0000), Var(v=-0.0862, grad=0.0000), Var(v=-0.0036, grad=0.0000), Var(v=0.1271, grad=0.0000), Var(v=0.0487, grad=0.0000), Var(v=0.0483, grad=0.0000), Var(v=-0.0165, grad=0.0000), Var(v=0.0908, grad=0.0000)], [Var(v=-0.1615, grad=0.0000), Var(v=-0.0150, grad=0.0000), Var(v=-0.0695, grad=0.0000), Var(v=-0.0867, grad=0.0000), Var(v=0.0197, grad=0.0000), Var(v=0.0278, grad=0.0000), Var(v=-0.0446, grad=0.0000), Var(v=-0.2533, grad=0.0000), Var(v=-0.0264, grad=0.0000), Var(v=-0.0738, grad=0.0000), Var(v=-0.0202, grad=0.0000), Var(v=-0.0402, grad=0.0000), Var(v=-0.1308, grad=0.0000), Var(v=-0.0608, grad=0.0000), Var(v=0.1423, grad=0.0000), Var(v=0.1097, grad=0.0000), Var(v=0.1356, grad=0.0000), Var(v=-0.1190, grad=0.0000), Var(v=0.1745, grad=0.0000), Var(v=-0.1314, grad=0.0000), Var(v=0.0075, grad=0.0000), Var(v=-0.0089, grad=0.0000), Var(v=-0.1294, grad=0.0000), Var(v=0.0142, grad=0.0000), Var(v=0.0566, grad=0.0000), Var(v=0.1871, grad=0.0000), Var(v=0.0157, grad=0.0000), Var(v=0.0061, grad=0.0000), Var(v=0.0669, grad=0.0000), Var(v=-0.1603, grad=0.0000), Var(v=0.1044, grad=0.0000), Var(v=-0.0644, grad=0.0000), Var(v=-0.0673, grad=0.0000), Var(v=0.0593, grad=0.0000), Var(v=0.0410, grad=0.0000), Var(v=-0.0226, grad=0.0000), Var(v=-0.0112, grad=0.0000), Var(v=0.0313, grad=0.0000), Var(v=0.0178, grad=0.0000), Var(v=0.2158, grad=0.0000), Var(v=0.1815, grad=0.0000), Var(v=-0.1066, grad=0.0000), Var(v=0.0963, grad=0.0000), Var(v=0.0111, grad=0.0000), Var(v=-0.1216, grad=0.0000), Var(v=0.1575, grad=0.0000), Var(v=-0.0364, grad=0.0000), Var(v=0.0048, grad=0.0000), Var(v=-0.0810, grad=0.0000), Var(v=0.0888, grad=0.0000)], [Var(v=0.0323, grad=0.0000), Var(v=0.0112, grad=0.0000), Var(v=-0.0046, grad=0.0000), Var(v=0.2051, grad=0.0000), Var(v=-0.0630, grad=0.0000), Var(v=0.1559, grad=0.0000), Var(v=-0.1664, grad=0.0000), Var(v=-0.0797, grad=0.0000), Var(v=0.0196, grad=0.0000), Var(v=0.0359, grad=0.0000), Var(v=0.0381, grad=0.0000), Var(v=0.0918, grad=0.0000), Var(v=0.0254, grad=0.0000), Var(v=0.0875, grad=0.0000), Var(v=0.2480, grad=0.0000), Var(v=-0.0958, grad=0.0000), Var(v=0.0045, grad=0.0000), Var(v=-0.0811, grad=0.0000), Var(v=0.0301, grad=0.0000), Var(v=-0.1451, grad=0.0000), Var(v=0.1781, grad=0.0000), Var(v=0.0571, grad=0.0000), Var(v=0.0036, grad=0.0000), Var(v=0.0857, grad=0.0000), Var(v=0.0002, grad=0.0000), Var(v=-0.0427, grad=0.0000), Var(v=0.0352, grad=0.0000), Var(v=-0.0813, grad=0.0000), Var(v=-0.0992, grad=0.0000), Var(v=-0.0216, grad=0.0000), Var(v=0.0362, grad=0.0000), Var(v=0.0932, grad=0.0000), Var(v=-0.1076, grad=0.0000), Var(v=-0.1945, grad=0.0000), Var(v=0.1072, grad=0.0000), Var(v=-0.0126, grad=0.0000), Var(v=-0.0685, grad=0.0000), Var(v=-0.0963, grad=0.0000), Var(v=0.0933, grad=0.0000), Var(v=-0.0692, grad=0.0000), Var(v=0.0701, grad=0.0000), Var(v=-0.0075, grad=0.0000), Var(v=-0.0119, grad=0.0000), Var(v=-0.0894, grad=0.0000), Var(v=0.1892, grad=0.0000), Var(v=-0.1903, grad=0.0000), Var(v=0.0706, grad=0.0000), Var(v=0.0354, grad=0.0000), Var(v=-0.1133, grad=0.0000), Var(v=-0.1001, grad=0.0000)], [Var(v=0.1610, grad=0.0000), Var(v=0.0391, grad=0.0000), Var(v=0.0124, grad=0.0000), Var(v=-0.0610, grad=0.0000), Var(v=-0.1130, grad=0.0000), Var(v=0.0131, grad=0.0000), Var(v=-0.0370, grad=0.0000), Var(v=-0.0113, grad=0.0000), Var(v=0.0124, grad=0.0000), Var(v=0.0579, grad=0.0000), Var(v=-0.2815, grad=0.0000), Var(v=0.0205, grad=0.0000), Var(v=0.0275, grad=0.0000), Var(v=-0.0495, grad=0.0000), Var(v=-0.1678, grad=0.0000), Var(v=-0.0430, grad=0.0000), Var(v=-0.1260, grad=0.0000), Var(v=0.0577, grad=0.0000), Var(v=-0.0222, grad=0.0000), Var(v=0.0862, grad=0.0000), Var(v=-0.0170, grad=0.0000), Var(v=-0.0129, grad=0.0000), Var(v=-0.1992, grad=0.0000), Var(v=-0.1841, grad=0.0000), Var(v=0.1030, grad=0.0000), Var(v=-0.1177, grad=0.0000), Var(v=-0.0442, grad=0.0000), Var(v=0.0688, grad=0.0000), Var(v=0.0029, grad=0.0000), Var(v=-0.0538, grad=0.0000), Var(v=-0.0210, grad=0.0000), Var(v=-0.1566, grad=0.0000), Var(v=0.1300, grad=0.0000), Var(v=-0.2021, grad=0.0000), Var(v=0.0431, grad=0.0000), Var(v=0.0643, grad=0.0000), Var(v=-0.0531, grad=0.0000), Var(v=0.1552, grad=0.0000), Var(v=0.0230, grad=0.0000), Var(v=0.0482, grad=0.0000), Var(v=-0.0377, grad=0.0000), Var(v=0.0126, grad=0.0000), Var(v=0.0187, grad=0.0000), Var(v=0.0921, grad=0.0000), Var(v=-0.0563, grad=0.0000), Var(v=0.0834, grad=0.0000), Var(v=0.0322, grad=0.0000), Var(v=0.0460, grad=0.0000), Var(v=0.0484, grad=0.0000), Var(v=-0.1901, grad=0.0000)], [Var(v=0.0706, grad=0.0000), Var(v=0.1492, grad=0.0000), Var(v=0.0463, grad=0.0000), Var(v=0.1296, grad=0.0000), Var(v=0.0183, grad=0.0000), Var(v=-0.0606, grad=0.0000), Var(v=-0.0886, grad=0.0000), Var(v=0.1624, grad=0.0000), Var(v=-0.1406, grad=0.0000), Var(v=0.1640, grad=0.0000), Var(v=-0.0478, grad=0.0000), Var(v=-0.0794, grad=0.0000), Var(v=0.0219, grad=0.0000), Var(v=-0.0166, grad=0.0000), Var(v=-0.3076, grad=0.0000), Var(v=-0.0723, grad=0.0000), Var(v=-0.0662, grad=0.0000), Var(v=0.0942, grad=0.0000), Var(v=-0.0718, grad=0.0000), Var(v=-0.1585, grad=0.0000), Var(v=0.0732, grad=0.0000), Var(v=-0.1594, grad=0.0000), Var(v=0.0032, grad=0.0000), Var(v=-0.0439, grad=0.0000), Var(v=-0.0524, grad=0.0000), Var(v=0.0536, grad=0.0000), Var(v=-0.2479, grad=0.0000), Var(v=-0.0745, grad=0.0000), Var(v=0.0292, grad=0.0000), Var(v=0.0016, grad=0.0000), Var(v=-0.0041, grad=0.0000), Var(v=0.0036, grad=0.0000), Var(v=0.1652, grad=0.0000), Var(v=0.1043, grad=0.0000), Var(v=0.2017, grad=0.0000), Var(v=-0.0420, grad=0.0000), Var(v=0.0414, grad=0.0000), Var(v=0.1161, grad=0.0000), Var(v=0.0533, grad=0.0000), Var(v=-0.2438, grad=0.0000), Var(v=-0.0519, grad=0.0000), Var(v=0.0567, grad=0.0000), Var(v=-0.1088, grad=0.0000), Var(v=-0.1721, grad=0.0000), Var(v=-0.1324, grad=0.0000), Var(v=0.1437, grad=0.0000), Var(v=-0.0740, grad=0.0000), Var(v=0.0844, grad=0.0000), Var(v=-0.0974, grad=0.0000), Var(v=-0.0266, grad=0.0000)], [Var(v=0.0042, grad=0.0000), Var(v=-0.0884, grad=0.0000), Var(v=-0.0657, grad=0.0000), Var(v=0.1430, grad=0.0000), Var(v=-0.1259, grad=0.0000), Var(v=-0.0571, grad=0.0000), Var(v=-0.1222, grad=0.0000), Var(v=-0.0370, grad=0.0000), Var(v=0.0011, grad=0.0000), Var(v=0.1484, grad=0.0000), Var(v=-0.0263, grad=0.0000), Var(v=-0.1675, grad=0.0000), Var(v=-0.0019, grad=0.0000), Var(v=-0.0282, grad=0.0000), Var(v=0.0106, grad=0.0000), Var(v=0.0724, grad=0.0000), Var(v=0.0506, grad=0.0000), Var(v=-0.0526, grad=0.0000), Var(v=0.0139, grad=0.0000), Var(v=0.0966, grad=0.0000), Var(v=0.1793, grad=0.0000), Var(v=0.1599, grad=0.0000), Var(v=0.0692, grad=0.0000), Var(v=0.2272, grad=0.0000), Var(v=0.0404, grad=0.0000), Var(v=0.0067, grad=0.0000), Var(v=-0.1336, grad=0.0000), Var(v=0.0762, grad=0.0000), Var(v=0.1213, grad=0.0000), Var(v=-0.1679, grad=0.0000), Var(v=-0.0386, grad=0.0000), Var(v=-0.0941, grad=0.0000), Var(v=0.0059, grad=0.0000), Var(v=-0.0232, grad=0.0000), Var(v=0.0881, grad=0.0000), Var(v=-0.3085, grad=0.0000), Var(v=-0.0785, grad=0.0000), Var(v=0.0144, grad=0.0000), Var(v=-0.0513, grad=0.0000), Var(v=0.0265, grad=0.0000), Var(v=-0.0566, grad=0.0000), Var(v=-0.0646, grad=0.0000), Var(v=-0.1507, grad=0.0000), Var(v=0.1558, grad=0.0000), Var(v=0.0110, grad=0.0000), Var(v=-0.0097, grad=0.0000), Var(v=-0.1212, grad=0.0000), Var(v=0.0838, grad=0.0000), Var(v=-0.0891, grad=0.0000), Var(v=-0.1244, grad=0.0000)], [Var(v=0.1258, grad=0.0000), Var(v=0.0180, grad=0.0000), Var(v=-0.0325, grad=0.0000), Var(v=0.0151, grad=0.0000), Var(v=-0.0666, grad=0.0000), Var(v=-0.0462, grad=0.0000), Var(v=0.0450, grad=0.0000), Var(v=-0.0375, grad=0.0000), Var(v=-0.0220, grad=0.0000), Var(v=-0.0274, grad=0.0000), Var(v=-0.0444, grad=0.0000), Var(v=0.0940, grad=0.0000), Var(v=0.2114, grad=0.0000), Var(v=0.0795, grad=0.0000), Var(v=0.1143, grad=0.0000), Var(v=-0.1734, grad=0.0000), Var(v=-0.1390, grad=0.0000), Var(v=-0.1066, grad=0.0000), Var(v=-0.0627, grad=0.0000), Var(v=-0.0908, grad=0.0000), Var(v=-0.1375, grad=0.0000), Var(v=-0.0074, grad=0.0000), Var(v=0.1184, grad=0.0000), Var(v=-0.1101, grad=0.0000), Var(v=0.0373, grad=0.0000), Var(v=0.1467, grad=0.0000), Var(v=-0.1214, grad=0.0000), Var(v=0.0383, grad=0.0000), Var(v=0.1464, grad=0.0000), Var(v=0.1098, grad=0.0000), Var(v=0.2500, grad=0.0000), Var(v=0.0403, grad=0.0000), Var(v=-0.0504, grad=0.0000), Var(v=-0.1234, grad=0.0000), Var(v=-0.0004, grad=0.0000), Var(v=-0.0860, grad=0.0000), Var(v=0.0279, grad=0.0000), Var(v=-0.1699, grad=0.0000), Var(v=0.0533, grad=0.0000), Var(v=-0.0827, grad=0.0000), Var(v=-0.2717, grad=0.0000), Var(v=0.1651, grad=0.0000), Var(v=0.1466, grad=0.0000), Var(v=0.0994, grad=0.0000), Var(v=-0.0547, grad=0.0000), Var(v=0.0510, grad=0.0000), Var(v=0.1644, grad=0.0000), Var(v=-0.0360, grad=0.0000), Var(v=0.1216, grad=0.0000), Var(v=-0.0372, grad=0.0000)], [Var(v=-0.0451, grad=0.0000), Var(v=0.0554, grad=0.0000), Var(v=-0.1139, grad=0.0000), Var(v=0.0726, grad=0.0000), Var(v=-0.1302, grad=0.0000), Var(v=-0.0332, grad=0.0000), Var(v=0.0770, grad=0.0000), Var(v=0.1607, grad=0.0000), Var(v=-0.0633, grad=0.0000), Var(v=0.1058, grad=0.0000), Var(v=0.0049, grad=0.0000), Var(v=0.1272, grad=0.0000), Var(v=0.0062, grad=0.0000), Var(v=0.2256, grad=0.0000), Var(v=-0.0634, grad=0.0000), Var(v=0.0721, grad=0.0000), Var(v=0.0635, grad=0.0000), Var(v=0.0040, grad=0.0000), Var(v=-0.1360, grad=0.0000), Var(v=-0.0854, grad=0.0000), Var(v=0.1254, grad=0.0000), Var(v=-0.1687, grad=0.0000), Var(v=-0.0191, grad=0.0000), Var(v=0.0091, grad=0.0000), Var(v=-0.1112, grad=0.0000), Var(v=0.0683, grad=0.0000), Var(v=0.1760, grad=0.0000), Var(v=-0.0026, grad=0.0000), Var(v=-0.0160, grad=0.0000), Var(v=0.0387, grad=0.0000), Var(v=0.0404, grad=0.0000), Var(v=0.0438, grad=0.0000), Var(v=-0.1149, grad=0.0000), Var(v=0.1260, grad=0.0000), Var(v=-0.1779, grad=0.0000), Var(v=0.0224, grad=0.0000), Var(v=-0.0212, grad=0.0000), Var(v=-0.0788, grad=0.0000), Var(v=-0.0432, grad=0.0000), Var(v=0.0020, grad=0.0000), Var(v=-0.0673, grad=0.0000), Var(v=-0.0808, grad=0.0000), Var(v=-0.0324, grad=0.0000), Var(v=0.0401, grad=0.0000), Var(v=0.0619, grad=0.0000), Var(v=-0.1952, grad=0.0000), Var(v=-0.0071, grad=0.0000), Var(v=-0.0155, grad=0.0000), Var(v=-0.1294, grad=0.0000), Var(v=-0.1478, grad=0.0000)], [Var(v=-0.0138, grad=0.0000), Var(v=-0.1508, grad=0.0000), Var(v=0.0521, grad=0.0000), Var(v=-0.0976, grad=0.0000), Var(v=-0.1000, grad=0.0000), Var(v=-0.0545, grad=0.0000), Var(v=0.0452, grad=0.0000), Var(v=0.0879, grad=0.0000), Var(v=0.0343, grad=0.0000), Var(v=-0.0618, grad=0.0000), Var(v=0.0290, grad=0.0000), Var(v=0.1019, grad=0.0000), Var(v=0.1178, grad=0.0000), Var(v=-0.0861, grad=0.0000), Var(v=-0.0402, grad=0.0000), Var(v=0.1024, grad=0.0000), Var(v=0.0583, grad=0.0000), Var(v=-0.0291, grad=0.0000), Var(v=0.0193, grad=0.0000), Var(v=0.1790, grad=0.0000), Var(v=0.0596, grad=0.0000), Var(v=-0.1941, grad=0.0000), Var(v=0.0237, grad=0.0000), Var(v=0.0331, grad=0.0000), Var(v=0.0001, grad=0.0000), Var(v=0.1961, grad=0.0000), Var(v=0.0983, grad=0.0000), Var(v=-0.0155, grad=0.0000), Var(v=0.0827, grad=0.0000), Var(v=0.0526, grad=0.0000), Var(v=-0.0736, grad=0.0000), Var(v=0.0296, grad=0.0000), Var(v=0.1716, grad=0.0000), Var(v=-0.1223, grad=0.0000), Var(v=-0.1248, grad=0.0000), Var(v=-0.1437, grad=0.0000), Var(v=0.0267, grad=0.0000), Var(v=0.0685, grad=0.0000), Var(v=-0.1386, grad=0.0000), Var(v=-0.0691, grad=0.0000), Var(v=0.0643, grad=0.0000), Var(v=0.0639, grad=0.0000), Var(v=0.0995, grad=0.0000), Var(v=-0.2472, grad=0.0000), Var(v=0.0036, grad=0.0000), Var(v=0.2004, grad=0.0000), Var(v=0.0585, grad=0.0000), Var(v=-0.1419, grad=0.0000), Var(v=-0.0251, grad=0.0000), Var(v=-0.0827, grad=0.0000)], [Var(v=0.0775, grad=0.0000), Var(v=0.1043, grad=0.0000), Var(v=-0.1755, grad=0.0000), Var(v=0.1084, grad=0.0000), Var(v=-0.1029, grad=0.0000), Var(v=0.0828, grad=0.0000), Var(v=-0.0233, grad=0.0000), Var(v=0.0010, grad=0.0000), Var(v=-0.0379, grad=0.0000), Var(v=0.2081, grad=0.0000), Var(v=-0.0182, grad=0.0000), Var(v=0.0577, grad=0.0000), Var(v=-0.0337, grad=0.0000), Var(v=0.1481, grad=0.0000), Var(v=0.0181, grad=0.0000), Var(v=-0.0349, grad=0.0000), Var(v=0.1067, grad=0.0000), Var(v=-0.1339, grad=0.0000), Var(v=-0.1005, grad=0.0000), Var(v=-0.1518, grad=0.0000), Var(v=0.1908, grad=0.0000), Var(v=0.1407, grad=0.0000), Var(v=0.2038, grad=0.0000), Var(v=0.1642, grad=0.0000), Var(v=0.0685, grad=0.0000), Var(v=-0.0062, grad=0.0000), Var(v=0.0856, grad=0.0000), Var(v=0.1367, grad=0.0000), Var(v=-0.0097, grad=0.0000), Var(v=0.0796, grad=0.0000), Var(v=0.1346, grad=0.0000), Var(v=-0.0346, grad=0.0000), Var(v=-0.0237, grad=0.0000), Var(v=-0.0868, grad=0.0000), Var(v=-0.0434, grad=0.0000), Var(v=0.0698, grad=0.0000), Var(v=0.1085, grad=0.0000), Var(v=-0.1057, grad=0.0000), Var(v=-0.1904, grad=0.0000), Var(v=0.0714, grad=0.0000), Var(v=-0.0476, grad=0.0000), Var(v=-0.0682, grad=0.0000), Var(v=-0.0647, grad=0.0000), Var(v=0.2097, grad=0.0000), Var(v=0.0647, grad=0.0000), Var(v=0.1557, grad=0.0000), Var(v=0.0100, grad=0.0000), Var(v=0.0943, grad=0.0000), Var(v=0.0229, grad=0.0000), Var(v=-0.1048, grad=0.0000)], [Var(v=0.0075, grad=0.0000), Var(v=0.0127, grad=0.0000), Var(v=0.0185, grad=0.0000), Var(v=0.0178, grad=0.0000), Var(v=-0.1270, grad=0.0000), Var(v=0.1249, grad=0.0000), Var(v=0.1003, grad=0.0000), Var(v=-0.0709, grad=0.0000), Var(v=-0.0007, grad=0.0000), Var(v=-0.0476, grad=0.0000), Var(v=0.0894, grad=0.0000), Var(v=0.0675, grad=0.0000), Var(v=-0.1239, grad=0.0000), Var(v=0.0603, grad=0.0000), Var(v=-0.0109, grad=0.0000), Var(v=-0.0035, grad=0.0000), Var(v=0.2095, grad=0.0000), Var(v=0.0364, grad=0.0000), Var(v=-0.0174, grad=0.0000), Var(v=-0.1897, grad=0.0000), Var(v=-0.0807, grad=0.0000), Var(v=0.1361, grad=0.0000), Var(v=0.0222, grad=0.0000), Var(v=-0.1071, grad=0.0000), Var(v=-0.0326, grad=0.0000), Var(v=0.0272, grad=0.0000), Var(v=0.1054, grad=0.0000), Var(v=0.1132, grad=0.0000), Var(v=-0.0828, grad=0.0000), Var(v=0.0350, grad=0.0000), Var(v=0.0087, grad=0.0000), Var(v=0.0138, grad=0.0000), Var(v=0.1116, grad=0.0000), Var(v=0.0980, grad=0.0000), Var(v=-0.0731, grad=0.0000), Var(v=0.1870, grad=0.0000), Var(v=0.0600, grad=0.0000), Var(v=0.0652, grad=0.0000), Var(v=0.1829, grad=0.0000), Var(v=-0.0449, grad=0.0000), Var(v=-0.0230, grad=0.0000), Var(v=-0.1045, grad=0.0000), Var(v=-0.1068, grad=0.0000), Var(v=0.0128, grad=0.0000), Var(v=0.0951, grad=0.0000), Var(v=-0.0104, grad=0.0000), Var(v=-0.0188, grad=0.0000), Var(v=0.1224, grad=0.0000), Var(v=-0.1358, grad=0.0000), Var(v=0.0271, grad=0.0000)], [Var(v=-0.0907, grad=0.0000), Var(v=-0.1654, grad=0.0000), Var(v=0.1680, grad=0.0000), Var(v=0.0403, grad=0.0000), Var(v=0.0336, grad=0.0000), Var(v=0.1396, grad=0.0000), Var(v=0.0663, grad=0.0000), Var(v=0.0457, grad=0.0000), Var(v=0.1009, grad=0.0000), Var(v=0.1991, grad=0.0000), Var(v=0.1870, grad=0.0000), Var(v=0.1583, grad=0.0000), Var(v=0.0866, grad=0.0000), Var(v=-0.0167, grad=0.0000), Var(v=0.0674, grad=0.0000), Var(v=-0.0248, grad=0.0000), Var(v=-0.0045, grad=0.0000), Var(v=-0.0385, grad=0.0000), Var(v=-0.0493, grad=0.0000), Var(v=0.0339, grad=0.0000), Var(v=-0.0859, grad=0.0000), Var(v=0.0533, grad=0.0000), Var(v=-0.0168, grad=0.0000), Var(v=0.0938, grad=0.0000), Var(v=-0.0244, grad=0.0000), Var(v=0.0093, grad=0.0000), Var(v=0.0281, grad=0.0000), Var(v=0.1396, grad=0.0000), Var(v=0.0825, grad=0.0000), Var(v=0.0874, grad=0.0000), Var(v=0.1266, grad=0.0000), Var(v=0.0900, grad=0.0000), Var(v=-0.0604, grad=0.0000), Var(v=0.0725, grad=0.0000), Var(v=-0.1026, grad=0.0000), Var(v=-0.0500, grad=0.0000), Var(v=-0.1793, grad=0.0000), Var(v=-0.0592, grad=0.0000), Var(v=-0.0802, grad=0.0000), Var(v=-0.1024, grad=0.0000), Var(v=-0.0532, grad=0.0000), Var(v=-0.2629, grad=0.0000), Var(v=-0.0508, grad=0.0000), Var(v=-0.1126, grad=0.0000), Var(v=-0.0617, grad=0.0000), Var(v=-0.0031, grad=0.0000), Var(v=0.0651, grad=0.0000), Var(v=-0.0885, grad=0.0000), Var(v=0.0476, grad=0.0000), Var(v=-0.0864, grad=0.0000)]] Biases: [Var(v=0.0503, grad=0.0000), Var(v=-0.0306, grad=0.0000), Var(v=0.0000, grad=0.0000), Var(v=-0.0011, grad=0.0000), Var(v=0.0000, grad=0.0000), Var(v=0.0011, grad=0.0000), Var(v=0.0547, grad=0.0000), Var(v=-0.0002, grad=0.0000), Var(v=-0.0687, grad=0.0000), Var(v=-0.0007, grad=0.0000), Var(v=0.0738, grad=0.0000), Var(v=-0.0003, grad=0.0000), Var(v=-0.0001, grad=0.0000), Var(v=-0.0003, grad=0.0000), Var(v=0.0174, grad=0.0000), Var(v=0.0848, grad=0.0000), Var(v=-0.0724, grad=0.0000), Var(v=-0.0791, grad=0.0000), Var(v=0.0000, grad=0.0000), Var(v=0.1155, grad=0.0000), Var(v=-0.0156, grad=0.0000), Var(v=0.2462, grad=0.0000), Var(v=0.0000, grad=0.0000), Var(v=-0.0004, grad=0.0000), Var(v=-0.0162, grad=0.0000), Var(v=0.0133, grad=0.0000), Var(v=-0.0365, grad=0.0000), Var(v=-0.0008, grad=0.0000), Var(v=0.0006, grad=0.0000), Var(v=0.0000, grad=0.0000), Var(v=-0.0002, grad=0.0000), Var(v=-0.0349, grad=0.0000), Var(v=0.1142, grad=0.0000), Var(v=0.1674, grad=0.0000), Var(v=-0.0903, grad=0.0000), Var(v=0.0597, grad=0.0000), Var(v=0.0000, grad=0.0000), Var(v=-0.0050, grad=0.0000), Var(v=-0.1011, grad=0.0000), Var(v=0.0470, grad=0.0000), Var(v=-0.0846, grad=0.0000), Var(v=-0.0573, grad=0.0000), Var(v=-0.0604, grad=0.0000), Var(v=-0.1797, grad=0.0000), Var(v=-0.0695, grad=0.0000), Var(v=0.0543, grad=0.0000), Var(v=0.0004, grad=0.0000), Var(v=-0.0299, grad=0.0000), Var(v=0.0000, grad=0.0000), Var(v=0.0000, grad=0.0000)]\n",
      "Layer 2 \n",
      " Weights: [[Var(v=-0.0801, grad=0.0000)], [Var(v=0.0239, grad=0.0000)], [Var(v=-0.0830, grad=0.0000)], [Var(v=-0.1380, grad=0.0000)], [Var(v=0.2058, grad=0.0000)], [Var(v=0.1746, grad=0.0000)], [Var(v=0.0750, grad=0.0000)], [Var(v=-0.0238, grad=0.0000)], [Var(v=0.0681, grad=0.0000)], [Var(v=-0.1307, grad=0.0000)], [Var(v=0.1128, grad=0.0000)], [Var(v=-0.0035, grad=0.0000)], [Var(v=-0.0064, grad=0.0000)], [Var(v=-0.0087, grad=0.0000)], [Var(v=0.0361, grad=0.0000)], [Var(v=0.1121, grad=0.0000)], [Var(v=-0.0411, grad=0.0000)], [Var(v=0.0854, grad=0.0000)], [Var(v=-0.0228, grad=0.0000)], [Var(v=-0.1324, grad=0.0000)], [Var(v=-0.0285, grad=0.0000)], [Var(v=-0.2825, grad=0.0000)], [Var(v=0.1736, grad=0.0000)], [Var(v=-0.0610, grad=0.0000)], [Var(v=0.0040, grad=0.0000)], [Var(v=0.0445, grad=0.0000)], [Var(v=0.0053, grad=0.0000)], [Var(v=-0.0952, grad=0.0000)], [Var(v=0.0806, grad=0.0000)], [Var(v=0.1068, grad=0.0000)], [Var(v=-0.0008, grad=0.0000)], [Var(v=-0.0270, grad=0.0000)], [Var(v=-0.1471, grad=0.0000)], [Var(v=0.2176, grad=0.0000)], [Var(v=0.0720, grad=0.0000)], [Var(v=0.0718, grad=0.0000)], [Var(v=0.0200, grad=0.0000)], [Var(v=-0.0201, grad=0.0000)], [Var(v=-0.1108, grad=0.0000)], [Var(v=-0.0662, grad=0.0000)], [Var(v=-0.0830, grad=0.0000)], [Var(v=0.0518, grad=0.0000)], [Var(v=-0.0611, grad=0.0000)], [Var(v=0.1685, grad=0.0000)], [Var(v=-0.0755, grad=0.0000)], [Var(v=-0.0882, grad=0.0000)], [Var(v=0.0588, grad=0.0000)], [Var(v=0.0224, grad=0.0000)], [Var(v=0.1097, grad=0.0000)], [Var(v=-0.2746, grad=0.0000)]] Biases: [Var(v=0.0071, grad=0.0000)]\n"
     ]
    },
    {
     "data": {
      "text/plain": "[None, None, None]"
     },
     "execution_count": 70,
     "metadata": {},
     "output_type": "execute_result"
    }
   ],
   "source": [
    "print('Network before update:')\n",
    "[print('Layer', i, '\\n', NN[i]) for i in range(len(NN))] \n",
    "\n",
    "def parameters(network):\n",
    "  params = []\n",
    "  for layer in range(len(network)):\n",
    "    params += network[layer].parameters()\n",
    "  return params\n",
    "\n",
    "def update_parameters(params, learning_rate=0.01):\n",
    "  for p in params:\n",
    "    p.v -= learning_rate*p.grad\n",
    "\n",
    "def zero_gradients(params):\n",
    "  for p in params:\n",
    "    p.grad = 0.0\n",
    "\n",
    "update_parameters(parameters(NN))\n",
    "\n",
    "print('\\nNetwork after update:')\n",
    "[print('Layer', i, '\\n', NN[i]) for i in range(len(NN))] \n",
    "\n",
    "zero_gradients(parameters(NN))\n",
    "\n",
    "print('\\nNetwork after zeroing gradients:')\n",
    "[print('Layer', i, '\\n', NN[i]) for i in range(len(NN))] "
   ]
  },
  {
   "cell_type": "code",
   "execution_count": 71,
   "metadata": {
    "id": "woWYpdw6FtIO",
    "pycharm": {
     "name": "#%%\n"
    }
   },
   "outputs": [],
   "source": [
    "# Initialize an arbitrary neural network\n",
    "NN = [\n",
    "    DenseLayer(1, 8, lambda x: x.relu()),\n",
    "    DenseLayer(8, 1, lambda x: x.identity())\n",
    "]\n",
    "\n",
    "# Recommended hyper-parameters for 3-D: \n",
    "#NN = [\n",
    "#    DenseLayer(3, 16, lambda x: x.relu()),\n",
    "#    DenseLayer(16, 1, lambda x: x.identity())\n",
    "#]\n",
    "\n",
    "\n",
    "### Notice that, when we switch from tanh to relu activation, we decrease the learning rate. This is due the stability of the gradients \n",
    "## of the activation functions."
   ]
  },
  {
   "cell_type": "code",
   "execution_count": 72,
   "metadata": {
    "id": "mdqaqYBVFtIR",
    "pycharm": {
     "name": "#%%\n"
    }
   },
   "outputs": [],
   "source": [
    "# Initialize training hyperparameters\n",
    "EPOCHS = 200\n",
    "LEARN_R = 2e-3 "
   ]
  },
  {
   "cell_type": "code",
   "execution_count": 94,
   "metadata": {
    "colab": {
     "base_uri": "https://localhost:8080/"
    },
    "id": "5kfg76GMFtIW",
    "outputId": "e30cf68a-31f2-42b4-cc5e-860c297c0f04",
    "scrolled": true,
    "pycharm": {
     "name": "#%%\n"
    }
   },
   "outputs": [
    {
     "name": "stdout",
     "output_type": "stream",
     "text": [
      "   0 ( 0.00%) Train loss: 109.343 \t Validation loss: 104.742\n",
      "  10 ( 5.00%) Train loss: 104.231 \t Validation loss: 106.955\n",
      "  20 (10.00%) Train loss: 102.690 \t Validation loss: 105.279\n",
      "  30 (15.00%) Train loss: 91.265 \t Validation loss: 91.206\n",
      "  40 (20.00%) Train loss: 24.437 \t Validation loss: 23.823\n",
      "  50 (25.00%) Train loss: 88.220 \t Validation loss: 187.083\n",
      "  60 (30.00%) Train loss: 28.515 \t Validation loss: 44.018\n",
      "  70 (35.00%) Train loss: 33.696 \t Validation loss: 51.758\n",
      "  80 (40.00%) Train loss: 34.363 \t Validation loss: 52.452\n",
      "  90 (45.00%) Train loss: 33.620 \t Validation loss: 50.509\n",
      " 100 (50.00%) Train loss: 33.056 \t Validation loss: 48.703\n",
      " 110 (55.00%) Train loss: 32.348 \t Validation loss: 46.577\n",
      " 120 (60.00%) Train loss: 31.797 \t Validation loss: 44.961\n",
      " 130 (65.00%) Train loss: 30.922 \t Validation loss: 42.239\n",
      " 140 (70.00%) Train loss: 30.419 \t Validation loss: 41.136\n",
      " 150 (75.00%) Train loss: 29.782 \t Validation loss: 39.022\n",
      " 160 (80.00%) Train loss: 29.250 \t Validation loss: 37.815\n",
      " 170 (85.00%) Train loss: 28.657 \t Validation loss: 36.675\n",
      " 180 (90.00%) Train loss: 28.032 \t Validation loss: 34.555\n",
      " 190 (95.00%) Train loss: 28.087 \t Validation loss: 35.845\n"
     ]
    }
   ],
   "source": [
    "train_loss = []\n",
    "val_loss = []\n",
    "\n",
    "for e in range(EPOCHS):\n",
    "     \n",
    "    # Forward pass and loss computation\n",
    "    Loss = squared_loss(y_train, forward(x_train, NN))\n",
    "\n",
    "    # Backward pass\n",
    "    Loss.backward()\n",
    "    \n",
    "    # gradient descent update\n",
    "    update_parameters(parameters(NN), LEARN_R)\n",
    "    zero_gradients(parameters(NN))\n",
    "    \n",
    "    # Training loss\n",
    "    train_loss.append(Loss.v)\n",
    "    \n",
    "    # Validation\n",
    "    Loss_validation = squared_loss(y_validation, forward(x_validation, NN))\n",
    "    val_loss.append(Loss_validation.v)\n",
    "    \n",
    "    if e%10==0:\n",
    "        print(\"{:4d}\".format(e),\n",
    "              \"({:5.2f}%)\".format(e/EPOCHS*100), \n",
    "              \"Train loss: {:4.3f} \\t Validation loss: {:4.3f}\".format(train_loss[-1], val_loss[-1]))\n",
    "        \n"
   ]
  },
  {
   "cell_type": "code",
   "execution_count": 74,
   "metadata": {
    "colab": {
     "base_uri": "https://localhost:8080/",
     "height": 265
    },
    "id": "VetyRWFwFtIY",
    "outputId": "344e490d-6d7d-455a-fa6f-88dd11eb957e",
    "pycharm": {
     "name": "#%%\n"
    }
   },
   "outputs": [
    {
     "data": {
      "text/plain": "<Figure size 432x288 with 1 Axes>",
      "image/png": "[encoded data removed]"
     },
     "metadata": {
      "needs_background": "light"
     },
     "output_type": "display_data"
    }
   ],
   "source": [
    "plt.plot(range(len(train_loss)), train_loss);\n",
    "plt.plot(range(len(val_loss)), val_loss);"
   ]
  },
  {
   "cell_type": "markdown",
   "metadata": {
    "id": "8OgmIrM9FtIb",
    "pycharm": {
     "name": "#%% md\n"
    }
   },
   "source": [
    "# Testing\n",
    "\n",
    "We have kept the calculation of the test error separate in order to emphasize that you should not use the test set in optimization."
   ]
  },
  {
   "cell_type": "code",
   "execution_count": 75,
   "metadata": {
    "id": "HmNi7S-vFtIc",
    "pycharm": {
     "name": "#%%\n"
    }
   },
   "outputs": [],
   "source": [
    "output_test = forward(x_test, NN)"
   ]
  },
  {
   "cell_type": "code",
   "execution_count": 76,
   "metadata": {
    "colab": {
     "base_uri": "https://localhost:8080/",
     "height": 316
    },
    "id": "7mmJOTSEFtIf",
    "outputId": "e3264095-cefe-4aee-893d-bf152438e332",
    "pycharm": {
     "name": "#%%\n"
    }
   },
   "outputs": [
    {
     "name": "stdout",
     "output_type": "stream",
     "text": [
      "Test loss:  9.784\n"
     ]
    },
    {
     "data": {
      "text/plain": "<Figure size 432x288 with 1 Axes>",
      "image/png": "[encoded data removed]"
     },
     "metadata": {
      "needs_background": "light"
     },
     "output_type": "display_data"
    }
   ],
   "source": [
    "y_test_np = Var_to_nparray(y_test)\n",
    "plt.scatter(y_test_np, Var_to_nparray(output_test));\n",
    "plt.plot([np.min(y_test_np), np.max(y_test_np)], [np.min(y_test_np), np.max(y_test_np)], color='k');\n",
    "plt.xlabel(\"y\");\n",
    "plt.ylabel(\"$\\hat{y}$\");\n",
    "plt.title(\"Model prediction vs real in the test set, the close to the line the better\")\n",
    "plt.grid(True);\n",
    "plt.axis('equal');\n",
    "plt.tight_layout();\n",
    "\n",
    "Loss_test = squared_loss(y_test, forward(x_test, NN))\n",
    "\n",
    "print(\"Test loss:  {:4.3f}\".format(Loss_test.v))"
   ]
  },
  {
   "cell_type": "code",
   "execution_count": 77,
   "metadata": {
    "colab": {
     "base_uri": "https://localhost:8080/",
     "height": 279
    },
    "id": "ODi0WlmQFtIh",
    "outputId": "d1ab874f-0717-4987-87bf-1f0c7c8e7148",
    "pycharm": {
     "name": "#%%\n"
    }
   },
   "outputs": [
    {
     "data": {
      "text/plain": "<Figure size 432x288 with 1 Axes>",
      "image/png": "[encoded data removed]"
     },
     "metadata": {
      "needs_background": "light"
     },
     "output_type": "display_data"
    }
   ],
   "source": [
    "x_test_np = Var_to_nparray(x_test)\n",
    "x_train_np = Var_to_nparray(x_train)\n",
    "y_train_np = Var_to_nparray(y_train)\n",
    "if D1:\n",
    "    plt.scatter(x_train_np, y_train_np, label=\"train data\");\n",
    "    plt.scatter(x_test_np, Var_to_nparray(output_test), label=\"test prediction\");\n",
    "    plt.scatter(x_test_np, y_test_np, label=\"test data\");\n",
    "    plt.legend();\n",
    "    plt.xlabel(\"x\");\n",
    "    plt.ylabel(\"y\");\n",
    "else:\n",
    "    plt.scatter(x_train_np[:,1], y_train, label=\"train data\");\n",
    "    plt.scatter(x_test_np[:,1], Var_to_nparray(output_test), label=\"test data prediction\");\n",
    "    plt.scatter(x_test_np[:,1], y_test_np, label=\"test data\");\n",
    "    plt.legend();\n",
    "    plt.xlabel(\"x\");\n",
    "    plt.ylabel(\"y\");"
   ]
  },
  {
   "cell_type": "markdown",
   "metadata": {
    "id": "zTBAmjsAFtIk",
    "pycharm": {
     "name": "#%% md\n"
    }
   },
   "source": [
    "## Exercise k) Show overfitting, underfitting and just right fitting\n",
    "\n",
    "Vary the architecture and other things to show clear signs of overfitting (=training loss significantly lower than test loss) and underfitting (=not fitting enoung to training data so that test performance is also hurt).\n",
    "\n",
    "See also if you can get a good compromise which leads to a low validation loss. \n",
    "\n",
    "For this problem do you see any big difference between validation and test loss? The answer here will probably be no. Discuss cases where it is important to keep the two separate.\n",
    "\n",
    "_Insert written answer here._\n"
   ]
  },
  {
   "cell_type": "markdown",
   "source": [
    "## Overfitting:"
   ],
   "metadata": {
    "collapsed": false,
    "pycharm": {
     "name": "#%% md\n"
    }
   }
  },
  {
   "cell_type": "markdown",
   "source": [
    "## Answer: We can make it overfit by adding layers and removing most of the training data. Training it for more epochs is also an option."
   ],
   "metadata": {
    "collapsed": false,
    "pycharm": {
     "name": "#%% md\n"
    }
   }
  },
  {
   "cell_type": "code",
   "execution_count": 95,
   "outputs": [],
   "source": [
    "overfit_data = x_train[0:-1:10]\n",
    "y_overfit = y_train[0:-1:10]"
   ],
   "metadata": {
    "collapsed": false,
    "pycharm": {
     "name": "#%%\n"
    }
   }
  },
  {
   "cell_type": "code",
   "execution_count": 96,
   "outputs": [],
   "source": [
    "NN = [\n",
    "    DenseLayer(1, 8, lambda x: x.relu()),\n",
    "    DenseLayer(8, 8, lambda x: x.relu()),\n",
    "    DenseLayer(8, 8, lambda x: x.relu()),\n",
    "    DenseLayer(8, 1, lambda x: x.identity())\n",
    "]\n",
    "\n",
    "EPOCHS = 200\n",
    "LEARN_R = 2e-3"
   ],
   "metadata": {
    "collapsed": false,
    "pycharm": {
     "name": "#%%\n"
    }
   }
  },
  {
   "cell_type": "code",
   "execution_count": 97,
   "outputs": [
    {
     "name": "stdout",
     "output_type": "stream",
     "text": [
      "   0 ( 0.00%) Train loss: 6.757 \t Validation loss: 107.447\n",
      "  10 ( 5.00%) Train loss: 6.433 \t Validation loss: 105.344\n",
      "  20 (10.00%) Train loss: 6.304 \t Validation loss: 104.667\n",
      "  30 (15.00%) Train loss: 6.250 \t Validation loss: 104.488\n",
      "  40 (20.00%) Train loss: 6.227 \t Validation loss: 104.471\n",
      "  50 (25.00%) Train loss: 6.217 \t Validation loss: 104.493\n",
      "  60 (30.00%) Train loss: 6.212 \t Validation loss: 104.523\n",
      "  70 (35.00%) Train loss: 6.210 \t Validation loss: 104.543\n",
      "  80 (40.00%) Train loss: 6.208 \t Validation loss: 104.553\n",
      "  90 (45.00%) Train loss: 6.207 \t Validation loss: 104.557\n",
      " 100 (50.00%) Train loss: 6.206 \t Validation loss: 104.550\n",
      " 110 (55.00%) Train loss: 6.204 \t Validation loss: 104.539\n",
      " 120 (60.00%) Train loss: 6.203 \t Validation loss: 104.523\n",
      " 130 (65.00%) Train loss: 6.201 \t Validation loss: 104.509\n",
      " 140 (70.00%) Train loss: 6.200 \t Validation loss: 104.490\n",
      " 150 (75.00%) Train loss: 6.198 \t Validation loss: 104.471\n",
      " 160 (80.00%) Train loss: 6.197 \t Validation loss: 104.448\n",
      " 170 (85.00%) Train loss: 6.195 \t Validation loss: 104.426\n",
      " 180 (90.00%) Train loss: 6.193 \t Validation loss: 104.400\n",
      " 190 (95.00%) Train loss: 6.191 \t Validation loss: 104.374\n"
     ]
    }
   ],
   "source": [
    "train_loss = []\n",
    "val_loss = []\n",
    "\n",
    "for e in range(EPOCHS):\n",
    "\n",
    "    # Forward pass and loss computation\n",
    "    Loss = squared_loss(y_overfit, forward(overfit_data, NN))\n",
    "\n",
    "    # Backward pass\n",
    "    Loss.backward()\n",
    "\n",
    "    # gradient descent update\n",
    "    update_parameters(parameters(NN), LEARN_R)\n",
    "    zero_gradients(parameters(NN))\n",
    "\n",
    "    # Training loss\n",
    "    train_loss.append(Loss.v)\n",
    "\n",
    "    # Validation\n",
    "    Loss_validation = squared_loss(y_validation, forward(x_validation, NN))\n",
    "    val_loss.append(Loss_validation.v)\n",
    "\n",
    "    if e%10==0:\n",
    "        print(\"{:4d}\".format(e),\n",
    "              \"({:5.2f}%)\".format(e/EPOCHS*100),\n",
    "              \"Train loss: {:4.3f} \\t Validation loss: {:4.3f}\".format(train_loss[-1], val_loss[-1]))\n"
   ],
   "metadata": {
    "collapsed": false,
    "pycharm": {
     "name": "#%%\n"
    }
   }
  },
  {
   "cell_type": "code",
   "execution_count": 99,
   "outputs": [
    {
     "name": "stdout",
     "output_type": "stream",
     "text": [
      "Test loss:  101.974\n"
     ]
    },
    {
     "data": {
      "text/plain": "<Figure size 432x288 with 1 Axes>",
      "image/png": "[encoded data removed]"
     },
     "metadata": {
      "needs_background": "light"
     },
     "output_type": "display_data"
    }
   ],
   "source": [
    "output_test = forward(x_test, NN)\n",
    "\n",
    "y_test_np = Var_to_nparray(y_test)\n",
    "plt.scatter(y_test_np, Var_to_nparray(output_test));\n",
    "plt.plot([np.min(y_test_np), np.max(y_test_np)], [np.min(y_test_np), np.max(y_test_np)], color='k');\n",
    "plt.xlabel(\"y\");\n",
    "plt.ylabel(\"$\\hat{y}$\");\n",
    "plt.title(\"Model prediction vs real in the test set, the close to the line the better\")\n",
    "plt.grid(True);\n",
    "plt.axis('equal');\n",
    "plt.tight_layout();\n",
    "\n",
    "Loss_test = squared_loss(y_test, forward(x_test, NN))\n",
    "\n",
    "print(\"Test loss:  {:4.3f}\".format(Loss_test.v))"
   ],
   "metadata": {
    "collapsed": false,
    "pycharm": {
     "name": "#%%\n"
    }
   }
  },
  {
   "cell_type": "markdown",
   "source": [
    "### Comments on overfitting:\n",
    "We see that the test error is 101.97 while the training error was 6.19. This is overfitting."
   ],
   "metadata": {
    "collapsed": false,
    "pycharm": {
     "name": "#%% md\n"
    }
   }
  },
  {
   "cell_type": "markdown",
   "source": [
    "## Undefit\n",
    "To get it to underfit, we can just train the original network for fewer epochs."
   ],
   "metadata": {
    "collapsed": false,
    "pycharm": {
     "name": "#%% md\n"
    }
   }
  },
  {
   "cell_type": "code",
   "execution_count": 105,
   "outputs": [],
   "source": [
    "NN = [\n",
    "    DenseLayer(1, 8, lambda x: x.relu()),\n",
    "    DenseLayer(8, 1, lambda x: x.identity())\n",
    "]\n",
    "\n",
    "EPOCHS = 10\n",
    "LEARN_R = 2e-3"
   ],
   "metadata": {
    "collapsed": false,
    "pycharm": {
     "name": "#%%\n"
    }
   }
  },
  {
   "cell_type": "code",
   "execution_count": 106,
   "outputs": [
    {
     "name": "stdout",
     "output_type": "stream",
     "text": [
      "   0 ( 0.00%) Train loss: 103.234 \t Validation loss: 100.368\n"
     ]
    }
   ],
   "source": [
    "train_loss = []\n",
    "val_loss = []\n",
    "\n",
    "for e in range(EPOCHS):\n",
    "\n",
    "    # Forward pass and loss computation\n",
    "    Loss = squared_loss(y_train, forward(x_train, NN))\n",
    "\n",
    "    # Backward pass\n",
    "    Loss.backward()\n",
    "\n",
    "    # gradient descent update\n",
    "    update_parameters(parameters(NN), LEARN_R)\n",
    "    zero_gradients(parameters(NN))\n",
    "\n",
    "    # Training loss\n",
    "    train_loss.append(Loss.v)\n",
    "\n",
    "    # Validation\n",
    "    Loss_validation = squared_loss(y_validation, forward(x_validation, NN))\n",
    "    val_loss.append(Loss_validation.v)\n",
    "\n",
    "    if e%10==0:\n",
    "        print(\"{:4d}\".format(e),\n",
    "              \"({:5.2f}%)\".format(e/EPOCHS*100),\n",
    "              \"Train loss: {:4.3f} \\t Validation loss: {:4.3f}\".format(train_loss[-1], val_loss[-1]))\n",
    "\n"
   ],
   "metadata": {
    "collapsed": false,
    "pycharm": {
     "name": "#%%\n"
    }
   }
  },
  {
   "cell_type": "code",
   "execution_count": 107,
   "outputs": [
    {
     "name": "stdout",
     "output_type": "stream",
     "text": [
      "Test loss:  20.013\n"
     ]
    },
    {
     "data": {
      "text/plain": "<Figure size 432x288 with 1 Axes>",
      "image/png": "[encoded data removed]"
     },
     "metadata": {
      "needs_background": "light"
     },
     "output_type": "display_data"
    }
   ],
   "source": [
    "output_test = forward(x_test,NN)\n",
    "\n",
    "y_test_np = Var_to_nparray(y_test)\n",
    "plt.scatter(y_test_np, Var_to_nparray(output_test));\n",
    "plt.plot([np.min(y_test_np), np.max(y_test_np)], [np.min(y_test_np), np.max(y_test_np)], color='k');\n",
    "plt.xlabel(\"y\");\n",
    "plt.ylabel(\"$\\hat{y}$\");\n",
    "plt.title(\"Model prediction vs real in the test set, the close to the line the better\")\n",
    "plt.grid(True);\n",
    "plt.axis('equal');\n",
    "plt.tight_layout();\n",
    "\n",
    "Loss_test = squared_loss(y_test, forward(x_test, NN))\n",
    "\n",
    "print(\"Test loss:  {:4.3f}\".format(Loss_test.v))"
   ],
   "metadata": {
    "collapsed": false,
    "pycharm": {
     "name": "#%%\n"
    }
   }
  },
  {
   "cell_type": "markdown",
   "source": [
    "## Comments on underfitting:\n",
    "\n",
    "Running it with only 10 epochs, we see that the test error is higher than what we observed during the first instance of training (original model got a test error of 9.6). Additionally, we see that the training error is also high. As such, the model has undefitted and would benefit from training for more epochs."
   ],
   "metadata": {
    "collapsed": false,
    "pycharm": {
     "name": "#%% md\n"
    }
   }
  },
  {
   "cell_type": "markdown",
   "metadata": {
    "id": "fYPZP-eTFtIo",
    "pycharm": {
     "name": "#%% md\n"
    }
   },
   "source": [
    "# Next steps - classification\n",
    "\n",
    "It is straight forward to extend what we have done to classification. \n",
    "\n",
    "For numerical stability it is better to make softmax and cross-entropy as one function so we write the cross entropy loss as a function of the logits we talked about last week. \n",
    "\n",
    "Next week we will see how to perform classification in PyTorch."
   ]
  },
  {
   "cell_type": "markdown",
   "metadata": {
    "id": "qsVPul3QFtIo",
    "pycharm": {
     "name": "#%% md\n"
    }
   },
   "source": [
    "## Exercise l) optional - Implement backpropagation for classification\n",
    "\n",
    "Should be possible with very few lines of code. :-)"
   ]
  },
  {
   "cell_type": "code",
   "execution_count": null,
   "metadata": {
    "id": "oC8QrI2tFtIp",
    "pycharm": {
     "name": "#%%\n"
    }
   },
   "outputs": [],
   "source": [
    "# Just add code."
   ]
  },
  {
   "cell_type": "markdown",
   "metadata": {
    "id": "APqhJv3tta1O",
    "pycharm": {
     "name": "#%% md\n"
    }
   },
   "source": [
    "## Exercise m) optional - Introduce a NeuralNetwork class\n",
    "\n",
    "The functions we applied on the neural network (parameters, update_parameters and zero_gradients) can more naturally be included as methods in a NeuralNetwork class. Make such a class and modify the code to use it. "
   ]
  },
  {
   "cell_type": "code",
   "execution_count": null,
   "metadata": {
    "id": "Dqfnor1ouMLq",
    "pycharm": {
     "name": "#%%\n"
    }
   },
   "outputs": [],
   "source": [
    "# just add some code"
   ]
  }
 ],
 "metadata": {
  "anaconda-cloud": {},
  "colab": {
   "collapsed_sections": [
    "U4057_ljNvWB",
    "p_8n_SKnIW2F",
    "oLrGJytZFtGm",
    "jpIZPBpNI0pO",
    "_79HOAXrFtHK",
    "mqeyab9qFtGs",
    "-XyXBD37FtHk",
    "SrwSJ2UWFtHu",
    "zTBAmjsAFtIk",
    "qsVPul3QFtIo",
    "APqhJv3tta1O"
   ],
   "name": "2.1-EXE-FNN-AutoDif-Nanograd.ipynb",
   "provenance": []
  },
  "kernelspec": {
   "display_name": "Python 3 (ipykernel)",
   "language": "python",
   "name": "python3"
  },
  "language_info": {
   "codemirror_mode": {
    "name": "ipython",
    "version": 3
   },
   "file_extension": ".py",
   "mimetype": "text/x-python",
   "name": "python",
   "nbconvert_exporter": "python",
   "pygments_lexer": "ipython3",
   "version": "3.8.12"
  }
 },
 "nbformat": 4,
 "nbformat_minor": 1
}