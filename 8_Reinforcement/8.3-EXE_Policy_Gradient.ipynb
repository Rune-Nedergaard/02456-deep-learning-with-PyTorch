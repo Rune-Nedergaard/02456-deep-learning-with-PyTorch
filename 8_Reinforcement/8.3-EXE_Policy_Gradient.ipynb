{
 "cells": [
  {
   "cell_type": "markdown",
   "metadata": {
    "id": "IWy7prGN2szz",
    "pycharm": {
     "name": "#%% md\n"
    }
   },
   "source": [
    "# Solve cartpole with REINFORCE\n",
    "\n",
    "> By Jonas Busk ([jbusk@dtu.dk](mailto:jbusk@dtu.dk))\n",
    "\n",
    "**2019 update:** Changes have been made to the display of environments due to the previous `viewer` being incompatible with newer versions of Gym.\n",
    "\n",
    "**2022 update:** Rendering was disabled, and the notebook now uses the `colabgymrender` package to render a video.\n",
    "\n",
    "In this part, we will create an agent that can learn to solve the [cartpole problem](https://gym.openai.com/envs/CartPole-v0/) from OpenAI Gym by applying a simple policy gradient method called REINFORCE.\n",
    "In the cartpole problem, we need to balance a pole on a cart that moves along a track by applying left and right forces to the cart.\n",
    "\n",
    "We will implement a probabilistic policy, that given a state of the environment, $s$, outputs a probability distribution over available actions, $a$:\n",
    "\n",
    "$$\n",
    "p_\\theta(a|s)\n",
    "$$\n",
    "\n",
    "The policy is a neural network with parameters $\\theta$ that can be trained with gradient descent.\n",
    "When the set of available actions is discrete, we can use a network with softmax output do describe the distribution.\n",
    "The core idea of training the policy network is quite simple: *we want to maximize the expected total reward by increasing the probability of good actions and decreasing the probability of bad actions*. \n",
    "\n",
    "To achieve this, we apply the gradient of the expected discounted total reward (return):\n",
    "\n",
    "$$\n",
    "\\begin{align}\n",
    "\\nabla_\\theta \\mathbb{E}[R|\\theta] &= \\nabla_\\theta \\int p_\\theta(a|s) R({a}) \\, da \\\\\n",
    "&= \\int \\nabla_\\theta p_\\theta(a|s) R(a)  \\, da \\\\\n",
    "&= \\int p_\\theta(a|s) \\nabla_\\theta \\log p_\\theta(a|s) R(a) \\, da \\\\\n",
    "&= \\mathbb{E}[\\nabla_\\theta \\log p_\\theta(a|s) R(a)]\n",
    "\\end{align}\n",
    "$$\n",
    "\n",
    "by definition of expectation and using the identity \n",
    "\n",
    "$$\n",
    "\\nabla_\\theta p_\\theta(a|s) = p_\\theta(a|s) \\nabla_\\theta \\log p_\\theta(a|s) \\ .\n",
    "$$\n",
    "\n",
    "The expectation cannot be evaluated analytically, but we have an environment simulator that when supplied with our current policy $p_\\theta(a|s)$ can return a sequence of *actions*, *states* and *rewards*. This allows us to replace the integral with a Monte Carlo average:\n",
    "\n",
    "$$\n",
    "\\nabla_\\theta \\mathbb{E}[R|\\theta] \\approx \\frac{1}{T} \\sum_{t=0}^T \\nabla_\\theta \\log p_\\theta(a_t|s_t) R_t \\ ,\n",
    "$$\n",
    "\n",
    "which is our final gradient estimator, also known as REINFORCE. In the Monte Carlo estimator we run the environment simulator for a predefined number of steps with actions chosen stochastically according to the current stochastic action network $p_\\theta(a|s)$."
   ]
  },
  {
   "cell_type": "markdown",
   "metadata": {
    "id": "irztTYN82sz3",
    "pycharm": {
     "name": "#%% md\n"
    }
   },
   "source": [
    "*Note: For simple reinforcement learning problems (like the one we will address in this exercise) there are simpler methods that work just fine. However, the Policy Gradient method (with some extensions) has been shown to also work well for complex problems with high dimensional inputs and many parameters, where simple methods become inadequate.*"
   ]
  },
  {
   "cell_type": "markdown",
   "metadata": {
    "id": "AMAe5Yg_2sz4",
    "pycharm": {
     "name": "#%% md\n"
    }
   },
   "source": [
    "## Policy gradient"
   ]
  },
  {
   "cell_type": "code",
   "execution_count": 6,
   "metadata": {
    "id": "wyxFQenM2zIa",
    "pycharm": {
     "name": "#%%\n"
    }
   },
   "outputs": [
    {
     "name": "stderr",
     "output_type": "stream",
     "text": [
      "Den angivne sti blev ikke fundet.\n",
      "Den angivne sti blev ikke fundet.\n",
      "Den angivne sti blev ikke fundet.\n",
      "Den angivne sti blev ikke fundet.\n"
     ]
    }
   ],
   "source": [
    "# Install colabgymrender to display gym environments in Colab\n",
    "!pip install gym[classic_control] > /dev/null 2>&1\n",
    "!apt-get install -y xvfb python-opengl ffmpeg > /dev/null 2>&1\n",
    "!pip install colabgymrender > /dev/null 2>&1\n",
    "!pip install imageio==2.4.1 > /dev/null 2>&1"
   ]
  },
  {
   "cell_type": "code",
   "execution_count": 1,
   "metadata": {
    "id": "FMWbaH112sz4",
    "pycharm": {
     "name": "#%%\n"
    }
   },
   "outputs": [],
   "source": [
    "%matplotlib inline\n",
    "import matplotlib.pyplot as plt\n",
    "import numpy as np\n",
    "import torch\n",
    "import torch.nn as nn\n",
    "import torch.optim as optim\n",
    "import torch.nn.functional as F\n",
    "import gym\n",
    "from gym import wrappers\n",
    "from colabgymrender.recorder import Recorder"
   ]
  },
  {
   "cell_type": "markdown",
   "metadata": {
    "id": "Mz4PCIhG2sz5",
    "pycharm": {
     "name": "#%% md\n"
    }
   },
   "source": [
    "First we create the environment:"
   ]
  },
  {
   "cell_type": "code",
   "execution_count": 2,
   "metadata": {
    "id": "uYHIc0nj2sz6",
    "pycharm": {
     "name": "#%%\n"
    }
   },
   "outputs": [],
   "source": [
    "env = gym.make('CartPole-v0') # Create environment"
   ]
  },
  {
   "cell_type": "markdown",
   "metadata": {
    "id": "j8Yb5-mS2sz6",
    "pycharm": {
     "name": "#%% md\n"
    }
   },
   "source": [
    "A state in this environment is four numbers describing the position and speed of the cart along with the angle and angular speed of the pole.\n",
    "\n",
    "There are two available actions: push the cart *left* or *right* encoded as 0 and 1."
   ]
  },
  {
   "cell_type": "code",
   "execution_count": 3,
   "metadata": {
    "id": "EZWKLzt_2sz7",
    "pycharm": {
     "name": "#%%\n"
    }
   },
   "outputs": [
    {
     "name": "stdout",
     "output_type": "stream",
     "text": [
      "sample state: (array([ 0.04801946,  0.0319193 ,  0.04596647, -0.01372412], dtype=float32), {})\n",
      "sample action: 1\n"
     ]
    }
   ],
   "source": [
    "s = env.reset()\n",
    "a = env.action_space.sample()\n",
    "print('sample state:', s)\n",
    "print('sample action:', a )"
   ]
  },
  {
   "cell_type": "markdown",
   "metadata": {
    "id": "fPd8OvGO2sz8",
    "pycharm": {
     "name": "#%% md\n"
    }
   },
   "source": [
    "Let us see how the environment looks when we just take random actions. Note that the episode ends when the pole either 1) is more than 15 degrees from vertical, 2) more outside of the frame or 3) the pole is successfully balanced for some fixed duration."
   ]
  },
  {
   "cell_type": "code",
   "execution_count": 9,
   "outputs": [],
   "source": [
    "env = gym.make('CartPole-v0')"
   ],
   "metadata": {
    "collapsed": false,
    "pycharm": {
     "name": "#%%\n"
    }
   }
  },
  {
   "cell_type": "code",
   "execution_count": 116,
   "outputs": [
    {
     "data": {
      "text/plain": "0"
     },
     "execution_count": 116,
     "metadata": {},
     "output_type": "execute_result"
    }
   ],
   "source": [
    "test = env.action_space.sample()\n",
    "test"
   ],
   "metadata": {
    "collapsed": false,
    "pycharm": {
     "name": "#%%\n"
    }
   }
  },
  {
   "cell_type": "code",
   "execution_count": 104,
   "outputs": [
    {
     "data": {
      "text/plain": "(array([ -7.729696 , -11.960764 ,   5.395343 ,   0.3295326], dtype=float32),\n 0.0,\n True,\n False,\n {})"
     },
     "execution_count": 104,
     "metadata": {},
     "output_type": "execute_result"
    }
   ],
   "source": [
    "env.step(test)"
   ],
   "metadata": {
    "collapsed": false,
    "pycharm": {
     "name": "#%%\n"
    }
   }
  },
  {
   "cell_type": "code",
   "execution_count": 5,
   "metadata": {
    "id": "kWRlBLeU2sz9",
    "pycharm": {
     "name": "#%%\n"
    }
   },
   "outputs": [
    {
     "ename": "TypeError",
     "evalue": "render() got an unexpected keyword argument 'mode'",
     "output_type": "error",
     "traceback": [
      "\u001B[1;31m---------------------------------------------------------------------------\u001B[0m",
      "\u001B[1;31mTypeError\u001B[0m                                 Traceback (most recent call last)",
      "Input \u001B[1;32mIn [5]\u001B[0m, in \u001B[0;36m<cell line: 2>\u001B[1;34m()\u001B[0m\n\u001B[0;32m      1\u001B[0m env \u001B[38;5;241m=\u001B[39m gym\u001B[38;5;241m.\u001B[39mmake(\u001B[38;5;124m'\u001B[39m\u001B[38;5;124mCartPole-v0\u001B[39m\u001B[38;5;124m'\u001B[39m) \u001B[38;5;66;03m# Create environment\u001B[39;00m\n\u001B[1;32m----> 2\u001B[0m env \u001B[38;5;241m=\u001B[39m \u001B[43mRecorder\u001B[49m\u001B[43m(\u001B[49m\u001B[43menv\u001B[49m\u001B[43m,\u001B[49m\u001B[43m \u001B[49m\u001B[38;5;124;43m\"\u001B[39;49m\u001B[38;5;124;43m./video\u001B[39;49m\u001B[38;5;124;43m\"\u001B[39;49m\u001B[43m)\u001B[49m \u001B[38;5;66;03m# To display environment in Colab\u001B[39;00m\n\u001B[0;32m      3\u001B[0m env\u001B[38;5;241m.\u001B[39mreset() \u001B[38;5;66;03m# Reset environment\u001B[39;00m\n\u001B[0;32m      5\u001B[0m \u001B[38;5;66;03m# Run environment\u001B[39;00m\n",
      "File \u001B[1;32m~\\anaconda3\\envs\\deep\\lib\\site-packages\\colabgymrender\\recorder.py:20\u001B[0m, in \u001B[0;36mRecorder.__init__\u001B[1;34m(self, env, directory, auto_release, size, fps)\u001B[0m\n\u001B[0;32m     18\u001B[0m \u001B[38;5;28;01mif\u001B[39;00m size \u001B[38;5;129;01mis\u001B[39;00m \u001B[38;5;28;01mNone\u001B[39;00m:\n\u001B[0;32m     19\u001B[0m     \u001B[38;5;28mself\u001B[39m\u001B[38;5;241m.\u001B[39menv\u001B[38;5;241m.\u001B[39mreset()\n\u001B[1;32m---> 20\u001B[0m     \u001B[38;5;28mself\u001B[39m\u001B[38;5;241m.\u001B[39msize \u001B[38;5;241m=\u001B[39m \u001B[38;5;28;43mself\u001B[39;49m\u001B[38;5;241;43m.\u001B[39;49m\u001B[43menv\u001B[49m\u001B[38;5;241;43m.\u001B[39;49m\u001B[43mrender\u001B[49m\u001B[43m(\u001B[49m\u001B[43mmode\u001B[49m\u001B[43m \u001B[49m\u001B[38;5;241;43m=\u001B[39;49m\u001B[43m \u001B[49m\u001B[38;5;124;43m'\u001B[39;49m\u001B[38;5;124;43mrgb_array\u001B[39;49m\u001B[38;5;124;43m'\u001B[39;49m\u001B[43m)\u001B[49m\u001B[38;5;241m.\u001B[39mshape[:\u001B[38;5;241m2\u001B[39m][::\u001B[38;5;241m-\u001B[39m\u001B[38;5;241m1\u001B[39m]\n\u001B[0;32m     21\u001B[0m \u001B[38;5;28;01melse\u001B[39;00m:\n\u001B[0;32m     22\u001B[0m     \u001B[38;5;28mself\u001B[39m\u001B[38;5;241m.\u001B[39msize \u001B[38;5;241m=\u001B[39m size\n",
      "File \u001B[1;32m~\\anaconda3\\envs\\deep\\lib\\site-packages\\gym\\core.py:329\u001B[0m, in \u001B[0;36mWrapper.render\u001B[1;34m(self, *args, **kwargs)\u001B[0m\n\u001B[0;32m    325\u001B[0m \u001B[38;5;28;01mdef\u001B[39;00m \u001B[38;5;21mrender\u001B[39m(\n\u001B[0;32m    326\u001B[0m     \u001B[38;5;28mself\u001B[39m, \u001B[38;5;241m*\u001B[39margs, \u001B[38;5;241m*\u001B[39m\u001B[38;5;241m*\u001B[39mkwargs\n\u001B[0;32m    327\u001B[0m ) \u001B[38;5;241m-\u001B[39m\u001B[38;5;241m>\u001B[39m Optional[Union[RenderFrame, List[RenderFrame]]]:\n\u001B[0;32m    328\u001B[0m     \u001B[38;5;124;03m\"\"\"Renders the environment.\"\"\"\u001B[39;00m\n\u001B[1;32m--> 329\u001B[0m     \u001B[38;5;28;01mreturn\u001B[39;00m \u001B[38;5;28mself\u001B[39m\u001B[38;5;241m.\u001B[39menv\u001B[38;5;241m.\u001B[39mrender(\u001B[38;5;241m*\u001B[39margs, \u001B[38;5;241m*\u001B[39m\u001B[38;5;241m*\u001B[39mkwargs)\n",
      "File \u001B[1;32m~\\anaconda3\\envs\\deep\\lib\\site-packages\\gym\\wrappers\\order_enforcing.py:51\u001B[0m, in \u001B[0;36mOrderEnforcing.render\u001B[1;34m(self, *args, **kwargs)\u001B[0m\n\u001B[0;32m     46\u001B[0m \u001B[38;5;28;01mif\u001B[39;00m \u001B[38;5;129;01mnot\u001B[39;00m \u001B[38;5;28mself\u001B[39m\u001B[38;5;241m.\u001B[39m_disable_render_order_enforcing \u001B[38;5;129;01mand\u001B[39;00m \u001B[38;5;129;01mnot\u001B[39;00m \u001B[38;5;28mself\u001B[39m\u001B[38;5;241m.\u001B[39m_has_reset:\n\u001B[0;32m     47\u001B[0m     \u001B[38;5;28;01mraise\u001B[39;00m ResetNeeded(\n\u001B[0;32m     48\u001B[0m         \u001B[38;5;124m\"\u001B[39m\u001B[38;5;124mCannot call `env.render()` before calling `env.reset()`, if this is a intended action, \u001B[39m\u001B[38;5;124m\"\u001B[39m\n\u001B[0;32m     49\u001B[0m         \u001B[38;5;124m\"\u001B[39m\u001B[38;5;124mset `disable_render_order_enforcing=True` on the OrderEnforcer wrapper.\u001B[39m\u001B[38;5;124m\"\u001B[39m\n\u001B[0;32m     50\u001B[0m     )\n\u001B[1;32m---> 51\u001B[0m \u001B[38;5;28;01mreturn\u001B[39;00m \u001B[38;5;28mself\u001B[39m\u001B[38;5;241m.\u001B[39menv\u001B[38;5;241m.\u001B[39mrender(\u001B[38;5;241m*\u001B[39margs, \u001B[38;5;241m*\u001B[39m\u001B[38;5;241m*\u001B[39mkwargs)\n",
      "File \u001B[1;32m~\\anaconda3\\envs\\deep\\lib\\site-packages\\gym\\wrappers\\env_checker.py:53\u001B[0m, in \u001B[0;36mPassiveEnvChecker.render\u001B[1;34m(self, *args, **kwargs)\u001B[0m\n\u001B[0;32m     51\u001B[0m \u001B[38;5;28;01mif\u001B[39;00m \u001B[38;5;28mself\u001B[39m\u001B[38;5;241m.\u001B[39mchecked_render \u001B[38;5;129;01mis\u001B[39;00m \u001B[38;5;28;01mFalse\u001B[39;00m:\n\u001B[0;32m     52\u001B[0m     \u001B[38;5;28mself\u001B[39m\u001B[38;5;241m.\u001B[39mchecked_render \u001B[38;5;241m=\u001B[39m \u001B[38;5;28;01mTrue\u001B[39;00m\n\u001B[1;32m---> 53\u001B[0m     \u001B[38;5;28;01mreturn\u001B[39;00m env_render_passive_checker(\u001B[38;5;28mself\u001B[39m\u001B[38;5;241m.\u001B[39menv, \u001B[38;5;241m*\u001B[39margs, \u001B[38;5;241m*\u001B[39m\u001B[38;5;241m*\u001B[39mkwargs)\n\u001B[0;32m     54\u001B[0m \u001B[38;5;28;01melse\u001B[39;00m:\n\u001B[0;32m     55\u001B[0m     \u001B[38;5;28;01mreturn\u001B[39;00m \u001B[38;5;28mself\u001B[39m\u001B[38;5;241m.\u001B[39menv\u001B[38;5;241m.\u001B[39mrender(\u001B[38;5;241m*\u001B[39margs, \u001B[38;5;241m*\u001B[39m\u001B[38;5;241m*\u001B[39mkwargs)\n",
      "File \u001B[1;32m~\\anaconda3\\envs\\deep\\lib\\site-packages\\gym\\utils\\passive_env_checker.py:316\u001B[0m, in \u001B[0;36menv_render_passive_checker\u001B[1;34m(env, *args, **kwargs)\u001B[0m\n\u001B[0;32m    310\u001B[0m     \u001B[38;5;28;01melse\u001B[39;00m:\n\u001B[0;32m    311\u001B[0m         \u001B[38;5;28;01massert\u001B[39;00m env\u001B[38;5;241m.\u001B[39mrender_mode \u001B[38;5;129;01mis\u001B[39;00m \u001B[38;5;28;01mNone\u001B[39;00m \u001B[38;5;129;01mor\u001B[39;00m env\u001B[38;5;241m.\u001B[39mrender_mode \u001B[38;5;129;01min\u001B[39;00m render_modes, (\n\u001B[0;32m    312\u001B[0m             \u001B[38;5;124m\"\u001B[39m\u001B[38;5;124mThe environment was initialized successfully however with an unsupported render mode. \u001B[39m\u001B[38;5;124m\"\u001B[39m\n\u001B[0;32m    313\u001B[0m             \u001B[38;5;124mf\u001B[39m\u001B[38;5;124m\"\u001B[39m\u001B[38;5;124mRender mode: \u001B[39m\u001B[38;5;132;01m{\u001B[39;00menv\u001B[38;5;241m.\u001B[39mrender_mode\u001B[38;5;132;01m}\u001B[39;00m\u001B[38;5;124m, modes: \u001B[39m\u001B[38;5;132;01m{\u001B[39;00mrender_modes\u001B[38;5;132;01m}\u001B[39;00m\u001B[38;5;124m\"\u001B[39m\n\u001B[0;32m    314\u001B[0m         )\n\u001B[1;32m--> 316\u001B[0m result \u001B[38;5;241m=\u001B[39m env\u001B[38;5;241m.\u001B[39mrender(\u001B[38;5;241m*\u001B[39margs, \u001B[38;5;241m*\u001B[39m\u001B[38;5;241m*\u001B[39mkwargs)\n\u001B[0;32m    318\u001B[0m \u001B[38;5;66;03m# TODO: Check that the result is correct\u001B[39;00m\n\u001B[0;32m    320\u001B[0m \u001B[38;5;28;01mreturn\u001B[39;00m result\n",
      "\u001B[1;31mTypeError\u001B[0m: render() got an unexpected keyword argument 'mode'"
     ]
    }
   ],
   "source": [
    "env = gym.make('CartPole-v0') # Create environment\n",
    "#env = Recorder(env, \"./video\") # To display environment in Colab\n",
    "env.reset() # Reset environment\n",
    "\n",
    "# Run environment\n",
    "while True:\n",
    "    action = env.action_space.sample() # Get a random action\n",
    "    _, _, done, _, _ = env.step(action) # Take a step\n",
    "    if done: break # Break if environment is done\n",
    "\n",
    "env.close() # Close environment\n",
    "#env.play()"
   ]
  },
  {
   "cell_type": "markdown",
   "metadata": {
    "id": "iqrRget72sz9",
    "pycharm": {
     "name": "#%% md\n"
    }
   },
   "source": [
    "Taking random actions does not do a very good job at balancing the pole. Let us now apply the Policy Gradient method described above to solve this task!\n",
    "\n",
    "Let's first define our network and helper functions."
   ]
  },
  {
   "cell_type": "code",
   "execution_count": 122,
   "metadata": {
    "id": "wvTfsDke2sz-",
    "pycharm": {
     "name": "#%%\n"
    }
   },
   "outputs": [],
   "source": [
    "class PolicyNet(nn.Module):\n",
    "    \"\"\"Policy network\"\"\"\n",
    "\n",
    "    def __init__(self, n_inputs, n_hidden, n_outputs, learning_rate):\n",
    "        super(PolicyNet, self).__init__()\n",
    "        # network\n",
    "        self.hidden = nn.Linear(n_inputs, n_hidden)\n",
    "        self.out = nn.Linear(n_hidden, n_outputs)\n",
    "        # training\n",
    "        self.optimizer = optim.Adam(self.parameters(), lr=learning_rate)\n",
    "\n",
    "    def forward(self, x):\n",
    "        x = self.hidden(x)\n",
    "        x = F.relu(x)\n",
    "        x = self.out(x)\n",
    "        return F.softmax(x, dim=1)\n",
    "    \n",
    "    def loss(self, action_probabilities, returns):\n",
    "        return -torch.mean(torch.mul(torch.log(action_probabilities), returns))"
   ]
  },
  {
   "cell_type": "code",
   "execution_count": 123,
   "metadata": {
    "id": "QlTn_jfz2sz-",
    "pycharm": {
     "name": "#%%\n"
    }
   },
   "outputs": [],
   "source": [
    "def compute_returns(rewards, discount_factor):\n",
    "    \"\"\"Compute discounted returns.\"\"\"\n",
    "    returns = np.zeros(len(rewards))\n",
    "    returns[-1] = rewards[-1]\n",
    "    for t in reversed(range(len(rewards)-1)):\n",
    "        returns[t] = rewards[t] + discount_factor * returns[t+1]\n",
    "    return returns"
   ]
  },
  {
   "cell_type": "markdown",
   "metadata": {
    "id": "N7zKfnfP2sz-",
    "pycharm": {
     "name": "#%% md\n"
    }
   },
   "source": [
    "To start with, our policy will be a rather simple neural network with one hidden layer. We can retrieve the shape of the state space (input) and action space (output) from the environment."
   ]
  },
  {
   "cell_type": "code",
   "execution_count": 124,
   "metadata": {
    "id": "mYst7A5k2sz_",
    "pycharm": {
     "name": "#%%\n"
    }
   },
   "outputs": [
    {
     "name": "stdout",
     "output_type": "stream",
     "text": [
      "state shape: 4\n",
      "action shape: 2\n"
     ]
    }
   ],
   "source": [
    "n_inputs = env.observation_space.shape[0]\n",
    "n_hidden = 20\n",
    "n_outputs = env.action_space.n\n",
    "\n",
    "print('state shape:', n_inputs)\n",
    "print('action shape:', n_outputs)"
   ]
  },
  {
   "cell_type": "code",
   "execution_count": 125,
   "metadata": {
    "id": "tw6q53qL2sz_",
    "pycharm": {
     "name": "#%%\n"
    }
   },
   "outputs": [
    {
     "name": "stdout",
     "output_type": "stream",
     "text": [
      "start training\n"
     ]
    },
    {
     "ename": "TypeError",
     "evalue": "can't convert np.ndarray of type numpy.object_. The only supported types are: float64, float32, float16, complex64, complex128, int64, int32, int16, int8, uint8, and bool.",
     "output_type": "error",
     "traceback": [
      "\u001B[1;31m---------------------------------------------------------------------------\u001B[0m",
      "\u001B[1;31mTypeError\u001B[0m                                 Traceback (most recent call last)",
      "Input \u001B[1;32mIn [125]\u001B[0m, in \u001B[0;36m<cell line: 15>\u001B[1;34m()\u001B[0m\n\u001B[0;32m     21\u001B[0m \u001B[38;5;28;01mfor\u001B[39;00m j \u001B[38;5;129;01min\u001B[39;00m \u001B[38;5;28mrange\u001B[39m(rollout_limit):\n\u001B[0;32m     22\u001B[0m     \u001B[38;5;66;03m# generate rollout by iteratively evaluating the current policy on the environment\u001B[39;00m\n\u001B[0;32m     23\u001B[0m     \u001B[38;5;28;01mwith\u001B[39;00m torch\u001B[38;5;241m.\u001B[39mno_grad():\n\u001B[1;32m---> 24\u001B[0m         a_prob \u001B[38;5;241m=\u001B[39m policy(\u001B[43mtorch\u001B[49m\u001B[38;5;241;43m.\u001B[39;49m\u001B[43mfrom_numpy\u001B[49m\u001B[43m(\u001B[49m\u001B[43mnp\u001B[49m\u001B[38;5;241;43m.\u001B[39;49m\u001B[43matleast_2d\u001B[49m\u001B[43m(\u001B[49m\u001B[43ms\u001B[49m\u001B[43m)\u001B[49m\u001B[43m)\u001B[49m\u001B[38;5;241m.\u001B[39mfloat())\n\u001B[0;32m     25\u001B[0m         a \u001B[38;5;241m=\u001B[39m torch\u001B[38;5;241m.\u001B[39mmultinomial(a_prob, num_samples\u001B[38;5;241m=\u001B[39m\u001B[38;5;241m1\u001B[39m)\u001B[38;5;241m.\u001B[39msqueeze()\u001B[38;5;241m.\u001B[39mnumpy()\n\u001B[0;32m     26\u001B[0m     s1, r, done, _ \u001B[38;5;241m=\u001B[39m env\u001B[38;5;241m.\u001B[39mstep(a)\n",
      "\u001B[1;31mTypeError\u001B[0m: can't convert np.ndarray of type numpy.object_. The only supported types are: float64, float32, float16, complex64, complex128, int64, int32, int16, int8, uint8, and bool."
     ]
    }
   ],
   "source": [
    "# training settings\n",
    "\n",
    "num_episodes = 800\n",
    "rollout_limit = 500 # max rollout length\n",
    "discount_factor = 1.0 # reward discount factor (gamma), 1.0 = no discount\n",
    "learning_rate = 0.001 # you know this by now\n",
    "val_freq = 100 # validation frequency\n",
    "\n",
    "# setup policy network\n",
    "\n",
    "policy = PolicyNet(n_inputs, n_hidden, n_outputs, learning_rate)\n",
    "\n",
    "# train policy network\n",
    "\n",
    "try:\n",
    "    training_rewards, losses = [], []\n",
    "    print('start training')\n",
    "    for i in range(num_episodes):\n",
    "        rollout = []\n",
    "        s = env.reset()\n",
    "        for j in range(rollout_limit):\n",
    "            # generate rollout by iteratively evaluating the current policy on the environment\n",
    "            with torch.no_grad():\n",
    "                a_prob = policy(torch.from_numpy(np.atleast_2d(s)).float())\n",
    "                a = torch.multinomial(a_prob, num_samples=1).squeeze().numpy()\n",
    "            s1, r, done, _ = env.step(a)\n",
    "            rollout.append((s, a, r))\n",
    "            s = s1\n",
    "            if done: break\n",
    "        # prepare batch\n",
    "        rollout = np.array(rollout)\n",
    "        states = np.vstack(rollout[:,0])\n",
    "        actions = np.vstack(rollout[:,1])\n",
    "        rewards = np.array(rollout[:,2], dtype=float)\n",
    "        returns = compute_returns(rewards, discount_factor)\n",
    "        # policy gradient update\n",
    "        policy.optimizer.zero_grad()\n",
    "        a_probs = policy(torch.from_numpy(states).float()).gather(1, torch.from_numpy(actions)).view(-1)\n",
    "        loss = policy.loss(a_probs, torch.from_numpy(returns).float())\n",
    "        loss.backward()\n",
    "        policy.optimizer.step()\n",
    "        # bookkeeping\n",
    "        training_rewards.append(sum(rewards))\n",
    "        losses.append(loss.item())\n",
    "        # print\n",
    "        if (i+1) % val_freq == 0:\n",
    "            # validation\n",
    "            validation_rewards = []\n",
    "            for _ in range(10):\n",
    "                s = env.reset()\n",
    "                reward = 0\n",
    "                for _ in range(rollout_limit):\n",
    "                    with torch.no_grad():\n",
    "                        a_prob = policy(torch.from_numpy(np.atleast_2d(s)).float())\n",
    "                        a = a_prob.argmax().item()\n",
    "                    s, r, done, _ = env.step(a)\n",
    "                    reward += r\n",
    "                    if done: break\n",
    "                validation_rewards.append(reward)\n",
    "            print('{:4d}. mean training reward: {:6.2f}, mean validation reward: {:6.2f}, mean loss: {:7.4f}'.format(i+1, np.mean(training_rewards[-val_freq:]), np.mean(validation_rewards), np.mean(losses[-val_freq:])))\n",
    "    print('done')\n",
    "except KeyboardInterrupt:\n",
    "    print('interrupt')    "
   ]
  },
  {
   "cell_type": "code",
   "execution_count": null,
   "metadata": {
    "id": "gRB76WVf2sz_",
    "pycharm": {
     "name": "#%%\n"
    }
   },
   "outputs": [],
   "source": [
    "# plot results\n",
    "def moving_average(a, n=10) :\n",
    "    ret = np.cumsum(a, dtype=float)\n",
    "    ret[n:] = ret[n:] - ret[:-n]\n",
    "    return ret / n\n",
    "\n",
    "plt.figure(figsize=(16,6))\n",
    "plt.subplot(211)\n",
    "plt.plot(range(1, len(training_rewards)+1), training_rewards, label='training reward')\n",
    "plt.plot(moving_average(training_rewards))\n",
    "plt.xlabel('episode'); plt.ylabel('reward')\n",
    "plt.xlim((0, len(training_rewards)))\n",
    "plt.legend(loc=4); plt.grid()\n",
    "plt.subplot(212)\n",
    "plt.plot(range(1, len(losses)+1), losses, label='loss')\n",
    "plt.plot(moving_average(losses))\n",
    "plt.xlabel('episode'); plt.ylabel('loss')\n",
    "plt.xlim((0, len(losses)))\n",
    "plt.legend(loc=4); plt.grid()\n",
    "plt.tight_layout(); plt.show()"
   ]
  },
  {
   "cell_type": "markdown",
   "metadata": {
    "id": "pzDNgqUt2sz_",
    "pycharm": {
     "name": "#%% md\n"
    }
   },
   "source": [
    "Now let's review the solution!"
   ]
  },
  {
   "cell_type": "code",
   "execution_count": null,
   "metadata": {
    "id": "aQn788ll2s0A",
    "pycharm": {
     "name": "#%%\n"
    }
   },
   "outputs": [],
   "source": [
    "env = Recorder(env, \"./gym-results\") # wrappers.Monitor(env, \"./gym-results\", force=True) # Create wrapper to display environment\n",
    "s = env.reset()\n",
    "\n",
    "for _ in range(500):\n",
    "    a = policy(torch.from_numpy(np.atleast_2d(s)).float()).argmax().item()\n",
    "    s, r, done, _ = env.step(a)\n",
    "    if done: break\n",
    "    \n",
    "# env.close()\n",
    "env.play()"
   ]
  },
  {
   "cell_type": "markdown",
   "metadata": {
    "id": "rv6QJUYS2s0A",
    "pycharm": {
     "name": "#%% md\n"
    }
   },
   "source": [
    "## Reducing variance\n",
    "\n",
    "By default, this gradient estimator has high variance and therefore variance reduction becomes important to learn more complex tasks.\n",
    "We can reduce variance by subtracting a baseline from the returns, which is unbiased in expectation:\n",
    "\n",
    "$$\n",
    "\\nabla_\\theta \\mathbb{E}[R|\\theta] \\approx \\frac{1}{T} \\sum_{t=0}^T \\nabla_\\theta \\log p_\\theta(a_t|s_t) (R_t-b_t) \\ ,\n",
    "$$\n",
    "\n",
    "where the baseline, $b_t$, is estimated by the return a timestep $t$ averaged over $V$ rollouts.\n",
    "\n",
    "$$\n",
    "b_t = \\frac{1}{V} \\sum_{v=1}^V R_t^{(v)} \\ .\n",
    "$$"
   ]
  },
  {
   "cell_type": "markdown",
   "metadata": {
    "id": "MI55gTO-2s0A",
    "pycharm": {
     "name": "#%% md\n"
    }
   },
   "source": [
    "## Exercises\n",
    "\n",
    "Now it is your turn! Make sure you read and understand the code, then play around with it and try to make it learn better and faster.\n",
    "\n",
    "Experiment with the:\n",
    "\n",
    "* number of episodes\n",
    "* discount factor\n",
    "* learning rate\n",
    "* network layers\n",
    "\n",
    "\n",
    "### Exercise 1 \n",
    "\n",
    "*Describe any changes you made to the code and why you think they improve the agent. Are you able to get solutions consistently?*\n",
    "\n",
    "**Answer:**\n",
    "\n",
    "*Answer here...*\n",
    "\n",
    "### Exercise 2 \n",
    "\n",
    "*Consider the following sequence of rewards produced by an agent interacting with an environment for 10 timesteps:*\n",
    "\n",
    "[0, 1, 1, 1, 0, 1, 1, 0, 0, 0]\n",
    "\n",
    "* *What is the total reward?*\n",
    "* *What is the total future reward in each timestep?*\n",
    "* *What is the discounted future reward in each timestep if $\\gamma = 0.9$?*\n",
    "\n",
    "*Hint: See introdution notebook.*\n",
    "\n",
    "**Answer:**\n",
    "\n",
    "*Answer here...*\n",
    "\n",
    "### Exercise 3\n",
    "\n",
    "*In the training output, you will sometimes observe the validation reward starts out lower than the training reward but as training progresses they cross over and the validation reward becomes higher than the training reward. How can you explain this behavior?*\n",
    "\n",
    "*Hint: Do we use the policy network in the same way during training and validation?*\n",
    "\n",
    "**Answer:**\n",
    "\n",
    "*Answer here...*\n",
    "\n",
    "### Exercise 4\n",
    "\n",
    "*How does the policy gradient method we have used address the exploration-exploitation dilemma?*\n",
    "\n",
    "*Hint: See the introduction notebook about exploration-exploitation.*\n",
    "\n",
    "**Answer:**\n",
    "\n",
    "*Answer here...*\n",
    "\n",
    "### Exercise 5 [optional]\n",
    "\n",
    "Extend the code above to reduce variance of the gradient estimator by computing and subtracting the baseline estimate. \n",
    "\n",
    "*Hint: You need to sample a batch of rollouts (now we sample just one) for each update in order to compute the baseline, $b_t$.*"
   ]
  }
 ],
 "metadata": {
  "kernelspec": {
   "display_name": "Python 3 (ipykernel)",
   "language": "python",
   "name": "python3"
  },
  "language_info": {
   "codemirror_mode": {
    "name": "ipython",
    "version": 3
   },
   "file_extension": ".py",
   "mimetype": "text/x-python",
   "name": "python",
   "nbconvert_exporter": "python",
   "pygments_lexer": "ipython3",
   "version": "3.10.6"
  }
 },
 "nbformat": 4,
 "nbformat_minor": 1
}